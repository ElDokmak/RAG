{
  "nbformat": 4,
  "nbformat_minor": 0,
  "metadata": {
    "colab": {
      "provenance": [],
      "gpuType": "T4"
    },
    "kernelspec": {
      "name": "python3",
      "display_name": "Python 3"
    },
    "language_info": {
      "name": "python"
    },
    "accelerator": "GPU"
  },
  "cells": [
    {
      "cell_type": "code",
      "execution_count": 1,
      "metadata": {
        "colab": {
          "base_uri": "https://localhost:8080/"
        },
        "id": "xqO9dGc5Z-8K",
        "outputId": "e447ab00-4301-4aef-8ee4-6fa16af3ada8"
      },
      "outputs": [
        {
          "output_type": "stream",
          "name": "stdout",
          "text": [
            "Requirement already satisfied: pip in /usr/local/lib/python3.10/dist-packages (23.1.2)\n",
            "Collecting install\n",
            "  Downloading install-1.3.5-py3-none-any.whl (3.2 kB)\n",
            "Requirement already satisfied: openai==0.28 in /usr/local/lib/python3.10/dist-packages (0.28.0)\n",
            "Requirement already satisfied: langchain in /usr/local/lib/python3.10/dist-packages (0.1.16)\n",
            "Requirement already satisfied: faiss-cpu in /usr/local/lib/python3.10/dist-packages (1.8.0)\n",
            "Requirement already satisfied: tiktoken in /usr/local/lib/python3.10/dist-packages (0.6.0)\n",
            "Requirement already satisfied: requests>=2.20 in /usr/local/lib/python3.10/dist-packages (from openai==0.28) (2.31.0)\n",
            "Requirement already satisfied: tqdm in /usr/local/lib/python3.10/dist-packages (from openai==0.28) (4.66.2)\n",
            "Requirement already satisfied: aiohttp in /usr/local/lib/python3.10/dist-packages (from openai==0.28) (3.9.5)\n",
            "Requirement already satisfied: PyYAML>=5.3 in /usr/local/lib/python3.10/dist-packages (from langchain) (6.0.1)\n",
            "Requirement already satisfied: SQLAlchemy<3,>=1.4 in /usr/local/lib/python3.10/dist-packages (from langchain) (2.0.29)\n",
            "Requirement already satisfied: async-timeout<5.0.0,>=4.0.0 in /usr/local/lib/python3.10/dist-packages (from langchain) (4.0.3)\n",
            "Requirement already satisfied: dataclasses-json<0.7,>=0.5.7 in /usr/local/lib/python3.10/dist-packages (from langchain) (0.6.5)\n",
            "Requirement already satisfied: jsonpatch<2.0,>=1.33 in /usr/local/lib/python3.10/dist-packages (from langchain) (1.33)\n",
            "Requirement already satisfied: langchain-community<0.1,>=0.0.32 in /usr/local/lib/python3.10/dist-packages (from langchain) (0.0.34)\n",
            "Requirement already satisfied: langchain-core<0.2.0,>=0.1.42 in /usr/local/lib/python3.10/dist-packages (from langchain) (0.1.46)\n",
            "Requirement already satisfied: langchain-text-splitters<0.1,>=0.0.1 in /usr/local/lib/python3.10/dist-packages (from langchain) (0.0.1)\n",
            "Requirement already satisfied: langsmith<0.2.0,>=0.1.17 in /usr/local/lib/python3.10/dist-packages (from langchain) (0.1.51)\n",
            "Requirement already satisfied: numpy<2,>=1 in /usr/local/lib/python3.10/dist-packages (from langchain) (1.25.2)\n",
            "Requirement already satisfied: pydantic<3,>=1 in /usr/local/lib/python3.10/dist-packages (from langchain) (2.7.0)\n",
            "Requirement already satisfied: tenacity<9.0.0,>=8.1.0 in /usr/local/lib/python3.10/dist-packages (from langchain) (8.2.3)\n",
            "Requirement already satisfied: regex>=2022.1.18 in /usr/local/lib/python3.10/dist-packages (from tiktoken) (2023.12.25)\n",
            "Requirement already satisfied: aiosignal>=1.1.2 in /usr/local/lib/python3.10/dist-packages (from aiohttp->openai==0.28) (1.3.1)\n",
            "Requirement already satisfied: attrs>=17.3.0 in /usr/local/lib/python3.10/dist-packages (from aiohttp->openai==0.28) (23.2.0)\n",
            "Requirement already satisfied: frozenlist>=1.1.1 in /usr/local/lib/python3.10/dist-packages (from aiohttp->openai==0.28) (1.4.1)\n",
            "Requirement already satisfied: multidict<7.0,>=4.5 in /usr/local/lib/python3.10/dist-packages (from aiohttp->openai==0.28) (6.0.5)\n",
            "Requirement already satisfied: yarl<2.0,>=1.0 in /usr/local/lib/python3.10/dist-packages (from aiohttp->openai==0.28) (1.9.4)\n",
            "Requirement already satisfied: marshmallow<4.0.0,>=3.18.0 in /usr/local/lib/python3.10/dist-packages (from dataclasses-json<0.7,>=0.5.7->langchain) (3.21.1)\n",
            "Requirement already satisfied: typing-inspect<1,>=0.4.0 in /usr/local/lib/python3.10/dist-packages (from dataclasses-json<0.7,>=0.5.7->langchain) (0.9.0)\n",
            "Requirement already satisfied: jsonpointer>=1.9 in /usr/local/lib/python3.10/dist-packages (from jsonpatch<2.0,>=1.33->langchain) (2.4)\n",
            "Requirement already satisfied: packaging<24.0,>=23.2 in /usr/local/lib/python3.10/dist-packages (from langchain-core<0.2.0,>=0.1.42->langchain) (23.2)\n",
            "Requirement already satisfied: orjson<4.0.0,>=3.9.14 in /usr/local/lib/python3.10/dist-packages (from langsmith<0.2.0,>=0.1.17->langchain) (3.10.1)\n",
            "Requirement already satisfied: annotated-types>=0.4.0 in /usr/local/lib/python3.10/dist-packages (from pydantic<3,>=1->langchain) (0.6.0)\n",
            "Requirement already satisfied: pydantic-core==2.18.1 in /usr/local/lib/python3.10/dist-packages (from pydantic<3,>=1->langchain) (2.18.1)\n",
            "Requirement already satisfied: typing-extensions>=4.6.1 in /usr/local/lib/python3.10/dist-packages (from pydantic<3,>=1->langchain) (4.11.0)\n",
            "Requirement already satisfied: charset-normalizer<4,>=2 in /usr/local/lib/python3.10/dist-packages (from requests>=2.20->openai==0.28) (3.3.2)\n",
            "Requirement already satisfied: idna<4,>=2.5 in /usr/local/lib/python3.10/dist-packages (from requests>=2.20->openai==0.28) (3.7)\n",
            "Requirement already satisfied: urllib3<3,>=1.21.1 in /usr/local/lib/python3.10/dist-packages (from requests>=2.20->openai==0.28) (2.0.7)\n",
            "Requirement already satisfied: certifi>=2017.4.17 in /usr/local/lib/python3.10/dist-packages (from requests>=2.20->openai==0.28) (2024.2.2)\n",
            "Requirement already satisfied: greenlet!=0.4.17 in /usr/local/lib/python3.10/dist-packages (from SQLAlchemy<3,>=1.4->langchain) (3.0.3)\n",
            "Requirement already satisfied: mypy-extensions>=0.3.0 in /usr/local/lib/python3.10/dist-packages (from typing-inspect<1,>=0.4.0->dataclasses-json<0.7,>=0.5.7->langchain) (1.0.0)\n",
            "Installing collected packages: install\n",
            "Successfully installed install-1.3.5\n"
          ]
        }
      ],
      "source": [
        "!pip install pip install openai==0.28 langchain faiss-cpu tiktoken"
      ]
    },
    {
      "cell_type": "code",
      "source": [
        "from google.colab import userdata\n",
        "userdata.get('OPENAI_API_KEY')"
      ],
      "metadata": {
        "id": "jwfi7TjPbbu9"
      },
      "execution_count": null,
      "outputs": []
    },
    {
      "cell_type": "code",
      "source": [
        "!pip install requests scrapy selenium"
      ],
      "metadata": {
        "colab": {
          "base_uri": "https://localhost:8080/"
        },
        "id": "h4sTPeu4bq4u",
        "outputId": "4aad099f-6638-48ce-805b-a52969b882d1"
      },
      "execution_count": 3,
      "outputs": [
        {
          "output_type": "stream",
          "name": "stdout",
          "text": [
            "Requirement already satisfied: requests in /usr/local/lib/python3.10/dist-packages (2.31.0)\n",
            "Requirement already satisfied: scrapy in /usr/local/lib/python3.10/dist-packages (2.11.1)\n",
            "Requirement already satisfied: selenium in /usr/local/lib/python3.10/dist-packages (4.20.0)\n",
            "Requirement already satisfied: charset-normalizer<4,>=2 in /usr/local/lib/python3.10/dist-packages (from requests) (3.3.2)\n",
            "Requirement already satisfied: idna<4,>=2.5 in /usr/local/lib/python3.10/dist-packages (from requests) (3.7)\n",
            "Requirement already satisfied: urllib3<3,>=1.21.1 in /usr/local/lib/python3.10/dist-packages (from requests) (2.0.7)\n",
            "Requirement already satisfied: certifi>=2017.4.17 in /usr/local/lib/python3.10/dist-packages (from requests) (2024.2.2)\n",
            "Requirement already satisfied: Twisted>=18.9.0 in /usr/local/lib/python3.10/dist-packages (from scrapy) (24.3.0)\n",
            "Requirement already satisfied: cryptography>=36.0.0 in /usr/local/lib/python3.10/dist-packages (from scrapy) (42.0.5)\n",
            "Requirement already satisfied: cssselect>=0.9.1 in /usr/local/lib/python3.10/dist-packages (from scrapy) (1.2.0)\n",
            "Requirement already satisfied: itemloaders>=1.0.1 in /usr/local/lib/python3.10/dist-packages (from scrapy) (1.2.0)\n",
            "Requirement already satisfied: parsel>=1.5.0 in /usr/local/lib/python3.10/dist-packages (from scrapy) (1.9.1)\n",
            "Requirement already satisfied: pyOpenSSL>=21.0.0 in /usr/local/lib/python3.10/dist-packages (from scrapy) (24.1.0)\n",
            "Requirement already satisfied: queuelib>=1.4.2 in /usr/local/lib/python3.10/dist-packages (from scrapy) (1.6.2)\n",
            "Requirement already satisfied: service-identity>=18.1.0 in /usr/local/lib/python3.10/dist-packages (from scrapy) (24.1.0)\n",
            "Requirement already satisfied: w3lib>=1.17.0 in /usr/local/lib/python3.10/dist-packages (from scrapy) (2.1.2)\n",
            "Requirement already satisfied: zope.interface>=5.1.0 in /usr/local/lib/python3.10/dist-packages (from scrapy) (6.3)\n",
            "Requirement already satisfied: protego>=0.1.15 in /usr/local/lib/python3.10/dist-packages (from scrapy) (0.3.1)\n",
            "Requirement already satisfied: itemadapter>=0.1.0 in /usr/local/lib/python3.10/dist-packages (from scrapy) (0.8.0)\n",
            "Requirement already satisfied: setuptools in /usr/local/lib/python3.10/dist-packages (from scrapy) (67.7.2)\n",
            "Requirement already satisfied: packaging in /usr/local/lib/python3.10/dist-packages (from scrapy) (23.2)\n",
            "Requirement already satisfied: tldextract in /usr/local/lib/python3.10/dist-packages (from scrapy) (5.1.2)\n",
            "Requirement already satisfied: lxml>=4.4.1 in /usr/local/lib/python3.10/dist-packages (from scrapy) (4.9.4)\n",
            "Requirement already satisfied: PyDispatcher>=2.0.5 in /usr/local/lib/python3.10/dist-packages (from scrapy) (2.0.7)\n",
            "Requirement already satisfied: trio~=0.17 in /usr/local/lib/python3.10/dist-packages (from selenium) (0.25.0)\n",
            "Requirement already satisfied: trio-websocket~=0.9 in /usr/local/lib/python3.10/dist-packages (from selenium) (0.11.1)\n",
            "Requirement already satisfied: typing_extensions>=4.9.0 in /usr/local/lib/python3.10/dist-packages (from selenium) (4.11.0)\n",
            "Requirement already satisfied: cffi>=1.12 in /usr/local/lib/python3.10/dist-packages (from cryptography>=36.0.0->scrapy) (1.16.0)\n",
            "Requirement already satisfied: jmespath>=0.9.5 in /usr/local/lib/python3.10/dist-packages (from itemloaders>=1.0.1->scrapy) (1.0.1)\n",
            "Requirement already satisfied: attrs>=19.1.0 in /usr/local/lib/python3.10/dist-packages (from service-identity>=18.1.0->scrapy) (23.2.0)\n",
            "Requirement already satisfied: pyasn1 in /usr/local/lib/python3.10/dist-packages (from service-identity>=18.1.0->scrapy) (0.6.0)\n",
            "Requirement already satisfied: pyasn1-modules in /usr/local/lib/python3.10/dist-packages (from service-identity>=18.1.0->scrapy) (0.4.0)\n",
            "Requirement already satisfied: sortedcontainers in /usr/local/lib/python3.10/dist-packages (from trio~=0.17->selenium) (2.4.0)\n",
            "Requirement already satisfied: outcome in /usr/local/lib/python3.10/dist-packages (from trio~=0.17->selenium) (1.3.0.post0)\n",
            "Requirement already satisfied: sniffio>=1.3.0 in /usr/local/lib/python3.10/dist-packages (from trio~=0.17->selenium) (1.3.1)\n",
            "Requirement already satisfied: exceptiongroup in /usr/local/lib/python3.10/dist-packages (from trio~=0.17->selenium) (1.2.1)\n",
            "Requirement already satisfied: wsproto>=0.14 in /usr/local/lib/python3.10/dist-packages (from trio-websocket~=0.9->selenium) (1.2.0)\n",
            "Requirement already satisfied: automat>=0.8.0 in /usr/local/lib/python3.10/dist-packages (from Twisted>=18.9.0->scrapy) (22.10.0)\n",
            "Requirement already satisfied: constantly>=15.1 in /usr/local/lib/python3.10/dist-packages (from Twisted>=18.9.0->scrapy) (23.10.4)\n",
            "Requirement already satisfied: hyperlink>=17.1.1 in /usr/local/lib/python3.10/dist-packages (from Twisted>=18.9.0->scrapy) (21.0.0)\n",
            "Requirement already satisfied: incremental>=22.10.0 in /usr/local/lib/python3.10/dist-packages (from Twisted>=18.9.0->scrapy) (22.10.0)\n",
            "Requirement already satisfied: pysocks!=1.5.7,<2.0,>=1.5.6 in /usr/local/lib/python3.10/dist-packages (from urllib3<3,>=1.21.1->requests) (1.7.1)\n",
            "Requirement already satisfied: requests-file>=1.4 in /usr/local/lib/python3.10/dist-packages (from tldextract->scrapy) (2.0.0)\n",
            "Requirement already satisfied: filelock>=3.0.8 in /usr/local/lib/python3.10/dist-packages (from tldextract->scrapy) (3.13.4)\n",
            "Requirement already satisfied: six in /usr/local/lib/python3.10/dist-packages (from automat>=0.8.0->Twisted>=18.9.0->scrapy) (1.16.0)\n",
            "Requirement already satisfied: pycparser in /usr/local/lib/python3.10/dist-packages (from cffi>=1.12->cryptography>=36.0.0->scrapy) (2.22)\n",
            "Requirement already satisfied: h11<1,>=0.9.0 in /usr/local/lib/python3.10/dist-packages (from wsproto>=0.14->trio-websocket~=0.9->selenium) (0.14.0)\n"
          ]
        }
      ]
    },
    {
      "cell_type": "code",
      "source": [
        "!apt install chromium-chromedriver"
      ],
      "metadata": {
        "colab": {
          "base_uri": "https://localhost:8080/"
        },
        "id": "HrOY65WMb5Ll",
        "outputId": "6d1a5d1f-f389-4eb7-e191-8cd05580bd01"
      },
      "execution_count": 6,
      "outputs": [
        {
          "output_type": "stream",
          "name": "stdout",
          "text": [
            "Reading package lists... Done\n",
            "Building dependency tree... Done\n",
            "Reading state information... Done\n",
            "The following additional packages will be installed:\n",
            "  apparmor chromium-browser libfuse3-3 liblzo2-2 libudev1 snapd squashfs-tools systemd-hwe-hwdb\n",
            "  udev\n",
            "Suggested packages:\n",
            "  apparmor-profiles-extra apparmor-utils fuse3 zenity | kdialog\n",
            "The following NEW packages will be installed:\n",
            "  apparmor chromium-browser chromium-chromedriver libfuse3-3 liblzo2-2 snapd squashfs-tools\n",
            "  systemd-hwe-hwdb udev\n",
            "The following packages will be upgraded:\n",
            "  libudev1\n",
            "1 upgraded, 9 newly installed, 0 to remove and 44 not upgraded.\n",
            "Need to get 27.3 MB of archives.\n",
            "After this operation, 114 MB of additional disk space will be used.\n",
            "Get:1 http://archive.ubuntu.com/ubuntu jammy-updates/main amd64 apparmor amd64 3.0.4-2ubuntu2.3 [595 kB]\n",
            "Get:2 http://archive.ubuntu.com/ubuntu jammy/main amd64 liblzo2-2 amd64 2.10-2build3 [53.7 kB]\n",
            "Get:3 http://archive.ubuntu.com/ubuntu jammy/main amd64 squashfs-tools amd64 1:4.5-3build1 [159 kB]\n",
            "Get:4 http://archive.ubuntu.com/ubuntu jammy-updates/main amd64 libudev1 amd64 249.11-0ubuntu3.12 [78.2 kB]\n",
            "Get:5 http://archive.ubuntu.com/ubuntu jammy-updates/main amd64 udev amd64 249.11-0ubuntu3.12 [1,557 kB]\n",
            "Get:6 http://archive.ubuntu.com/ubuntu jammy/main amd64 libfuse3-3 amd64 3.10.5-1build1 [81.2 kB]\n",
            "Get:7 http://archive.ubuntu.com/ubuntu jammy-updates/main amd64 snapd amd64 2.61.3+22.04 [24.7 MB]\n",
            "Get:8 http://archive.ubuntu.com/ubuntu jammy-updates/universe amd64 chromium-browser amd64 1:85.0.4183.83-0ubuntu2.22.04.1 [49.2 kB]\n",
            "Get:9 http://archive.ubuntu.com/ubuntu jammy-updates/universe amd64 chromium-chromedriver amd64 1:85.0.4183.83-0ubuntu2.22.04.1 [2,308 B]\n",
            "Get:10 http://archive.ubuntu.com/ubuntu jammy-updates/main amd64 systemd-hwe-hwdb all 249.11.5 [3,228 B]\n",
            "Fetched 27.3 MB in 5s (5,635 kB/s)\n",
            "Preconfiguring packages ...\n",
            "Selecting previously unselected package apparmor.\n",
            "(Reading database ... 121752 files and directories currently installed.)\n",
            "Preparing to unpack .../apparmor_3.0.4-2ubuntu2.3_amd64.deb ...\n",
            "Unpacking apparmor (3.0.4-2ubuntu2.3) ...\n",
            "Selecting previously unselected package liblzo2-2:amd64.\n",
            "Preparing to unpack .../liblzo2-2_2.10-2build3_amd64.deb ...\n",
            "Unpacking liblzo2-2:amd64 (2.10-2build3) ...\n",
            "Selecting previously unselected package squashfs-tools.\n",
            "Preparing to unpack .../squashfs-tools_1%3a4.5-3build1_amd64.deb ...\n",
            "Unpacking squashfs-tools (1:4.5-3build1) ...\n",
            "Preparing to unpack .../libudev1_249.11-0ubuntu3.12_amd64.deb ...\n",
            "Unpacking libudev1:amd64 (249.11-0ubuntu3.12) over (249.11-0ubuntu3.10) ...\n",
            "Setting up libudev1:amd64 (249.11-0ubuntu3.12) ...\n",
            "Selecting previously unselected package udev.\n",
            "(Reading database ... 121960 files and directories currently installed.)\n",
            "Preparing to unpack .../udev_249.11-0ubuntu3.12_amd64.deb ...\n",
            "Unpacking udev (249.11-0ubuntu3.12) ...\n",
            "Selecting previously unselected package libfuse3-3:amd64.\n",
            "Preparing to unpack .../libfuse3-3_3.10.5-1build1_amd64.deb ...\n",
            "Unpacking libfuse3-3:amd64 (3.10.5-1build1) ...\n",
            "Selecting previously unselected package snapd.\n",
            "Preparing to unpack .../snapd_2.61.3+22.04_amd64.deb ...\n",
            "Unpacking snapd (2.61.3+22.04) ...\n",
            "Setting up apparmor (3.0.4-2ubuntu2.3) ...\n",
            "Created symlink /etc/systemd/system/sysinit.target.wants/apparmor.service → /lib/systemd/system/apparmor.service.\n",
            "Setting up liblzo2-2:amd64 (2.10-2build3) ...\n",
            "Setting up squashfs-tools (1:4.5-3build1) ...\n",
            "Setting up udev (249.11-0ubuntu3.12) ...\n",
            "invoke-rc.d: could not determine current runlevel\n",
            "invoke-rc.d: policy-rc.d denied execution of start.\n",
            "Setting up libfuse3-3:amd64 (3.10.5-1build1) ...\n",
            "Setting up snapd (2.61.3+22.04) ...\n",
            "Created symlink /etc/systemd/system/multi-user.target.wants/snapd.apparmor.service → /lib/systemd/system/snapd.apparmor.service.\n",
            "Created symlink /etc/systemd/system/multi-user.target.wants/snapd.autoimport.service → /lib/systemd/system/snapd.autoimport.service.\n",
            "Created symlink /etc/systemd/system/multi-user.target.wants/snapd.core-fixup.service → /lib/systemd/system/snapd.core-fixup.service.\n",
            "Created symlink /etc/systemd/system/multi-user.target.wants/snapd.recovery-chooser-trigger.service → /lib/systemd/system/snapd.recovery-chooser-trigger.service.\n",
            "Created symlink /etc/systemd/system/multi-user.target.wants/snapd.seeded.service → /lib/systemd/system/snapd.seeded.service.\n",
            "Created symlink /etc/systemd/system/cloud-final.service.wants/snapd.seeded.service → /lib/systemd/system/snapd.seeded.service.\n",
            "Unit /lib/systemd/system/snapd.seeded.service is added as a dependency to a non-existent unit cloud-final.service.\n",
            "Created symlink /etc/systemd/system/multi-user.target.wants/snapd.service → /lib/systemd/system/snapd.service.\n",
            "Created symlink /etc/systemd/system/timers.target.wants/snapd.snap-repair.timer → /lib/systemd/system/snapd.snap-repair.timer.\n",
            "Created symlink /etc/systemd/system/sockets.target.wants/snapd.socket → /lib/systemd/system/snapd.socket.\n",
            "Created symlink /etc/systemd/system/final.target.wants/snapd.system-shutdown.service → /lib/systemd/system/snapd.system-shutdown.service.\n",
            "Selecting previously unselected package chromium-browser.\n",
            "(Reading database ... 122190 files and directories currently installed.)\n",
            "Preparing to unpack .../chromium-browser_1%3a85.0.4183.83-0ubuntu2.22.04.1_amd64.deb ...\n",
            "=> Installing the chromium snap\n",
            "==> Checking connectivity with the snap store\n",
            "===> System doesn't have a working snapd, skipping\n",
            "Unpacking chromium-browser (1:85.0.4183.83-0ubuntu2.22.04.1) ...\n",
            "Selecting previously unselected package chromium-chromedriver.\n",
            "Preparing to unpack .../chromium-chromedriver_1%3a85.0.4183.83-0ubuntu2.22.04.1_amd64.deb ...\n",
            "Unpacking chromium-chromedriver (1:85.0.4183.83-0ubuntu2.22.04.1) ...\n",
            "Selecting previously unselected package systemd-hwe-hwdb.\n",
            "Preparing to unpack .../systemd-hwe-hwdb_249.11.5_all.deb ...\n",
            "Unpacking systemd-hwe-hwdb (249.11.5) ...\n",
            "Setting up systemd-hwe-hwdb (249.11.5) ...\n",
            "Setting up chromium-browser (1:85.0.4183.83-0ubuntu2.22.04.1) ...\n",
            "update-alternatives: using /usr/bin/chromium-browser to provide /usr/bin/x-www-browser (x-www-browser) in auto mode\n",
            "update-alternatives: using /usr/bin/chromium-browser to provide /usr/bin/gnome-www-browser (gnome-www-browser) in auto mode\n",
            "Setting up chromium-chromedriver (1:85.0.4183.83-0ubuntu2.22.04.1) ...\n",
            "Processing triggers for udev (249.11-0ubuntu3.12) ...\n",
            "Processing triggers for hicolor-icon-theme (0.17-2) ...\n",
            "Processing triggers for libc-bin (2.35-0ubuntu3.4) ...\n",
            "/sbin/ldconfig.real: /usr/local/lib/libtbbbind_2_5.so.3 is not a symbolic link\n",
            "\n",
            "/sbin/ldconfig.real: /usr/local/lib/libtbbbind.so.3 is not a symbolic link\n",
            "\n",
            "/sbin/ldconfig.real: /usr/local/lib/libtbbbind_2_0.so.3 is not a symbolic link\n",
            "\n",
            "/sbin/ldconfig.real: /usr/local/lib/libtbbmalloc.so.2 is not a symbolic link\n",
            "\n",
            "/sbin/ldconfig.real: /usr/local/lib/libtbbmalloc_proxy.so.2 is not a symbolic link\n",
            "\n",
            "/sbin/ldconfig.real: /usr/local/lib/libtbb.so.12 is not a symbolic link\n",
            "\n",
            "Processing triggers for man-db (2.10.2-1) ...\n",
            "Processing triggers for dbus (1.12.20-2ubuntu4.1) ...\n"
          ]
        }
      ]
    },
    {
      "cell_type": "code",
      "source": [
        "import numpy as np\n",
        "import pandas as pd\n",
        "from scrapy.selector import Selector\n",
        "from selenium import webdriver\n",
        "from selenium.webdriver.common.by import By\n",
        "from selenium.webdriver.common.keys import Keys\n",
        "import time\n",
        "from tqdm import tqdm\n",
        "import warnings\n",
        "warnings.filterwarnings(\"ignore\")"
      ],
      "metadata": {
        "id": "fXnOuxbucIFU"
      },
      "execution_count": 7,
      "outputs": []
    },
    {
      "cell_type": "code",
      "source": [
        "chrome_options = webdriver.ChromeOptions()\n",
        "chrome_options.add_argument('--headless')\n",
        "chrome_options.add_argument('--no-sandbox')\n",
        "chrome_options.add_argument('--disable-dev-shm-usage')\n",
        "driver = webdriver.Chrome(options=chrome_options)"
      ],
      "metadata": {
        "id": "fSHcB1KAcNah"
      },
      "execution_count": 8,
      "outputs": []
    },
    {
      "cell_type": "code",
      "source": [
        "url = \"https://www.imdb.com/title/tt1517268/reviews/?ref_=tt_ov_rt\"\n",
        "driver.get(url)"
      ],
      "metadata": {
        "id": "5Vgh2oo2cQuH"
      },
      "execution_count": 9,
      "outputs": []
    },
    {
      "cell_type": "code",
      "source": [
        "sel = Selector(text = driver.page_source)\n",
        "review_counts = sel.css('.lister .header span::text').extract_first().replace(',','').split(' ')[0]\n",
        "more_review_pages = int(int(review_counts)/25)"
      ],
      "metadata": {
        "id": "u4tQ4DP1cYGV"
      },
      "execution_count": 10,
      "outputs": []
    },
    {
      "cell_type": "code",
      "source": [
        "for i in tqdm(range(more_review_pages)):\n",
        "    try:\n",
        "        css_selector = 'load-more-trigger'\n",
        "        driver.find_element(By.ID, css_selector).click()\n",
        "    except:\n",
        "        pass"
      ],
      "metadata": {
        "colab": {
          "base_uri": "https://localhost:8080/"
        },
        "id": "aKStXldCcfHq",
        "outputId": "ee0ab8c5-e5f8-4192-a0f9-25a3a6ed0bed"
      },
      "execution_count": 11,
      "outputs": [
        {
          "output_type": "stream",
          "name": "stderr",
          "text": [
            "100%|██████████| 70/70 [00:03<00:00, 22.83it/s]\n"
          ]
        }
      ]
    },
    {
      "cell_type": "code",
      "source": [
        "rating_list = []\n",
        "review_date_list = []\n",
        "review_title_list = []\n",
        "author_list = []\n",
        "review_list = []\n",
        "review_url_list = []\n",
        "error_url_list = []\n",
        "error_msg_list = []\n",
        "reviews = driver.find_elements(By.CSS_SELECTOR, 'div.review-container')\n",
        "\n",
        "for d in tqdm(reviews):\n",
        "    try:\n",
        "        sel2 = Selector(text = d.get_attribute('innerHTML'))\n",
        "        try:\n",
        "            rating = sel2.css('.rating-other-user-rating span::text').extract_first()\n",
        "        except:\n",
        "            rating = np.NaN\n",
        "        try:\n",
        "            review = sel2.css('.text.show-more__control::text').extract_first()\n",
        "        except:\n",
        "            review = np.NaN\n",
        "        try:\n",
        "            review_date = sel2.css('.review-date::text').extract_first()\n",
        "        except:\n",
        "            review_date = np.NaN\n",
        "        try:\n",
        "            author = sel2.css('.display-name-link a::text').extract_first()\n",
        "        except:\n",
        "            author = np.NaN\n",
        "        try:\n",
        "            review_title = sel2.css('a.title::text').extract_first()\n",
        "        except:\n",
        "            review_title = np.NaN\n",
        "        try:\n",
        "            review_url = sel2.css('a.title::attr(href)').extract_first()\n",
        "        except:\n",
        "            review_url = np.NaN\n",
        "        rating_list.append(rating)\n",
        "        review_date_list.append(review_date)\n",
        "        review_title_list.append(review_title)\n",
        "        author_list.append(author)\n",
        "        review_list.append(review)\n",
        "        review_url_list.append(review_url)\n",
        "    except Exception as e:\n",
        "        error_url_list.append(url)\n",
        "        error_msg_list.append(e)\n",
        "review_df = pd.DataFrame({\n",
        "    'Review_Date':review_date_list,\n",
        "    'Author':author_list,\n",
        "    'Rating':rating_list,\n",
        "    'Review_Title':review_title_list,\n",
        "    'Review':review_list,\n",
        "    'Review_Url':review_url\n",
        "    })"
      ],
      "metadata": {
        "colab": {
          "base_uri": "https://localhost:8080/"
        },
        "id": "BfuxLeRGchB_",
        "outputId": "a2e9ebc8-878e-4e1c-b0db-bd97da14895d"
      },
      "execution_count": 12,
      "outputs": [
        {
          "output_type": "stream",
          "name": "stderr",
          "text": [
            "100%|██████████| 100/100 [00:00<00:00, 121.64it/s]\n"
          ]
        }
      ]
    },
    {
      "cell_type": "code",
      "source": [
        "review_df"
      ],
      "metadata": {
        "colab": {
          "base_uri": "https://localhost:8080/",
          "height": 2982
        },
        "id": "1nFweUFkcn9l",
        "outputId": "f5703345-44d8-4a16-eb85-5728ec29a9a8"
      },
      "execution_count": 13,
      "outputs": [
        {
          "output_type": "execute_result",
          "data": {
            "text/plain": [
              "          Review_Date                      Author Rating  \\\n",
              "0        21 July 2023                LoveofLegacy      6   \n",
              "1        26 July 2023  aherdofbeautifulwildponies      6   \n",
              "2        23 July 2023                   Revuer223      6   \n",
              "3        21 July 2023              Sleepin_Dragon      8   \n",
              "4        22 July 2023                    Natcat87      6   \n",
              "..                ...                         ...    ...   \n",
              "95       22 July 2023             fernandoschiavi      5   \n",
              "96      3 August 2023                anonim-73883     10   \n",
              "97  10 September 2023               Lincsobserver      6   \n",
              "98       25 July 2023           kimberlyely-27550     10   \n",
              "99       19 July 2023               AvionPrince16      6   \n",
              "\n",
              "                                         Review_Title  \\\n",
              "0                    Beautiful film, but so preachy\\n   \n",
              "1                                   A Hot Pink Mess\\n   \n",
              "2    Could Have Been Great. 2nd Half Brings It Dow...   \n",
              "3          Well this really did come as a surprise.\\n   \n",
              "4                                  Too heavy handed\\n   \n",
              "..                                                ...   \n",
              "95   \"Barbie\" is fun and visually beautiful, but u...   \n",
              "96   Great philosophical film to think about and l...   \n",
              "97                         Colourful, but confusing\\n   \n",
              "98                              Everyone watch this\\n   \n",
              "99                                      Barbie Land\\n   \n",
              "\n",
              "                                               Review  \\\n",
              "0   Margot does the best with what she's given, bu...   \n",
              "1                       Before making Barbie (2023),    \n",
              "2   The quality, the humor, and the writing of the...   \n",
              "3   It pains me to say it, but I enjoyed this movi...   \n",
              "4   As a woman that grew up with Barbie, I was ver...   \n",
              "..                                                ...   \n",
              "95  Despite the strong commercial tone, it is stil...   \n",
              "96                     This is.... Was.... Admirably!   \n",
              "97  Who exactly was this film aimed at? Most of th...   \n",
              "98                                             Barbie   \n",
              "99  Im not really disappointed or love the movie t...   \n",
              "\n",
              "                        Review_Url  \n",
              "0   /review/rw9200246/?ref_=tt_urv  \n",
              "1   /review/rw9200246/?ref_=tt_urv  \n",
              "2   /review/rw9200246/?ref_=tt_urv  \n",
              "3   /review/rw9200246/?ref_=tt_urv  \n",
              "4   /review/rw9200246/?ref_=tt_urv  \n",
              "..                             ...  \n",
              "95  /review/rw9200246/?ref_=tt_urv  \n",
              "96  /review/rw9200246/?ref_=tt_urv  \n",
              "97  /review/rw9200246/?ref_=tt_urv  \n",
              "98  /review/rw9200246/?ref_=tt_urv  \n",
              "99  /review/rw9200246/?ref_=tt_urv  \n",
              "\n",
              "[100 rows x 6 columns]"
            ],
            "text/html": [
              "\n",
              "  <div id=\"df-483e3c35-3a7d-49cf-ac09-4bb3e38706dc\" class=\"colab-df-container\">\n",
              "    <div>\n",
              "<style scoped>\n",
              "    .dataframe tbody tr th:only-of-type {\n",
              "        vertical-align: middle;\n",
              "    }\n",
              "\n",
              "    .dataframe tbody tr th {\n",
              "        vertical-align: top;\n",
              "    }\n",
              "\n",
              "    .dataframe thead th {\n",
              "        text-align: right;\n",
              "    }\n",
              "</style>\n",
              "<table border=\"1\" class=\"dataframe\">\n",
              "  <thead>\n",
              "    <tr style=\"text-align: right;\">\n",
              "      <th></th>\n",
              "      <th>Review_Date</th>\n",
              "      <th>Author</th>\n",
              "      <th>Rating</th>\n",
              "      <th>Review_Title</th>\n",
              "      <th>Review</th>\n",
              "      <th>Review_Url</th>\n",
              "    </tr>\n",
              "  </thead>\n",
              "  <tbody>\n",
              "    <tr>\n",
              "      <th>0</th>\n",
              "      <td>21 July 2023</td>\n",
              "      <td>LoveofLegacy</td>\n",
              "      <td>6</td>\n",
              "      <td>Beautiful film, but so preachy\\n</td>\n",
              "      <td>Margot does the best with what she's given, bu...</td>\n",
              "      <td>/review/rw9200246/?ref_=tt_urv</td>\n",
              "    </tr>\n",
              "    <tr>\n",
              "      <th>1</th>\n",
              "      <td>26 July 2023</td>\n",
              "      <td>aherdofbeautifulwildponies</td>\n",
              "      <td>6</td>\n",
              "      <td>A Hot Pink Mess\\n</td>\n",
              "      <td>Before making Barbie (2023),</td>\n",
              "      <td>/review/rw9200246/?ref_=tt_urv</td>\n",
              "    </tr>\n",
              "    <tr>\n",
              "      <th>2</th>\n",
              "      <td>23 July 2023</td>\n",
              "      <td>Revuer223</td>\n",
              "      <td>6</td>\n",
              "      <td>Could Have Been Great. 2nd Half Brings It Dow...</td>\n",
              "      <td>The quality, the humor, and the writing of the...</td>\n",
              "      <td>/review/rw9200246/?ref_=tt_urv</td>\n",
              "    </tr>\n",
              "    <tr>\n",
              "      <th>3</th>\n",
              "      <td>21 July 2023</td>\n",
              "      <td>Sleepin_Dragon</td>\n",
              "      <td>8</td>\n",
              "      <td>Well this really did come as a surprise.\\n</td>\n",
              "      <td>It pains me to say it, but I enjoyed this movi...</td>\n",
              "      <td>/review/rw9200246/?ref_=tt_urv</td>\n",
              "    </tr>\n",
              "    <tr>\n",
              "      <th>4</th>\n",
              "      <td>22 July 2023</td>\n",
              "      <td>Natcat87</td>\n",
              "      <td>6</td>\n",
              "      <td>Too heavy handed\\n</td>\n",
              "      <td>As a woman that grew up with Barbie, I was ver...</td>\n",
              "      <td>/review/rw9200246/?ref_=tt_urv</td>\n",
              "    </tr>\n",
              "    <tr>\n",
              "      <th>...</th>\n",
              "      <td>...</td>\n",
              "      <td>...</td>\n",
              "      <td>...</td>\n",
              "      <td>...</td>\n",
              "      <td>...</td>\n",
              "      <td>...</td>\n",
              "    </tr>\n",
              "    <tr>\n",
              "      <th>95</th>\n",
              "      <td>22 July 2023</td>\n",
              "      <td>fernandoschiavi</td>\n",
              "      <td>5</td>\n",
              "      <td>\"Barbie\" is fun and visually beautiful, but u...</td>\n",
              "      <td>Despite the strong commercial tone, it is stil...</td>\n",
              "      <td>/review/rw9200246/?ref_=tt_urv</td>\n",
              "    </tr>\n",
              "    <tr>\n",
              "      <th>96</th>\n",
              "      <td>3 August 2023</td>\n",
              "      <td>anonim-73883</td>\n",
              "      <td>10</td>\n",
              "      <td>Great philosophical film to think about and l...</td>\n",
              "      <td>This is.... Was.... Admirably!</td>\n",
              "      <td>/review/rw9200246/?ref_=tt_urv</td>\n",
              "    </tr>\n",
              "    <tr>\n",
              "      <th>97</th>\n",
              "      <td>10 September 2023</td>\n",
              "      <td>Lincsobserver</td>\n",
              "      <td>6</td>\n",
              "      <td>Colourful, but confusing\\n</td>\n",
              "      <td>Who exactly was this film aimed at? Most of th...</td>\n",
              "      <td>/review/rw9200246/?ref_=tt_urv</td>\n",
              "    </tr>\n",
              "    <tr>\n",
              "      <th>98</th>\n",
              "      <td>25 July 2023</td>\n",
              "      <td>kimberlyely-27550</td>\n",
              "      <td>10</td>\n",
              "      <td>Everyone watch this\\n</td>\n",
              "      <td>Barbie</td>\n",
              "      <td>/review/rw9200246/?ref_=tt_urv</td>\n",
              "    </tr>\n",
              "    <tr>\n",
              "      <th>99</th>\n",
              "      <td>19 July 2023</td>\n",
              "      <td>AvionPrince16</td>\n",
              "      <td>6</td>\n",
              "      <td>Barbie Land\\n</td>\n",
              "      <td>Im not really disappointed or love the movie t...</td>\n",
              "      <td>/review/rw9200246/?ref_=tt_urv</td>\n",
              "    </tr>\n",
              "  </tbody>\n",
              "</table>\n",
              "<p>100 rows × 6 columns</p>\n",
              "</div>\n",
              "    <div class=\"colab-df-buttons\">\n",
              "\n",
              "  <div class=\"colab-df-container\">\n",
              "    <button class=\"colab-df-convert\" onclick=\"convertToInteractive('df-483e3c35-3a7d-49cf-ac09-4bb3e38706dc')\"\n",
              "            title=\"Convert this dataframe to an interactive table.\"\n",
              "            style=\"display:none;\">\n",
              "\n",
              "  <svg xmlns=\"http://www.w3.org/2000/svg\" height=\"24px\" viewBox=\"0 -960 960 960\">\n",
              "    <path d=\"M120-120v-720h720v720H120Zm60-500h600v-160H180v160Zm220 220h160v-160H400v160Zm0 220h160v-160H400v160ZM180-400h160v-160H180v160Zm440 0h160v-160H620v160ZM180-180h160v-160H180v160Zm440 0h160v-160H620v160Z\"/>\n",
              "  </svg>\n",
              "    </button>\n",
              "\n",
              "  <style>\n",
              "    .colab-df-container {\n",
              "      display:flex;\n",
              "      gap: 12px;\n",
              "    }\n",
              "\n",
              "    .colab-df-convert {\n",
              "      background-color: #E8F0FE;\n",
              "      border: none;\n",
              "      border-radius: 50%;\n",
              "      cursor: pointer;\n",
              "      display: none;\n",
              "      fill: #1967D2;\n",
              "      height: 32px;\n",
              "      padding: 0 0 0 0;\n",
              "      width: 32px;\n",
              "    }\n",
              "\n",
              "    .colab-df-convert:hover {\n",
              "      background-color: #E2EBFA;\n",
              "      box-shadow: 0px 1px 2px rgba(60, 64, 67, 0.3), 0px 1px 3px 1px rgba(60, 64, 67, 0.15);\n",
              "      fill: #174EA6;\n",
              "    }\n",
              "\n",
              "    .colab-df-buttons div {\n",
              "      margin-bottom: 4px;\n",
              "    }\n",
              "\n",
              "    [theme=dark] .colab-df-convert {\n",
              "      background-color: #3B4455;\n",
              "      fill: #D2E3FC;\n",
              "    }\n",
              "\n",
              "    [theme=dark] .colab-df-convert:hover {\n",
              "      background-color: #434B5C;\n",
              "      box-shadow: 0px 1px 3px 1px rgba(0, 0, 0, 0.15);\n",
              "      filter: drop-shadow(0px 1px 2px rgba(0, 0, 0, 0.3));\n",
              "      fill: #FFFFFF;\n",
              "    }\n",
              "  </style>\n",
              "\n",
              "    <script>\n",
              "      const buttonEl =\n",
              "        document.querySelector('#df-483e3c35-3a7d-49cf-ac09-4bb3e38706dc button.colab-df-convert');\n",
              "      buttonEl.style.display =\n",
              "        google.colab.kernel.accessAllowed ? 'block' : 'none';\n",
              "\n",
              "      async function convertToInteractive(key) {\n",
              "        const element = document.querySelector('#df-483e3c35-3a7d-49cf-ac09-4bb3e38706dc');\n",
              "        const dataTable =\n",
              "          await google.colab.kernel.invokeFunction('convertToInteractive',\n",
              "                                                    [key], {});\n",
              "        if (!dataTable) return;\n",
              "\n",
              "        const docLinkHtml = 'Like what you see? Visit the ' +\n",
              "          '<a target=\"_blank\" href=https://colab.research.google.com/notebooks/data_table.ipynb>data table notebook</a>'\n",
              "          + ' to learn more about interactive tables.';\n",
              "        element.innerHTML = '';\n",
              "        dataTable['output_type'] = 'display_data';\n",
              "        await google.colab.output.renderOutput(dataTable, element);\n",
              "        const docLink = document.createElement('div');\n",
              "        docLink.innerHTML = docLinkHtml;\n",
              "        element.appendChild(docLink);\n",
              "      }\n",
              "    </script>\n",
              "  </div>\n",
              "\n",
              "\n",
              "<div id=\"df-06ea9094-4295-4c5c-8c9b-57560750f158\">\n",
              "  <button class=\"colab-df-quickchart\" onclick=\"quickchart('df-06ea9094-4295-4c5c-8c9b-57560750f158')\"\n",
              "            title=\"Suggest charts\"\n",
              "            style=\"display:none;\">\n",
              "\n",
              "<svg xmlns=\"http://www.w3.org/2000/svg\" height=\"24px\"viewBox=\"0 0 24 24\"\n",
              "     width=\"24px\">\n",
              "    <g>\n",
              "        <path d=\"M19 3H5c-1.1 0-2 .9-2 2v14c0 1.1.9 2 2 2h14c1.1 0 2-.9 2-2V5c0-1.1-.9-2-2-2zM9 17H7v-7h2v7zm4 0h-2V7h2v10zm4 0h-2v-4h2v4z\"/>\n",
              "    </g>\n",
              "</svg>\n",
              "  </button>\n",
              "\n",
              "<style>\n",
              "  .colab-df-quickchart {\n",
              "      --bg-color: #E8F0FE;\n",
              "      --fill-color: #1967D2;\n",
              "      --hover-bg-color: #E2EBFA;\n",
              "      --hover-fill-color: #174EA6;\n",
              "      --disabled-fill-color: #AAA;\n",
              "      --disabled-bg-color: #DDD;\n",
              "  }\n",
              "\n",
              "  [theme=dark] .colab-df-quickchart {\n",
              "      --bg-color: #3B4455;\n",
              "      --fill-color: #D2E3FC;\n",
              "      --hover-bg-color: #434B5C;\n",
              "      --hover-fill-color: #FFFFFF;\n",
              "      --disabled-bg-color: #3B4455;\n",
              "      --disabled-fill-color: #666;\n",
              "  }\n",
              "\n",
              "  .colab-df-quickchart {\n",
              "    background-color: var(--bg-color);\n",
              "    border: none;\n",
              "    border-radius: 50%;\n",
              "    cursor: pointer;\n",
              "    display: none;\n",
              "    fill: var(--fill-color);\n",
              "    height: 32px;\n",
              "    padding: 0;\n",
              "    width: 32px;\n",
              "  }\n",
              "\n",
              "  .colab-df-quickchart:hover {\n",
              "    background-color: var(--hover-bg-color);\n",
              "    box-shadow: 0 1px 2px rgba(60, 64, 67, 0.3), 0 1px 3px 1px rgba(60, 64, 67, 0.15);\n",
              "    fill: var(--button-hover-fill-color);\n",
              "  }\n",
              "\n",
              "  .colab-df-quickchart-complete:disabled,\n",
              "  .colab-df-quickchart-complete:disabled:hover {\n",
              "    background-color: var(--disabled-bg-color);\n",
              "    fill: var(--disabled-fill-color);\n",
              "    box-shadow: none;\n",
              "  }\n",
              "\n",
              "  .colab-df-spinner {\n",
              "    border: 2px solid var(--fill-color);\n",
              "    border-color: transparent;\n",
              "    border-bottom-color: var(--fill-color);\n",
              "    animation:\n",
              "      spin 1s steps(1) infinite;\n",
              "  }\n",
              "\n",
              "  @keyframes spin {\n",
              "    0% {\n",
              "      border-color: transparent;\n",
              "      border-bottom-color: var(--fill-color);\n",
              "      border-left-color: var(--fill-color);\n",
              "    }\n",
              "    20% {\n",
              "      border-color: transparent;\n",
              "      border-left-color: var(--fill-color);\n",
              "      border-top-color: var(--fill-color);\n",
              "    }\n",
              "    30% {\n",
              "      border-color: transparent;\n",
              "      border-left-color: var(--fill-color);\n",
              "      border-top-color: var(--fill-color);\n",
              "      border-right-color: var(--fill-color);\n",
              "    }\n",
              "    40% {\n",
              "      border-color: transparent;\n",
              "      border-right-color: var(--fill-color);\n",
              "      border-top-color: var(--fill-color);\n",
              "    }\n",
              "    60% {\n",
              "      border-color: transparent;\n",
              "      border-right-color: var(--fill-color);\n",
              "    }\n",
              "    80% {\n",
              "      border-color: transparent;\n",
              "      border-right-color: var(--fill-color);\n",
              "      border-bottom-color: var(--fill-color);\n",
              "    }\n",
              "    90% {\n",
              "      border-color: transparent;\n",
              "      border-bottom-color: var(--fill-color);\n",
              "    }\n",
              "  }\n",
              "</style>\n",
              "\n",
              "  <script>\n",
              "    async function quickchart(key) {\n",
              "      const quickchartButtonEl =\n",
              "        document.querySelector('#' + key + ' button');\n",
              "      quickchartButtonEl.disabled = true;  // To prevent multiple clicks.\n",
              "      quickchartButtonEl.classList.add('colab-df-spinner');\n",
              "      try {\n",
              "        const charts = await google.colab.kernel.invokeFunction(\n",
              "            'suggestCharts', [key], {});\n",
              "      } catch (error) {\n",
              "        console.error('Error during call to suggestCharts:', error);\n",
              "      }\n",
              "      quickchartButtonEl.classList.remove('colab-df-spinner');\n",
              "      quickchartButtonEl.classList.add('colab-df-quickchart-complete');\n",
              "    }\n",
              "    (() => {\n",
              "      let quickchartButtonEl =\n",
              "        document.querySelector('#df-06ea9094-4295-4c5c-8c9b-57560750f158 button');\n",
              "      quickchartButtonEl.style.display =\n",
              "        google.colab.kernel.accessAllowed ? 'block' : 'none';\n",
              "    })();\n",
              "  </script>\n",
              "</div>\n",
              "\n",
              "  <div id=\"id_2f498c67-6e7c-4794-a21e-cd86b7f1d4f6\">\n",
              "    <style>\n",
              "      .colab-df-generate {\n",
              "        background-color: #E8F0FE;\n",
              "        border: none;\n",
              "        border-radius: 50%;\n",
              "        cursor: pointer;\n",
              "        display: none;\n",
              "        fill: #1967D2;\n",
              "        height: 32px;\n",
              "        padding: 0 0 0 0;\n",
              "        width: 32px;\n",
              "      }\n",
              "\n",
              "      .colab-df-generate:hover {\n",
              "        background-color: #E2EBFA;\n",
              "        box-shadow: 0px 1px 2px rgba(60, 64, 67, 0.3), 0px 1px 3px 1px rgba(60, 64, 67, 0.15);\n",
              "        fill: #174EA6;\n",
              "      }\n",
              "\n",
              "      [theme=dark] .colab-df-generate {\n",
              "        background-color: #3B4455;\n",
              "        fill: #D2E3FC;\n",
              "      }\n",
              "\n",
              "      [theme=dark] .colab-df-generate:hover {\n",
              "        background-color: #434B5C;\n",
              "        box-shadow: 0px 1px 3px 1px rgba(0, 0, 0, 0.15);\n",
              "        filter: drop-shadow(0px 1px 2px rgba(0, 0, 0, 0.3));\n",
              "        fill: #FFFFFF;\n",
              "      }\n",
              "    </style>\n",
              "    <button class=\"colab-df-generate\" onclick=\"generateWithVariable('review_df')\"\n",
              "            title=\"Generate code using this dataframe.\"\n",
              "            style=\"display:none;\">\n",
              "\n",
              "  <svg xmlns=\"http://www.w3.org/2000/svg\" height=\"24px\"viewBox=\"0 0 24 24\"\n",
              "       width=\"24px\">\n",
              "    <path d=\"M7,19H8.4L18.45,9,17,7.55,7,17.6ZM5,21V16.75L18.45,3.32a2,2,0,0,1,2.83,0l1.4,1.43a1.91,1.91,0,0,1,.58,1.4,1.91,1.91,0,0,1-.58,1.4L9.25,21ZM18.45,9,17,7.55Zm-12,3A5.31,5.31,0,0,0,4.9,8.1,5.31,5.31,0,0,0,1,6.5,5.31,5.31,0,0,0,4.9,4.9,5.31,5.31,0,0,0,6.5,1,5.31,5.31,0,0,0,8.1,4.9,5.31,5.31,0,0,0,12,6.5,5.46,5.46,0,0,0,6.5,12Z\"/>\n",
              "  </svg>\n",
              "    </button>\n",
              "    <script>\n",
              "      (() => {\n",
              "      const buttonEl =\n",
              "        document.querySelector('#id_2f498c67-6e7c-4794-a21e-cd86b7f1d4f6 button.colab-df-generate');\n",
              "      buttonEl.style.display =\n",
              "        google.colab.kernel.accessAllowed ? 'block' : 'none';\n",
              "\n",
              "      buttonEl.onclick = () => {\n",
              "        google.colab.notebook.generateWithVariable('review_df');\n",
              "      }\n",
              "      })();\n",
              "    </script>\n",
              "  </div>\n",
              "\n",
              "    </div>\n",
              "  </div>\n"
            ],
            "application/vnd.google.colaboratory.intrinsic+json": {
              "type": "dataframe",
              "variable_name": "review_df",
              "summary": "{\n  \"name\": \"review_df\",\n  \"rows\": 100,\n  \"fields\": [\n    {\n      \"column\": \"Review_Date\",\n      \"properties\": {\n        \"dtype\": \"object\",\n        \"num_unique_values\": 44,\n        \"samples\": [\n          \"30 September 2023\",\n          \"10 August 2023\",\n          \"21 November 2023\"\n        ],\n        \"semantic_type\": \"\",\n        \"description\": \"\"\n      }\n    },\n    {\n      \"column\": \"Author\",\n      \"properties\": {\n        \"dtype\": \"string\",\n        \"num_unique_values\": 99,\n        \"samples\": [\n          \"brianjohnson-20043\",\n          \"eoinageary\",\n          \"fernandoschiavi\"\n        ],\n        \"semantic_type\": \"\",\n        \"description\": \"\"\n      }\n    },\n    {\n      \"column\": \"Rating\",\n      \"properties\": {\n        \"dtype\": \"category\",\n        \"num_unique_values\": 8,\n        \"samples\": [\n          \"8\",\n          \"5\",\n          \"6\"\n        ],\n        \"semantic_type\": \"\",\n        \"description\": \"\"\n      }\n    },\n    {\n      \"column\": \"Review_Title\",\n      \"properties\": {\n        \"dtype\": \"string\",\n        \"num_unique_values\": 100,\n        \"samples\": [\n          \" Greta Gerwig never disappoints\\n\",\n          \" A sheer pleasure to watch.\\n\",\n          \" Big hype and the result is a mirror of today's society\\n\"\n        ],\n        \"semantic_type\": \"\",\n        \"description\": \"\"\n      }\n    },\n    {\n      \"column\": \"Review\",\n      \"properties\": {\n        \"dtype\": \"string\",\n        \"num_unique_values\": 100,\n        \"samples\": [\n          \"I hope you won't let the title of the film fool you; this is not some family movie for little girls. It is an all around auteuristic film by the ever great Greta Gerwig, and an instant classic cult film.\",\n          \"Barbie (2023) -\",\n          \"Margot Robbie had a vision, and she was the driving force to get the Barbie movie produced by none other than world-class director Greta Gerwig.\"\n        ],\n        \"semantic_type\": \"\",\n        \"description\": \"\"\n      }\n    },\n    {\n      \"column\": \"Review_Url\",\n      \"properties\": {\n        \"dtype\": \"category\",\n        \"num_unique_values\": 1,\n        \"samples\": [\n          \"/review/rw9200246/?ref_=tt_urv\"\n        ],\n        \"semantic_type\": \"\",\n        \"description\": \"\"\n      }\n    }\n  ]\n}"
            }
          },
          "metadata": {},
          "execution_count": 13
        }
      ]
    },
    {
      "cell_type": "code",
      "source": [
        "review_df.to_csv('/content/reviews_csv/barbie.csv')"
      ],
      "metadata": {
        "id": "86QejwHAcrhF"
      },
      "execution_count": 15,
      "outputs": []
    },
    {
      "cell_type": "markdown",
      "source": [
        "### Load Data"
      ],
      "metadata": {
        "id": "sb8wkqlSdsHH"
      }
    },
    {
      "cell_type": "code",
      "source": [
        "from langchain.document_loaders.csv_loader import CSVLoader"
      ],
      "metadata": {
        "id": "AX0gLh5odP5C"
      },
      "execution_count": 4,
      "outputs": []
    },
    {
      "cell_type": "code",
      "source": [
        "loader = CSVLoader(\n",
        "    file_path = '/content/reviews_csv/barbie.csv',\n",
        "    source_column = 'Review_Url'\n",
        ")\n",
        "\n",
        "data = loader.load()"
      ],
      "metadata": {
        "id": "BlEzBAzrd1zT"
      },
      "execution_count": 5,
      "outputs": []
    },
    {
      "cell_type": "code",
      "source": [
        "print(data)"
      ],
      "metadata": {
        "colab": {
          "base_uri": "https://localhost:8080/"
        },
        "id": "vNJ1F_5zePks",
        "outputId": "d2844490-286f-4cfb-d16b-c5e2443e2afa"
      },
      "execution_count": 6,
      "outputs": [
        {
          "output_type": "stream",
          "name": "stdout",
          "text": [
            "[Document(page_content=': 0\\nReview_Date: 21 July 2023\\nAuthor: LoveofLegacy\\nRating: 6\\nReview_Title: Beautiful film, but so preachy\\nReview: Margot does the best with what she\\'s given, but this film was very disappointing to me. It was marketed as a fun, quirky satire with homages to other movies. It started that way, but ended with over-dramatized speeches and an ending that clearly tried to make the audience feel something, but left everyone just feeling confused. And before you say I\\'m a crotchety old man, I\\'m a woman in my 20s, so I\\'m pretty sure I\\'m this movie\\'s target audience. The saddest part is there were parents with their kids in the theater that were victims of the poor marketing, because this is not a kid\\'s movie. Overall, the humor was fun on occasion and the film is beautiful to look at, but the whole concept falls apart in the second half of the film and becomes a pity party for the \"strong\" woman.\\nReview_Url: /review/rw9200246/?ref_=tt_urv', metadata={'source': '/review/rw9200246/?ref_=tt_urv', 'row': 0}), Document(page_content=': 1\\nReview_Date: 26 July 2023\\nAuthor: aherdofbeautifulwildponies\\nRating: 6\\nReview_Title: A Hot Pink Mess\\nReview: Before making Barbie (2023),\\nReview_Url: /review/rw9200246/?ref_=tt_urv', metadata={'source': '/review/rw9200246/?ref_=tt_urv', 'row': 1}), Document(page_content=\": 2\\nReview_Date: 23 July 2023\\nAuthor: Revuer223\\nRating: 6\\nReview_Title: Could Have Been Great. 2nd Half Brings It Down.\\nReview: The quality, the humor, and the writing of the movie is fun for a while. It's quirky and it's unique. When they get into the weeds and try to explore deeper themes, the movie is a miss. The middle expositional phase of the movie, I must say, is a bore.\\nReview_Url: /review/rw9200246/?ref_=tt_urv\", metadata={'source': '/review/rw9200246/?ref_=tt_urv', 'row': 2}), Document(page_content=': 3\\nReview_Date: 21 July 2023\\nAuthor: Sleepin_Dragon\\nRating: 8\\nReview_Title: Well this really did come as a surprise.\\nReview: It pains me to say it, but I enjoyed this movie so much more then I was expecting to, musical numbers, humour, there truly is something for the whole family yo enjoy.\\nReview_Url: /review/rw9200246/?ref_=tt_urv', metadata={'source': '/review/rw9200246/?ref_=tt_urv', 'row': 3}), Document(page_content=': 4\\nReview_Date: 22 July 2023\\nAuthor: Natcat87\\nRating: 6\\nReview_Title: Too heavy handed\\nReview: As a woman that grew up with Barbie, I was very excited for this movie. I was curious to see how they would evolve the \"stereotypical Barbie\" into something more. But the messaging in this movie was so heavy handed that it completely lost the plot. I consider myself a proponent of gender equality, and this ain\\'t the way to get it.\\nReview_Url: /review/rw9200246/?ref_=tt_urv', metadata={'source': '/review/rw9200246/?ref_=tt_urv', 'row': 4}), Document(page_content=': 5\\nReview_Date: 31 July 2023\\nAuthor: ramair350\\nRating: 10\\nReview_Title: As a guy I felt some discomfort, and that\\'s ok.\\nReview: As much as it pains me to give a movie called \"Barbie\" a 10 out of 10, I have to do so. It is so brilliantly handled and finely crafted, I have to give the filmakers credit. Yes, I am somewhat conservative person and former law enforcement officer. I\\'m a guy. I like guy things. Hell I even enjoyed the Battleship movie a few years ago (an absolutely ridiculous but fun romp of an action film). But I also like to experience other perspectives. And man oh man does this movie deliver that in spades - pretty much encapsulated everything my wife has tried to convey about her entire career and life experience wrapped up into two hours! The humor, the sets, the acting, and the ability to weave the current narrative into the story was just perfect. I don\\'t agree with some of the points of the movie, but again, that\\'s ok. This movie wasn\\'t designed to give a balanced perspective of men versus women; it is a no-holds-barred unapologetic crazy ride of a rant about the real issues that women have faced since they were \"allowed\" to have \"real jobs\" and do the same things as men. Give me a well done film that is a blast to watch, that makes you think, and that was done from a place of creativity, passion, and attention to detail, and I\\'ll call it what it is: a 10 out of 10 masterpiece.\\nReview_Url: /review/rw9200246/?ref_=tt_urv', metadata={'source': '/review/rw9200246/?ref_=tt_urv', 'row': 5}), Document(page_content=': 6\\nReview_Date: 22 July 2023\\nAuthor: imseeg\\nRating: 7\\nReview_Title: 3 reasons FOR seeing it and 1 reason AGAINST.\\nReview: The first reason to go see it:\\nReview_Url: /review/rw9200246/?ref_=tt_urv', metadata={'source': '/review/rw9200246/?ref_=tt_urv', 'row': 6}), Document(page_content=\": 7\\nReview_Date: 24 July 2023\\nAuthor: coxaneesa\\nRating: 8\\nReview_Title: It was depressing\\nReview: I thought this would be so much different. The ending made me feel sad and empty. Ken and Barbie don't end up together and they made Ken seem like a complete idiot. Actually they presented men as being dumb throughout the whole movie. And I'm not a man but that's just not true. It was depressing and sad and never the way Barbie was created for. I know a lot of people won't agree with me and that's okay but it was just pointless going to see it. The only good thing is that the Barbie aesthetic was beautifully done.\\nReview_Url: /review/rw9200246/?ref_=tt_urv\", metadata={'source': '/review/rw9200246/?ref_=tt_urv', 'row': 7}), Document(page_content=\": 8\\nReview_Date: 21 July 2023\\nAuthor: G-Joshua-Benjamin\\nRating: 6\\nReview_Title: My mom and I saw this yesterday. Here are my thoughts.\\nReview: I don't know if I put spoilers in here. I am super worn out. Haha So I will just put that I did.\\nReview_Url: /review/rw9200246/?ref_=tt_urv\", metadata={'source': '/review/rw9200246/?ref_=tt_urv', 'row': 8}), Document(page_content=': 9\\nReview_Date: 20 July 2023\\nAuthor: MissSimonetta\\nRating: 4\\nReview_Title: The marketing was more entertaining than the actual movie\\nReview: I went to see this today, everyone in my group dressed in pink and ready to at least be entertained by pastel-colored camp for two hours. BARBIE kind of succeeds there: I loved the costuming and sets of Barbieland, and Margot Robie is such a fantastic actress, the perfect embodiment of the optimistic, she-can-do-it-all Barbie. Ryan Gosling was a scene-stealer with his horse obsession and faux mink coat.\\nReview_Url: /review/rw9200246/?ref_=tt_urv', metadata={'source': '/review/rw9200246/?ref_=tt_urv', 'row': 9}), Document(page_content=': 10\\nReview_Date: 19 July 2023\\nAuthor: HabibieHakim123\\nRating: 8\\nReview_Title: Barbie Is A Weirdly Fun Movie!\\nReview: 8.5/10\\nWhile i\\'m not so sure at first, the movie kept getting even more fun, entertaining, and definitely better, also surprisingly deal with a legit serious stuff, Barbie is a weirdly fun movie that fills with this very interesting concept, definitely the first time that\\'s ever done, Greta Gerwig has created this whole new style of filmmaking specifically for Barbie, from the intentionally weird yet creative editing, some awkward and cringe scene, i found the comedy so funny instead of cringe, Barbie is one of the most original movie of the year and also one of the most original movie i\\'ve seen in a while, we all know Margot Robbie and Ryan Gosling is gonna carry the movie and they are, but Will Ferrell, Simu Liu, and the whole rest of the cast were also great and entertaining, the soundtrack was just great, except Nicki Minaj and Ice Spice \"Barbie World\" song that are just absolutely terrible, but Billie Eilish \"What Was I Made For?\" tune that kept haunting in the background until it finally get the perfect scene to played it was really the best thing because that song was just beautiful and emotional, anyway, Barbie is a lot of fun, while there is still some noticeable flawed, most of them i found it funny, entertaining, colourful, creative, and fun, pure fun, it\\'s something that i probably will love it even more the second time i see it, but as of right now, Barbie was a good time, definitely recommended and with this movie somehow it\\'s actually possible to have a live-action Barbie movie, all you need to have is a good writer, good director, and good cast, and they delivers mostly.\\nReview_Url: /review/rw9200246/?ref_=tt_urv', metadata={'source': '/review/rw9200246/?ref_=tt_urv', 'row': 10}), Document(page_content=': 11\\nReview_Date: 20 July 2023\\nAuthor: portraitofaladyonfire\\nRating: 6\\nReview_Title: Brilliant observations, but social depth is missing\\nReview: Greta Gerwig and Noah Baumbach have a knack for incorporating the many little observations of life, whether funny or deeply interpersonal, into a screenplay. Gerwig manages to direct them with great visuals and clever transitions.\\nReview_Url: /review/rw9200246/?ref_=tt_urv', metadata={'source': '/review/rw9200246/?ref_=tt_urv', 'row': 11}), Document(page_content=': 12\\nReview_Date: 23 July 2023\\nAuthor: herrcarter-92161\\nRating: 5\\nReview_Title: Somewhat of a Jumbled Mess\\nReview: My 15-year old daughter wrote the following review and posted it to my IMDB account.\\nReview_Url: /review/rw9200246/?ref_=tt_urv', metadata={'source': '/review/rw9200246/?ref_=tt_urv', 'row': 12}), Document(page_content=': 13\\nReview_Date: 19 July 2023\\nAuthor: jpismyname\\nRating: 8\\nReview_Title: Fun and surprisingly touching\\nReview: I was honestly doubting this movie at first, but surprisingly I find myself really liking it quite a lot.\\nReview_Url: /review/rw9200246/?ref_=tt_urv', metadata={'source': '/review/rw9200246/?ref_=tt_urv', 'row': 13}), Document(page_content=': 14\\nReview_Date: 24 July 2023\\nAuthor: lokicola\\nRating: 6\\nReview_Title: Strong Start... and That\\'s It\\nReview: I walked out of the theatre thinking, \"Yeah, I had a good time in that movie\". But as the day went on I kind had that \"Ok, that kebab probably wasn\\'t a good idea.\"\\nReview_Url: /review/rw9200246/?ref_=tt_urv', metadata={'source': '/review/rw9200246/?ref_=tt_urv', 'row': 14}), Document(page_content=': 15\\nReview_Date: 9 August 2023\\nAuthor: L3MM3\\nRating: \\nReview_Title: Boring, mind-numbing drivel\\nReview: I do not usually write reviews, but this is beyond description. Last time I wrote a review it was for the absolutely horrible wrinkle in time. This is almost as bad. At least Gosling plays his part well, but the story is abysmal. If you can find anything else to do like watch paint dry, then yes please do. You will save your brain cells the agony of a painful slow ..... nearly two hours long this was mind-numbing storytelling at its mediocre worst. How many ways can I say do not go see it if you have a choice. See anything else but this exercise in horrendous cliches and exaggerated self-importance. If I could give it negative 10 stars I would.\\nReview_Url: /review/rw9200246/?ref_=tt_urv', metadata={'source': '/review/rw9200246/?ref_=tt_urv', 'row': 15}), Document(page_content=': 16\\nReview_Date: 24 July 2023\\nAuthor: heatherhilgers\\nRating: 9\\nReview_Title: A Technicolor Dream\\nReview: Wow, this movie was a love letter to cinema. From the Kubrick reference at the opening, to the soundstage being 100% real - no cgi for the sets. There were dance sequences like in the olden days (think Grease) and the costuming , wow the costuming. Greta Gerwig dug deep to make this masterpiece using all of her technical chops along the way. The casting director also nailed it, everyone was wonderful.\\nReview_Url: /review/rw9200246/?ref_=tt_urv', metadata={'source': '/review/rw9200246/?ref_=tt_urv', 'row': 16}), Document(page_content=': 17\\nReview_Date: 16 December 2023\\nAuthor: Tr-u-mpbilly\\nRating: 6\\nReview_Title: Didn\\'t live up to expectations\\nReview: I watched this with my wife who was ready to turn it off after about ten minutes, but I talked her into watching it - \"It\\'ll get better, honey. They\\'ll be going into the real world, soon.\"\\nReview_Url: /review/rw9200246/?ref_=tt_urv', metadata={'source': '/review/rw9200246/?ref_=tt_urv', 'row': 17}), Document(page_content=': 18\\nReview_Date: 20 July 2023\\nAuthor: Genti26\\nRating: 8\\nReview_Title: You are Kenough\\nReview: This movie is so much fun. It starts off really strong although the story does move away from \"Barbieland\" sooner than I would have liked. Nonetheless, it regains its footing with the final act in particular and I could not stop laughing at Ryan Gosling\\'s portrayal of Ken. That song will forever be stuck in my head.\\nReview_Url: /review/rw9200246/?ref_=tt_urv', metadata={'source': '/review/rw9200246/?ref_=tt_urv', 'row': 18}), Document(page_content=': 19\\nReview_Date: 27 August 2023\\nAuthor: kayleewillis-85920\\nRating: 6\\nReview_Title: OVERHYPED\\nReview: This is a movie that was way overhyped. Everyone kept saying it was so amazing, but when I finally go to watch it, it was not at all what I thought it was going to be. The storyline was not good. It was a basic and corny storyline, in my opinion.\\nReview_Url: /review/rw9200246/?ref_=tt_urv', metadata={'source': '/review/rw9200246/?ref_=tt_urv', 'row': 19}), Document(page_content=\": 20\\nReview_Date: 29 August 2023\\nAuthor: antoniatejedabarros\\nRating: 3\\nReview_Title: Disappointing: terribly preachy and horrendous script. Great cast.\\nReview: Margot Robbie and Ryan Gosling are really great in their roles of Barbie and Kent. Gosling is specially hilarious. I expected a funny, cool, deep and entertaining movie, but I was highly disappointed. The movie is so terribly preachy that ends being an embarrassment. We (the audience) have brains, so, please, preach somewhere else. Furthermore, this is a movie to divide, not to unite. And I'm a woman. The script of the movie is horrendous and the direction is plain bad. There are some great actresses that have too little to say, like Emma Mackey, and that's a pity. Overall: a huge disappointment and a missed opportunity. 3/10 (1 point for Margot Robbie, 1 point for Ryan Gosling, and 1 point for the art direction (super tacky and pinky, as Barbie's world).\\nReview_Url: /review/rw9200246/?ref_=tt_urv\", metadata={'source': '/review/rw9200246/?ref_=tt_urv', 'row': 20}), Document(page_content=\": 21\\nReview_Date: 22 July 2023\\nAuthor: finnconnelly-63017\\nRating: 10\\nReview_Title: Ken out of ten\\nReview: Wow. I did not see this masterpiece coming. And that's not a joke. Somehow, Greta Gerwig took Barbie, and made a movie that tackles some really tough social issues....well? It's crazy. But wow, does it work. The story is very mature, thinker of a plot. Once you're done laughing your butt off, you'll get really emotional. The production design is so on point. The whole movie is pink everything, but it's never polarizing. All the shades melt together in a very pleasing way. And of course the cast! Margot Robbie was born to play Barbie, and she hits a home run, but Ryan Gosling. This dude rocks as Ken. He knocked it all the way around the world and hit himself in the back of the head. He steals every scene he's in, and I would be so on board with a Ken spin-off. America Ferrara and Simu Liu are also great in their respective roles, but the cast overall is just perfect. Overall, Barbie is probably the best movie based off a toy (sorry LEGO Movies) and an overall fantastic time at the movies.\\nReview_Url: /review/rw9200246/?ref_=tt_urv\", metadata={'source': '/review/rw9200246/?ref_=tt_urv', 'row': 21}), Document(page_content=\": 22\\nReview_Date: 19 July 2023\\nAuthor: hamsterination\\nRating: 6\\nReview_Title: It could have been so much better...\\nReview: The film's universe and settings are fantastic. The casting is really good too, with Gosling excelling in the role of Ken.\\nReview_Url: /review/rw9200246/?ref_=tt_urv\", metadata={'source': '/review/rw9200246/?ref_=tt_urv', 'row': 22}), Document(page_content=\": 23\\nReview_Date: 3 August 2023\\nAuthor: AngelHonesty\\nRating: 5\\nReview_Title: Not what I Expected\\nReview: I played with barbies a lot as a kid, so I thought this movie was going to be fun. The trailer looked great, I thought, why not, let's have a girls movie night, kick back relax, watch a funny iconic movie about my favorite toys as a kid. But I was greatly let down really fast. The movie was all about a strong message of what a woman is, what a man is, how the world defines those roles and how we should just be whoever we are. There was nothing in the movie that made me laugh. It all felt kinda heavy with the message they were telling. It's definitely not a kids movie either, I don't think they would understand half of it. Really wasn't happy with the movie.\\nReview_Url: /review/rw9200246/?ref_=tt_urv\", metadata={'source': '/review/rw9200246/?ref_=tt_urv', 'row': 23}), Document(page_content=\": 24\\nReview_Date: 21 July 2023\\nAuthor: imdbmovieguy\\nRating: \\nReview_Title: Honestly - not funny and light enough\\nReview: I really enjoyed the first 20 minutes of the movie. It was very upbeat, positive and light. However, things soon became negative about 20 - 25 minutes into the movie. I couldn't stand it. Barbie's world and attitude was a constant bummer. Ken's attitude was sour. For the next hour (and more) the movie just lived in negativity.\\nReview_Url: /review/rw9200246/?ref_=tt_urv\", metadata={'source': '/review/rw9200246/?ref_=tt_urv', 'row': 24}), Document(page_content=': 25\\nReview_Date: 1 August 2023\\nAuthor: zkonedog\\nRating: 10\\nReview_Title: An Amazingly Perfect Blend Of Social Satire & Fun\\nReview: For a film like \"Barbie\" to succeed, every aspect had to come together perfectly. It needed to consummately balance satire with fun, the casting had to be spot-on, and the writing/directing required to pull off such a feat would need to be exquisite. Somewhat remarkably, that is exactly what writer/director Greta Gerwig pulls off here to create the best movie of summer 2023.\\nReview_Url: /review/rw9200246/?ref_=tt_urv', metadata={'source': '/review/rw9200246/?ref_=tt_urv', 'row': 25}), Document(page_content=\": 26\\nReview_Date: 20 July 2023\\nAuthor: fscsgxp\\nRating: 6\\nReview_Title: Amazing Cast & Set, but the political message was too strong\\nReview: I've been excited for this movie for over a year. The casting was perfect and the acting was amazing! The set was next level, the tiny details were all there and even the highest barbie fan couldn't ask for anything more from it. It is PERFECTION.\\nReview_Url: /review/rw9200246/?ref_=tt_urv\", metadata={'source': '/review/rw9200246/?ref_=tt_urv', 'row': 26}), Document(page_content=\": 27\\nReview_Date: 21 July 2023\\nAuthor: masonsaul\\nRating: 10\\nReview_Title: The best version of itself\\nReview: Barbie is everything expected of it and so much more, a self aware and meta comedy made for fans and newcomers alike that's also incredibly profound, layered and really funny. It's the best version of itself and just immensely satisfying that the Barbie movie that got made on this scale is so weird and unique.\\nReview_Url: /review/rw9200246/?ref_=tt_urv\", metadata={'source': '/review/rw9200246/?ref_=tt_urv', 'row': 27}), Document(page_content=': 28\\nReview_Date: 29 July 2023\\nAuthor: planktonrules\\nRating: 7\\nReview_Title: Good...not great\\nReview: \"Barbie\" is a movie that is setting all sorts of records, so it\\'s obvious that the film is touching many people. For some, it\\'s the fun of seeing a doll come to life, for others it\\'s the theme of empowerment that make the movie a big hit. As for me, I did like it and thought it was a pretty good movie...but it\\'s not for everyone.\\nReview_Url: /review/rw9200246/?ref_=tt_urv', metadata={'source': '/review/rw9200246/?ref_=tt_urv', 'row': 28}), Document(page_content=\": 29\\nReview_Date: 4 August 2023\\nAuthor: thePopcornExplorer\\nRating: 9\\nReview_Title: I don't see how it was preachy\\nReview: In this day and age with society overall becoming more and more polarized and our leaders around the world doing nothing to improve dialogue, it seems that people became broken records. Now everything in the movies and TV shows is perceived as preachy, not everything is a conspiracy, people need to consider that movies and TV shows at its core, and specially the good ones, are about sharing perspectives and allow the audience, if their minds are opened to it, to acknowledge all sides of the stories.\\nReview_Url: /review/rw9200246/?ref_=tt_urv\", metadata={'source': '/review/rw9200246/?ref_=tt_urv', 'row': 29}), Document(page_content=\": 30\\nReview_Date: 21 July 2023\\nAuthor: andermic18\\nRating: 6\\nReview_Title: No Direction\\nReview: The movie was very funny and really enjoyable to laugh at with the full theatre. However, the messages of the movie were the problem. I was never really sure what I was supposed to take away, there was nothing about finding equality or love it was all about how every man cat falls every woman or women can't be anything. It was really silly because there was no accurate reflection of America at any single point except for Barbie getting called a Fascist for no reason by a 14 year old. I enjoyed how they called out women for hating women and how they really tried to preach empowerment and the ability to be anything, but at the same time there was so much resentment and they ended the movie by reinstating hate. The majority of the movie was hating men as much as possible. That's just whatever because what really matters is the story. Well it fell short on that mark and it was really disappointing. The pacing was horrible, the villain won and was pretty irrelevant in the long run, the story was all over the place, and it is totally not for kids. I think the worst part is how disappointed I was at the opportunity to really make something special and it just wasn't. 6 points for all the laughs and fun I had and I would expect 6-7 to be an appropriate rating.\\nReview_Url: /review/rw9200246/?ref_=tt_urv\", metadata={'source': '/review/rw9200246/?ref_=tt_urv', 'row': 30}), Document(page_content=': 31\\nReview_Date: 25 July 2023\\nAuthor: Dello_\\nRating: 4\\nReview_Title: Funny and sharp first half, boring and baffling second one\\nReview: I had great expectations for the Barbie movie, mainly because of the writers (Greta Gerwig and Noah Baumbach) and the stellar cast with Margot Robbie and Ryan Gosling leading the way. Unfortunately I found myself disappointed, bored and shocked by some messages the movie tries to convey.\\nReview_Url: /review/rw9200246/?ref_=tt_urv', metadata={'source': '/review/rw9200246/?ref_=tt_urv', 'row': 31}), Document(page_content=': 32\\nReview_Date: 19 July 2023\\nAuthor: andypaps101\\nRating: 8\\nReview_Title: \"Barbie\" - A Multifaceted Exploration of Femininity, Consumerism, and Existentialism\\nReview: I got free tickets for a preview and to be honest I was more than a little embarrassed to go. I did not tell a soul. As a cool middle aged gentleman if word got out this could have really affected my street cred.\\nReview_Url: /review/rw9200246/?ref_=tt_urv', metadata={'source': '/review/rw9200246/?ref_=tt_urv', 'row': 32}), Document(page_content=\": 33\\nReview_Date: 27 December 2023\\nAuthor: Ed-Shullivan\\nRating: 6\\nReview_Title: I would have preferred to see this as a 30 minute TV sitcom\\nReview: Mrs. Shullivan and I enjoyed about the first 30 minutes of this full length feature film but after about the third song and dance number by the various Ken's we agreed that Ryan Gosling appeared to be the main character and not Barbie.\\nReview_Url: /review/rw9200246/?ref_=tt_urv\", metadata={'source': '/review/rw9200246/?ref_=tt_urv', 'row': 33}), Document(page_content=\": 34\\nReview_Date: 23 July 2023\\nAuthor: jacobarch\\nRating: 3\\nReview_Title: Did I watch the same movie as everyone else lol\\nReview: While the production value, cinematography and acting were what you would expect from Margo Robbie and the supporting cast. I felt the movie fell short of not preaching to me and spreading a message of division rather than unity. Men and women cannot survive without each other but you'd never know it watching this movie. And me having my 13 year old daughter with me almost caused me to walk out of the theater. I kept on waiting for the writers to hit the direction of unity but it never came. After the movie my daughter brought up the message to me saying how she even noticed the weird agenda they're trying to push and said that is not a movie for the easily impressionable. Come to find out my daughter is better suited to take on the world that I thought she was. Proud day for me as a father.\\nReview_Url: /review/rw9200246/?ref_=tt_urv\", metadata={'source': '/review/rw9200246/?ref_=tt_urv', 'row': 34}), Document(page_content=\": 35\\nReview_Date: 29 July 2023\\nAuthor: cmdown-50506\\nRating: 9\\nReview_Title: Now I am become Barbie Girl, the enjoyer of Barbie worlds\\nReview: I have been waiting for this to release for so long and I finally got to watch it today. I absolutely loved it! It was fun, it had Margot Robbie (and extra stuff for Tarantino's out there if you know what I mean) And it had some absolute bangers! What more could you want from a new summer classic?\\nReview_Url: /review/rw9200246/?ref_=tt_urv\", metadata={'source': '/review/rw9200246/?ref_=tt_urv', 'row': 35}), Document(page_content=\": 36\\nReview_Date: 6 November 2023\\nAuthor: popyoshi-36312\\nRating: 6\\nReview_Title: Could be better\\nReview: Completely forgot to review this, the sets are easily the best they're really gorgeous to look at, the characters are fun to watch and the characters are all really enjoyable. The movie gets a bit preachy but only for one scene, I also think the movie is slightly contradictive as every male character is treated as dumb and arrogant despite them promoting equality. It's done for jokes though so I know it's not meant to be an actual message with the humour, I just think it weakens the messaging of the film, it's still a really really good film the ending is super sweet and meaningful and overall it's a great movie especially considering this is a movie about barbie dolls lmao, I personally didn't find it to funny but I still appreciate it for its charm and most of its storytelling.\\nReview_Url: /review/rw9200246/?ref_=tt_urv\", metadata={'source': '/review/rw9200246/?ref_=tt_urv', 'row': 36}), Document(page_content=': 37\\nReview_Date: 26 July 2023\\nAuthor: sophiaaven\\nRating: \\nReview_Title: The HYPE is not real\\nReview: It was sooo boring, I could have left in the middle of the film and not care less about what was happening to the characters. I love the cast but everything was soo unfunny. I left the movie fealing like I learned nothing knew. The movie is trying to be this inclusive thing but with all the jokes directing into the old steriotypes it contradicted its self the hold time. Margot is beyond beautiful and calling her self ugly in the movie even though she is \"The Barbie\" isn\\'t so clevver as they think it is, not even with the narrator. I Love Greta but it dosen\\'t feel like her. Kinda like with Wednesday not feeling like a Tim Burton thing. But good job with the marketing, it got me.\\nReview_Url: /review/rw9200246/?ref_=tt_urv', metadata={'source': '/review/rw9200246/?ref_=tt_urv', 'row': 37}), Document(page_content=\": 38\\nReview_Date: 19 July 2023\\nAuthor: anjamulder\\nRating: 8\\nReview_Title: not for everyone\\nReview: This is very much a movie that will get devided opinions on it, my cousin said well this is two hours of my life i will never get back, and me? I left the theatre in such a good mood. It was the sense of humor for me, laughed so hard. Specially Ryan Gossling was sooooo good and funny, many familiar faces to spot also. And margot robbie come on... the perfect casting for Barbie. I also have to say, the way they created Barbie land was so amazing, it just makes you just want to there. I don't really have anything bad to say about this movie. I can understand not everyone will love it. But i am sure it is a iconic film already.\\nReview_Url: /review/rw9200246/?ref_=tt_urv\", metadata={'source': '/review/rw9200246/?ref_=tt_urv', 'row': 38}), Document(page_content=\": 39\\nReview_Date: 19 July 2023\\nAuthor: tm-sheehan\\nRating: 6\\nReview_Title: Didn't hit my pink spot\\nReview: My Review - Barbie\\nIn Cinemas now\\nMy Rating 6.5/10\\nReview_Url: /review/rw9200246/?ref_=tt_urv\", metadata={'source': '/review/rw9200246/?ref_=tt_urv', 'row': 39}), Document(page_content=': 40\\nReview_Date: 23 July 2023\\nAuthor: eoinageary\\nRating: 8\\nReview_Title: I am Kenough\\nReview: So I went into the movie with little to no expectations and I was pleasantly impressed with the movie overall.\\nReview_Url: /review/rw9200246/?ref_=tt_urv', metadata={'source': '/review/rw9200246/?ref_=tt_urv', 'row': 40}), Document(page_content=\": 41\\nReview_Date: 24 July 2023\\nAuthor: GhostFoxX\\nRating: 6\\nReview_Title: Misleading.\\nReview: I personally expected the movie to be fun and adventurous. Correct me if I'm wrong, but isn't that what it is supposed to be? It's literally a movie about Barbie. Instead, it felt more like an agent of woke culture, and basically Mattel's (the company that produces Barbie dolls) way of capitalizing the emotional aspect of the cinephiles to make their business more popular and trendier. It continuously tried to portray the fact that Mattel is no more producing white barbie dolls, it is now producing dolls of all colors and races. Well, that is definitely a good thing, but making most of the movie focus on that aspect felt very boring and wrong. If they didn't quite make a movie that is fun and adventurous, why make the marketing events misleading? They could've just focused on the audience for whom it was made, rather than on the entire world through their absurdly irrelevant marketing events that made the world think that this movie is going to be all about fun and adventure. Sadly, it was not nearly as enjoyable as the misleading marketing made it seem.\\nReview_Url: /review/rw9200246/?ref_=tt_urv\", metadata={'source': '/review/rw9200246/?ref_=tt_urv', 'row': 41}), Document(page_content=\": 42\\nReview_Date: 14 August 2023\\nAuthor: stusby\\nRating: 4\\nReview_Title: A triumph of marketing for a poorly realised story\\nReview: It's weird seeing a movie that puts gay male culture front and centre of a lesbian-free world.\\nReview_Url: /review/rw9200246/?ref_=tt_urv\", metadata={'source': '/review/rw9200246/?ref_=tt_urv', 'row': 42}), Document(page_content=': 43\\nReview_Date: 22 November 2023\\nAuthor: funnycommentor\\nRating: 8\\nReview_Title: It\\'s definitely NOT the best movie of 2023, but I really enjoyed it\\nReview: First of all, when I first watched the official trailer of the movie I really liked it and I had high expectations about that movie, because it was very innovative. I have to admit, as a man, I really enjoyed that movie and I would definitely recommend it to anyone. The plot of the movie was very interesting, mysterious and really innovative, because there aren\\'t any other movies similar to this one. The storyline was very well written, well-explained and it\\'s concept was definitely something original. The characters were very interesting, well-developed and really likeable. The filming locations of the movie were mainly, barbie land and the real world. The casting was really good and their acting was descent, everyone portrayed their characters really well. The opening scene was definitely unpredictable, very promising and I really liked it. The ending scene was kinda unpredictable and it was hilarious, I definitely enjoyed it. Also, it was a kinda funny movie and there were some intense scenes. Overall, \"Barbie\" was an unexpectedly enjoyable movie, innovative, very meta and it probably deserves a sequel!\\nReview_Url: /review/rw9200246/?ref_=tt_urv', metadata={'source': '/review/rw9200246/?ref_=tt_urv', 'row': 43}), Document(page_content=': 44\\nReview_Date: 15 September 2023\\nAuthor: maxlagerholm\\nRating: 6\\nReview_Title: Excellent marketing team.\\nReview: They really did some fantastic marketing with this movie.\\nReview_Url: /review/rw9200246/?ref_=tt_urv', metadata={'source': '/review/rw9200246/?ref_=tt_urv', 'row': 44}), Document(page_content=': 45\\nReview_Date: 9 September 2023\\nAuthor: moviesgamesandvideos\\nRating: 4\\nReview_Title: Overhyped and banal\\nReview: The film does not live up to the marketing. Its about as subtle as a steamroller and deep as a puddle. There must be primary school books with more depth and nuance than this film.\\nReview_Url: /review/rw9200246/?ref_=tt_urv', metadata={'source': '/review/rw9200246/?ref_=tt_urv', 'row': 45}), Document(page_content=\": 46\\nReview_Date: 23 July 2023\\nAuthor: subxerogravity\\nRating: 8\\nReview_Title: It's like G.I Joe...For girls! Seriously, and I love it for that!\\nReview: I mean, Margo Robbie as Barbie just made perfect sense, but I really wanted to see the movie when I herd that Ryian Gosling was going to be Ken, I just thought that would be hilarious and I was right!\\nReview_Url: /review/rw9200246/?ref_=tt_urv\", metadata={'source': '/review/rw9200246/?ref_=tt_urv', 'row': 46}), Document(page_content=\": 47\\nReview_Date: 19 July 2023\\nAuthor: mark-217-307033\\nRating: 6\\nReview_Title: Fun film whose script falls in on itself\\nReview: Margot Robbie's performance is perfect, and no other actor could've embodied the character as well as she does. However, Ryan Gosling is the film-stealer. I often forget his comedic talent, and he's given a lot of room to flex it in this. A cleverly executed Matchbox Twenty joke is particularly memorable.\\nReview_Url: /review/rw9200246/?ref_=tt_urv\", metadata={'source': '/review/rw9200246/?ref_=tt_urv', 'row': 47}), Document(page_content=\": 48\\nReview_Date: 23 July 2023\\nAuthor: Jeremy_Urquhart\\nRating: 8\\nReview_Title: Surprisingly good\\nReview: I think part of my brain rejects this for being a feature-length toy commercial, but it's a very small part of my brain (and that really wasn't where my mind was for the majority of the movie).\\nReview_Url: /review/rw9200246/?ref_=tt_urv\", metadata={'source': '/review/rw9200246/?ref_=tt_urv', 'row': 48}), Document(page_content=': 49\\nReview_Date: 30 July 2023\\nAuthor: ferguson-6\\nRating: 6\\nReview_Title: serious Barbie\\nReview: BARBIE (2023)\\nGreetings again from the darkness. A reasonable assumption could be made that a movie based on a doll so popular with pre-adolescent girls would be geared towards that audience. However, this is the era of comic book movies targeting \"grown-ups\", and since we know, based on her previous work (the exceptional LADY BIRD, 2017), Greta Gerwig is an intelligent filmmaker, a more reasonable assumption is that she purposefully aimed the movie at women who once played with Barbie dolls and now fill their days with work, family, and adulting. This strategy has proven to be box office gold, and the heavy dose of cosplay at screenings proves the lasting impact this plastic doll has had on many women who lined up for tickets.\\nReview_Url: /review/rw9200246/?ref_=tt_urv', metadata={'source': '/review/rw9200246/?ref_=tt_urv', 'row': 49}), Document(page_content=\": 50\\nReview_Date: 21 July 2023\\nAuthor: rannynm\\nRating: 10\\nReview_Title: What A Film! I Was Ecstatic About Seeing Barbie And It Definitely Exceeded My Expectations By Far.\\nReview: What a film! I was ecstatic about seeing Barbie and it definitely exceeded my expectations by far. As much as I was excited, I was a bit scared that the stakes were too high; after all Barbie is an icon and a part of so many people's childhood. For a film like this it's very easy to create something corny, disappointing, or unappealing to viewers. I'm so glad that Gretta Gerwig stepped up to the plate and created an absolute masterpiece.\\nReview_Url: /review/rw9200246/?ref_=tt_urv\", metadata={'source': '/review/rw9200246/?ref_=tt_urv', 'row': 50}), Document(page_content=': 51\\nReview_Date: 19 July 2023\\nAuthor: dreopdreef\\nRating: 6\\nReview_Title: Not so unique as expected\\nReview: The concept of a Barbie movie is really unique and got me all exited. But unfortunately to me it delivers the same messages that we keep hearing as of lately.\\nReview_Url: /review/rw9200246/?ref_=tt_urv', metadata={'source': '/review/rw9200246/?ref_=tt_urv', 'row': 51}), Document(page_content=': 52\\nReview_Date: 21 July 2023\\nAuthor: MaskedMinty\\nRating: 5\\nReview_Title: Preach Preach Preach\\nReview: Let me start by saying that I\\'m by no means a conservative or traditional woman. I believe that inequality for women still is rampant even in first world countries and that we go through many problems. But damn...this movie is so corporate and shallow. It\\'s clearly ordered and tailored by executives at Mattel to rebrand and sell more dolls. The movie starts well and has the potential of becoming something very good, but then it just goes downhill: the premise of the owner\\'s feeling being projected onto the doll was going to lead to a very nice build up about a person\\'s life journey and then Barbie and Ken go to the human world and cue in the speeches and preaching. This movie suffers from a bad case of showing and not telling, they keep repeating the same dialogues: patriarchy bad patriarchy bad patriarchy bad sexism sexism sexism, not even one time but MULTIPLE TIMES. These characters go into random rants like its a ted talk! The chemistry between the mother and daughter is absolutely nonexistent and their relationship is so cringe, You cant root for them or feel their feelings at all. Barbie should have understood how Kens had been feeling in the Barbieland the whole time which is a mimic of how many women are still treated in the society: just existing for the gaze of a woman (man). Yet what do they do? They manipulate them (with a super nonsense plan) and force them back to their original position while she gives him a half assed apology that could have been done better and end up to a more accurate point about equality. (I guess this is again meta and a reflection of how women are pitted against each other while people in charge benefit from that but its so badly done that it feels meh.)\\nI can imagine that in the boardroom they went through a discussion like this: People are going to think this is a feel good movie so we need to give them something deeper but also lets make it absurd and fast paced so that we can finish the plot quickly and also jump on the \"not taking itself serious\" bandwagon and also market these dolls again in the age of smartphone kids. The only reason this movie gets at 5 from me is the humor, which sometimes becomes very meta and creative and Margot Robbie and Ryan Gosling have acted very well. Besides this, they could have just given us a simple feel good movie and I would have respected the creators more. Pass.\\nReview_Url: /review/rw9200246/?ref_=tt_urv', metadata={'source': '/review/rw9200246/?ref_=tt_urv', 'row': 52}), Document(page_content=': 53\\nReview_Date: 10 August 2023\\nAuthor: adamjohns-42575\\nRating: 8\\nReview_Title: A sheer pleasure to watch.\\nReview: Barbie (2023) -\\nReview_Url: /review/rw9200246/?ref_=tt_urv', metadata={'source': '/review/rw9200246/?ref_=tt_urv', 'row': 53}), Document(page_content=': 54\\nReview_Date: 19 July 2023\\nAuthor: AvionPrince16\\nRating: 6\\nReview_Title: Barbie land and reality\\nReview: Im not really disappointed or love the movie to be honest. It was kind of weird and strange at the beginning: we understand it later because we are in the Barbie world. So they played with the culture reference of the barbie, the dolls and what they represent: an ideal world with where the womans are in power. Things will get pretty normal after they enter the real world and all the problems: sexual remark, womens and their place in society (the inequality with mens.) I was pretty sure they will talk about the problems with womans and their complex because of Barbie and the perfect women she is and how this is contrasted with the real world. Its pretty obvious that they will talk about it. I love also how Ken will also notice how mens are more powerful in the real world: its like everyone see that reality is not really what they perceived themselves in their own reality and power will shift also later in Barbie Land. I understand why they act like this and stuff but i didnt really get into the movie to be honest: i only identify myself when they talked about society and business but all the musical things, the choregraphy and even the morality was kind of superficial. But i enjoyed that Barbie realised the problems of our world and compare to her own. Some moments was funny and some more serious or drama sometimes even if its pretty soft because we are in Barbie Land. I mean i spend a great time but it was kind of ok. And i still think its a great Barbie movie: the task was not easy to represent that world but i enjoyed the set design, the colors, the camera movements. I think people who played with Barbie dolls or just know the universe will be happy; they have a lot of references to the world and a lot of Barbie references to the dolls and the differents clothes and the impact of her in society. Some moments were also absurd ( the fight with all the Kens). Its good anyway.\\nReview_Url: /review/rw9200246/?ref_=tt_urv', metadata={'source': '/review/rw9200246/?ref_=tt_urv', 'row': 54}), Document(page_content=\": 55\\nReview_Date: 21 November 2023\\nAuthor: sandy777\\nRating: 4\\nReview_Title: Some humorous moments, but the story fell flat\\nReview: Barbie, a movie about the beloved doll and all her identities and her friends, what could go wrong? A lot apparently. It started with voice over narration and went downhill from there. There was too much telling rather than showing. Most of this movie constantly explained everything and often told me how I should feel about it. The writing felt like it was trying too hard to be profound and tried to oversimplify complex subjects and gender roles. There were some funny moments, but a lot of the humor and story were far from subtle. I never felt drawn into the characters and what they were experiencing. The story lacked stakes. I didn't care about Barbie or Ken. In the right hands, this movie could have been fun. But Barbie didn't seem to know what it wanted to be or what story it wanted to tell.\\nReview_Url: /review/rw9200246/?ref_=tt_urv\", metadata={'source': '/review/rw9200246/?ref_=tt_urv', 'row': 55}), Document(page_content=\": 56\\nReview_Date: 15 December 2023\\nAuthor: brockfal\\nRating: 8\\nReview_Title: A lot of fun....\\nReview: Firstly, let's just say that I am not in the ideal demographic for 'Barbie', being male, 66 years old, and I don't have children, so it's taken me a while to get to this film. Anyway, what a lot of fun this film is. The concept works brilliantly and it's all carried through with self effacing charm and humour that both wins you over from the start , opening wonderfully with a parody of 2001, and then keeps you engaged throughout. Margot Robbie is perfect in the lead and Ryan Gossling couldn't be better as Ken (or one of the many Ken's), and the whole thing chugs along effortlessly and humorously. The idea of the conflict between the wonderfully created female world of Barbieland and the male dominated real world is milked for all it can give, with director Greta Gerwig hardly missing a trick. On so many levels this is a clever and tremendously entertaining film and I really loved it - even an old guy like me....\\nReview_Url: /review/rw9200246/?ref_=tt_urv\", metadata={'source': '/review/rw9200246/?ref_=tt_urv', 'row': 56}), Document(page_content=\": 57\\nReview_Date: 21 July 2023\\nAuthor: arslanmanzoor123\\nRating: 6\\nReview_Title: Quite disappointing\\nReview: Some friends freaking out that I went to see Barbie lol I mean I mentioned I went coz my sister insisted since ages. Anyway the movie was bad. These days, every other director and producer wants to convey messages about women rights and feminism through whatever platform possible and this movie was a perfect example of that with sheer cringe to convey all that. I wished I had gotten the ticket for Oppenheimer in the same timings as my sister's Barbie show. Other than that, the acting done by Margot Robbie and Ryan Gosling was great so can't take that away from them. They did justice to their roles.\\nReview_Url: /review/rw9200246/?ref_=tt_urv\", metadata={'source': '/review/rw9200246/?ref_=tt_urv', 'row': 57}), Document(page_content=\": 58\\nReview_Date: 23 July 2023\\nAuthor: Anurag-Shetty\\nRating: 10\\nReview_Title: A wholesome delight!\\nReview: Barbie is based on Mattel's iconic plastic dolls of the same name. Barbie(Margot Robbie) lives a very happy life in Barbie Land, along with her fellow Barbies, Ken(Ryan Gosling) & his fellow Kens. Suddenly, Barbie goes through an existential crisis that makes her question Barbie Land & the truth of her existence.\\nReview_Url: /review/rw9200246/?ref_=tt_urv\", metadata={'source': '/review/rw9200246/?ref_=tt_urv', 'row': 58}), Document(page_content=\": 59\\nReview_Date: 20 August 2023\\nAuthor: Leofwine_draca\\nRating: 6\\nReview_Title: A real mixed bag\\nReview: BARBIE is a film I find incredibly difficult to both review and rate. On the face of it, the trappings are pitiful and the tone is all over the place. The audience I saw it with were laughing at the dumbest jokes imaginable (like Gosling bouncing off the plastic wave) and missing all of the depth, which is what I personally found appealing. It's very hard to take such a tongue-in-cheek approach seriously, but then you could argue that it's deliberately bad, deliberately plasticky. Not that that excuses the bad acting from the likes of Ferrera et al. Despite this, the film's skewering of the patriarchy is spot-on, and Gosling turns out to be very good, stealing the film from the others. So it's a film I appreciate some parts of, and not others.\\nReview_Url: /review/rw9200246/?ref_=tt_urv\", metadata={'source': '/review/rw9200246/?ref_=tt_urv', 'row': 59}), Document(page_content=\": 60\\nReview_Date: 3 August 2023\\nAuthor: saramilenkovic1994\\nRating: 8\\nReview_Title: Barbie is a beautiful love letter to womanhood.\\nReview: Ever since I saw Lady Bird, I knew that I will love Greta and her style. It was so human and it spoke to me. So when Barbie was released, there was no doubt I will like this film-but not this much. In 114 minutes, Greta serves everything that she intended sending a beautiful positive message about womanhood. What it means to be human, what it means to live in this broken patriarchal system. The message is clear: to be human is to feel. This movie is funny. And as someone who is not a fan of American humor, that's a big one. But I laughed through the entire movie. I also shared a tear. I loved America's monologue about womanhood. I loved Dame Helen Mirren as a narrator-great choice. Margot is a star. Her Barbie is so authentic. She portrays comedy, as well as the emotional part of the character so well. That last scene was so good. Now I can't skip the star of the film, and that is Ryan Gossling. Ken was hilarious and I will quote him for the rest of my life. But also shows that Greta is sweet to men offering them compassion by showing them that they are enough as it is, they don't have to be more than that. Greta (and Noah), really made a beautiful love letter to womanhood by showing all the parts of it-please the scene with the old lady had my heart. Overall it's already classic and the movie, that will probably be one of my comfort movies.\\nReview_Url: /review/rw9200246/?ref_=tt_urv\", metadata={'source': '/review/rw9200246/?ref_=tt_urv', 'row': 60}), Document(page_content=': 61\\nReview_Date: 18 January 2024\\nAuthor: thalassafischer\\nRating: 6\\nReview_Title: The Ken Stuff Goes on WAY Too Long\\nReview: The weirdest thing about Barbie is that Greta Gerwig couldn\\'t even do Barbie without making such a HUGE deference to Ken. I get that she was trying to make a statement about how women feel by using the Ken\\'s as an \"opposite mirror\" to try to get men to understand patriarchy. I do get that. But aren\\'t there multiple speeches about how taking care of men and fixing them isn\\'t women\\'s job?\\nReview_Url: /review/rw9200246/?ref_=tt_urv', metadata={'source': '/review/rw9200246/?ref_=tt_urv', 'row': 61}), Document(page_content=\": 62\\nReview_Date: 24 July 2023\\nAuthor: brianjohnson-20043\\nRating: 4\\nReview_Title: This movie tries to be too much\\nReview: I wanted to like it. But I just didn't. The story wasn't very compelling to me because it seemed as if the entire point of much of the movie was to provide learning moments for viewers with some slapstick comedy and quick-delivery comedy. The story itself should nearly always be more important.\\nReview_Url: /review/rw9200246/?ref_=tt_urv\", metadata={'source': '/review/rw9200246/?ref_=tt_urv', 'row': 62}), Document(page_content=': 63\\nReview_Date: 24 July 2023\\nAuthor: jp_91\\nRating: 10\\nReview_Title: Barbie existentialism.\\nReview: Barbie, the doll that destroyed stereotypes and taboos to later generate new ones and destroy them again, arrives at the cinema for the first time and does so masterfully. \"Barbie\" is a film that portrays misogyny from the perspective of the famous doll, the script is a biting criticism of patriarchy, internal problems within feminism, family and social relationships, consumerism and existentialism, all full of humor, in some scenes with a lot of black humor and the result is excellent, capturing what it wants to convey to the public. The cinematography by Rodrigo Prieto is magnificent and together with the production design they bring a fictional country full of fantastic and pink plastics. The soundtrack is tremendous, with a list of songs wisely chosen (with some exceptions). The cast is tremendous, Margot Robbie\\'s performance is realistic and sentimental, proving to be the perfect Barbie in all aspects. Ryan Gosling plays Ken with humor and also gives him perfect dramatic nuances. America Ferrara as a working mother achieves a performance to remember, especially for her powerful monologue. Kate McKinnon gives a highly comic performance and an endearing character of a very unusual Barbie. Rhea Perlman pulls off an incredible performance wittily balancing comedy and drama. Ann Roth in a special participation of a single dialogue and a smile achieved a sublime and unforgettable performance. Helen Mirren with a voice acting as The Narrator describes everything with feeling and passion taking advantage of her imposing voice. Greta Gerwig\\'s work as a director is genius, she manages to capture the ideas of the script, gives it her own style and pays homage to movie classics. \"Barbie\" is the movie event of the year, a rightfully earned title for this current classic.\\nReview_Url: /review/rw9200246/?ref_=tt_urv', metadata={'source': '/review/rw9200246/?ref_=tt_urv', 'row': 63}), Document(page_content=': 64\\nReview_Date: 25 July 2023\\nAuthor: spika13\\nRating: 6\\nReview_Title: Too overrated\\nReview: Its like watching at \"Truman\\'s show\" but all the set it\\'s pink color with a hint of extreme feminist ideas. I grew up with barbie dolls and I felt very disappointed, I was expecting a different kind of story, the ending was the worst. I think the message should be more with the real feminist concept of Simone de Bouvoir, we all deserve the same rights. In the end Instead of just Barbie Land they should changed as; Barbie and Ken Land.\\nReview_Url: /review/rw9200246/?ref_=tt_urv', metadata={'source': '/review/rw9200246/?ref_=tt_urv', 'row': 64}), Document(page_content=': 65\\nReview_Date: 27 August 2023\\nAuthor: max-850\\nRating: 4\\nReview_Title: Preacher Barbie?\\nReview: I believe I came to this movie with an open mind. In my opinion a movie balled Barbie needs to be a comedy. And while there were pieces here and there that were funny, for the most part we (and everyone in the theater) only laughed occasionally. The production design and costumes are great. The screenplay is the weakest part. The direction is next weakest. And those two caused a great cast to overact. When this movie takes itself seriously it gets tedious. It\\'s preachy. We are constantly being told what we are seeing and what we should think about what we are thinking. This is not engaging. Why can\\'t we think for ourselves based on what we see? I hated being treated like a ten year old and being spoonfed the morals, thoughts and feelings. But then maybe the target audience is ten-year-olds. In any event, I thought it would never end. By the time they were talking about ordinary Barbie, all I could think was \"Sanctimonious Barbie.\"\\nReview_Url: /review/rw9200246/?ref_=tt_urv', metadata={'source': '/review/rw9200246/?ref_=tt_urv', 'row': 65}), Document(page_content=\": 66\\nReview_Date: 25 July 2023\\nAuthor: mr_bickle_the_pickle\\nRating: 8\\nReview_Title: Life in plastic, it's fantastic!\\nReview: It's an incredibly fun movie. Lots of laughs. Very campy over the top humour. But also surprisingly touching. My favourite scene of the movie is just rather a small quiet moment where Barbie is observing every day life and tells an old woman how beautiful she is. Margot Robbie shines in the lead role. Ryan Gosling clearly was having a lot of fun with the role, but don't sleep on Michael Cera as Allan. I know a lot of people say that Ryan Gosling is a scene stealer, but personally I thought Michael was.\\nReview_Url: /review/rw9200246/?ref_=tt_urv\", metadata={'source': '/review/rw9200246/?ref_=tt_urv', 'row': 66}), Document(page_content=': 67\\nReview_Date: 26 November 2023\\nAuthor: studioAT\\nRating: 6\\nReview_Title: Barbie\\nReview: This probably has been the biggest film of 2023.\\nReview_Url: /review/rw9200246/?ref_=tt_urv', metadata={'source': '/review/rw9200246/?ref_=tt_urv', 'row': 67}), Document(page_content=': 68\\nReview_Date: 22 July 2023\\nAuthor: DoNotComeToTheCinemaDepressed\\nRating: 10\\nReview_Title: 🏩 Possibly a Masterpiece? 💒\\nReview: I Understand that Some People are Going to Have Big Big Problems with Some of the Messaging within this Film. But Sometimes, in Life 😂, You Just Have to Go With It.\\nReview_Url: /review/rw9200246/?ref_=tt_urv', metadata={'source': '/review/rw9200246/?ref_=tt_urv', 'row': 68}), Document(page_content=': 69\\nReview_Date: 1 August 2023\\nAuthor: badreviewer\\nRating: 6\\nReview_Title: This Barbie is dissapointed.\\nReview: Yes. Day by day it becomes more obvious that now the movies are made just because of the income they generate and nothing else. Ok, Barbie itself was not a creative idea, I know. And actually I didn\\'t expect to see something unseen something unique in the first place, all in all it\\'s \"Barbie\".\\nReview_Url: /review/rw9200246/?ref_=tt_urv', metadata={'source': '/review/rw9200246/?ref_=tt_urv', 'row': 69}), Document(page_content=\": 70\\nReview_Date: 12 August 2023\\nAuthor: PotassiumMan\\nRating: 9\\nReview_Title: Big hype and the result is a mirror of today's society\\nReview: Margot Robbie had a vision, and she was the driving force to get the Barbie movie produced by none other than world-class director Greta Gerwig.\\nReview_Url: /review/rw9200246/?ref_=tt_urv\", metadata={'source': '/review/rw9200246/?ref_=tt_urv', 'row': 70}), Document(page_content=': 71\\nReview_Date: 27 February 2024\\nAuthor: pinballwizard-83712\\nRating: 6\\nReview_Title: OVERRATED AND OVERHYPED, BUT A GOOD FILM\\nReview: Greta Gerwig\\'s overhyped and vastly overrated pink feminist fantasy that became a mega-hit at the global box office. For me the highlight of this movie is the opening in the world of \"Barbieland\" which is colorful and visually stunning with some campy humor and a look into the repetitive lives of these living dolls, particularly the stereotypical Barbie, played brilliantly played by Margo Robbie who is pure perfection in the role, and her hunky dimwitted boyfriend Ken, terrifically played by Ryan Gosling who earned an Oscar nomination for his scene-stealing turn, but once Barbie and Ken leave Barbieland and enter the real world the entire lighthearted tone of the film ends, it becomes a negative and turns into a weird war between men and women, I found this part of the film very boring and did not find it funny or entertaining, it turns preachy and dialogue-heavy. Gerwig\\'s direction is solid, but the most impressive thing about this film is its sensational production design which is amazing, some cute musical numbers with Barbie and Ken, and the superb cinematography by Rodrigo Prieto. The supporting performances are all good, but why America Ferrera got an Oscar nomination for her okay performance is beyond me, however special kudos must go to Rhea Perlman who delivers an wonderfully endearing performance in an extended cameo. The film is a disappointment to me that could of been way better, no masterpiece here just a good film.\\nReview_Url: /review/rw9200246/?ref_=tt_urv', metadata={'source': '/review/rw9200246/?ref_=tt_urv', 'row': 71}), Document(page_content=\": 72\\nReview_Date: 13 September 2023\\nAuthor: ambusched94\\nRating: 4\\nReview_Title: Margot Robbie & Ryan Gosling's performances bolster a film with messaging that is heavy-handed and bordering on exhaustingly preachy most of the time\\nReview: The film opens strongly with Margot Robbie and Ryan Gosling delivering compelling performances. Their star power and acting prowess add depth to the movie. However, as the film progresses and Barbie encounters her human counterparts in the real world, the thin plot becomes more noticeable. Some viewers might have preferred a subtler approach to delivering the political message, as the film can be seen as overly direct, leading to a polarizing and preachy tone. This approach aligns with the directorial style and screenplay motifs commonly associated with Greta Gerwig.\\nReview_Url: /review/rw9200246/?ref_=tt_urv\", metadata={'source': '/review/rw9200246/?ref_=tt_urv', 'row': 72}), Document(page_content=': 73\\nReview_Date: 27 July 2023\\nAuthor: sanadalsalt\\nRating: 10\\nReview_Title: Laugh, Reflect, Repeat: Exploring the Wonders of \\'Barbie\\'\\nReview: Oh my goodness, where do I even begin with \"Barbie\" (2023)? This film is an absolute delight and a true masterpiece that will leave you in awe. Directed by the incredibly talented Greta Gerwig and starring the stunning Margot Robbie as the iconic doll herself, \"Barbie\" is a cinematic experience like no other.\\nReview_Url: /review/rw9200246/?ref_=tt_urv', metadata={'source': '/review/rw9200246/?ref_=tt_urv', 'row': 73}), Document(page_content=\": 74\\nReview_Date: 1 March 2024\\nAuthor: groundzero-273-397110\\nRating: 6\\nReview_Title: I will for sure keep listening to I'm Just Ken!\\nReview: I thought Barbie would be much more childish than it was. At the beginning of the film, I thought about what I was actually watching. It started out childish, but then it turned out that it is aimed at a more adult audience. Many of the jokes in the film will not be understood by children. There were parts of the film that I liked and parts that I loathed. It is well directed and has lovely singing and dancing that sticks in one's head, especially the song at the end, I'm Just Ken. Loved it.\\nReview_Url: /review/rw9200246/?ref_=tt_urv\", metadata={'source': '/review/rw9200246/?ref_=tt_urv', 'row': 74}), Document(page_content=\": 75\\nReview_Date: 13 September 2023\\nAuthor: tommy-97761\\nRating: 5\\nReview_Title: How is this movie so popular?\\nReview: I realise that I am hardly the target audience of this movie, but even so, slogging trough the movie I am baffled as to what the appeal is? There must be something with all the money it made at the box office, right? I haven't read any other reviews yet so as not to spoil my own impression of the movie.\\nReview_Url: /review/rw9200246/?ref_=tt_urv\", metadata={'source': '/review/rw9200246/?ref_=tt_urv', 'row': 75}), Document(page_content=': 76\\nReview_Date: 1 August 2023\\nAuthor: tforbes-2\\nRating: 10\\nReview_Title: Mind blowing\\nReview: Barbie is simply a mind-blowing experience, and in a truly fine way! I was taken aback with the 2001 opening, since I have a personal aversion to seeing toys get destroyed, but then it starts to unfold.\\nReview_Url: /review/rw9200246/?ref_=tt_urv', metadata={'source': '/review/rw9200246/?ref_=tt_urv', 'row': 76}), Document(page_content=\": 77\\nReview_Date: 23 July 2023\\nAuthor: jacquihives\\nRating: 6\\nReview_Title: I had no expectations but was still underwhelmed\\nReview: I loved barbie growing up, and even at 42 years old I couldn't wait to go see the movie! I didn't have any expectations because I had no idea how they could make a movie about barbie that's for adults and not kids. I adored Barbieland, but unfortunately they leave it behind so fast and with it they also leave behind everything good about bringing barbie to life in a movie! It got silly, had no storyline, was overly political and woke, man bashing and made men silly, and I really didn't care for the ending which is just as well because it was abrupt and crude.\\nReview_Url: /review/rw9200246/?ref_=tt_urv\", metadata={'source': '/review/rw9200246/?ref_=tt_urv', 'row': 77}), Document(page_content=': 78\\nReview_Date: 29 July 2023\\nAuthor: connor707\\nRating: 10\\nReview_Title: Not made for me but loved nonetheless\\nReview: As a man who has never touched a barbie in my life, I was definitely not the intended audience for this film. However, I absolutely enjoyed it. It\\'s funny, entertaining, and poignant. I came in thinking it would be sort of silly and fun, which it was, but it also was about barbie, an always-positive \"person\\'s\" journey into the real world and how messed up and unfair it is. She believes that the real world must be just like hers, where women are recognized for their achievements and always given the opportunity, respect, and tools to succeed in life. She is obviously very disappointed in our world when she actually experiences it. I think any guy tagging along to see this will enjoy it unless he\\'s a misogynist and/or very insecure in his masculinity.\\nReview_Url: /review/rw9200246/?ref_=tt_urv', metadata={'source': '/review/rw9200246/?ref_=tt_urv', 'row': 78}), Document(page_content=\": 79\\nReview_Date: 29 August 2023\\nAuthor: adamblackshaw-14445\\nRating: 6\\nReview_Title: Did I just watch a 2hr Mattel advertisement?\\nReview: BARBIE is a great example of hype over substance. It is laugh out loud at times and Gosling steals every scene he's in. The art direction is on point. What makes it tiresome is THE MESSAGE pummelled into the audience, but then were we expecting any subtly? Probably not. Ultimately my wife just thought, 'I already know this. I don't need to hear it. But maybe some women do?' I get her point. In the end it felt like we were being sold Barbie Dolls as some kind of icon of feminism. But seriously, they are a very poor example of female role models. Not surprisingly Mattel was one of the producers.\\nReview_Url: /review/rw9200246/?ref_=tt_urv\", metadata={'source': '/review/rw9200246/?ref_=tt_urv', 'row': 79}), Document(page_content=': 80\\nReview_Date: 25 July 2023\\nAuthor: aivilovee\\nRating: 9\\nReview_Title: Goofy, girly, and gorgeous\\nReview: I knew going into Barbie that I was in for a visual feast. The trailers showcased the wonderful set design, costumes, and performances already. But I was not expecting how affecting this movie would be.\\nReview_Url: /review/rw9200246/?ref_=tt_urv', metadata={'source': '/review/rw9200246/?ref_=tt_urv', 'row': 80}), Document(page_content=': 81\\nReview_Date: 6 November 2023\\nAuthor: kk-59333\\nRating: 7\\nReview_Title: Interesting concept but not as deep as expected\\nReview: The movie isn\\'t as fantastic as it was hyped to be. Its deconstruction of patriarchy and satire fall short of what was expected. Instead, it seems to remain on a rather superficial level of \"girls can do anything\" and \"find yourself.\" The most controversial aspect of the Barbie character, whether it exacerbates women\\'s appearance anxiety, is hardly mentioned at all. In my view, it\\'s essentially a reiteration of the same old themes, just presented in updated ways. However, considering Hollywood\\'s consistent conservatism and focus on profits, I appreciate that this is a brave attempt at expressing feminism within the world\\'s most profit-driven film industry.\\nReview_Url: /review/rw9200246/?ref_=tt_urv', metadata={'source': '/review/rw9200246/?ref_=tt_urv', 'row': 81}), Document(page_content=\": 82\\nReview_Date: 1 August 2023\\nAuthor: fredrikgunerius\\nRating: 5\\nReview_Title: A trite, divisive and most likely futile battle of the sexes\\nReview: The big summer blockbuster of 2023 is a wonderful visual spectacle with a great deal of creative physical comedy, centered in and around the universe of Barbie, Mattel's historic toy doll. Unfortunately, the film tries to be and do much more than what the filmmakers ultimately are able to control and reel in. That a movie about Barbie would be guilty of Americanization is no surprise, and in many ways more than befitting, but the Americanization here isn't just about the history of the toy itself and all its cultural impacts - Barbie also views everything through the eyes of Hollywood anno 2023 - which arguably is a very particular and perhaps not that representative outlook. Instead of utilizing the fine foundation laid in the film's first third, director and co-writer Greta Gervig (Lady Bird, Little Women) gets herself lost in a trite, divisive and most likely futile battle of the sexes, which will leave youths - and perhaps particularly Europeans - feeling confused and conflicted. The filmmakers' supposed toying with stereotypes ultimately becomes more of a playing into them, especially towards the end when Gerwig staggers along desperately looking for closure and something meaningful to say. Alas, Barbie has ended up as a rather sad symptom of our times, when it could have been the wonderfully funny piece of femininity-appraising escapism it started out as. There are nonetheless several highlights here, such as the delightfully absurd opening sequence (a fine nod to Kubrick's 2001), the initial introduction of Barbie and Ken's days in Barbieland, and - of course - their first encounter with the real world.\\nReview_Url: /review/rw9200246/?ref_=tt_urv\", metadata={'source': '/review/rw9200246/?ref_=tt_urv', 'row': 82}), Document(page_content=\": 83\\nReview_Date: 17 August 2023\\nAuthor: martinpersson97\\nRating: 10\\nReview_Title: Greta Gerwig never disappoints\\nReview: I hope you won't let the title of the film fool you; this is not some family movie for little girls. It is an all around auteuristic film by the ever great Greta Gerwig, and an instant classic cult film.\\nReview_Url: /review/rw9200246/?ref_=tt_urv\", metadata={'source': '/review/rw9200246/?ref_=tt_urv', 'row': 83}), Document(page_content=\": 84\\nReview_Date: 24 September 2023\\nAuthor: questl-18592\\nRating: 6\\nReview_Title: Kenough\\nReview: Movies are odd sometimes. In this case, I feel like the review I would have written the second the credits rolled would've been more positive than the one I'm watching now, a couple of hours later. But, as I've had time to sit with this one, I can't help but feel my opinion on it... Diminishing.\\nReview_Url: /review/rw9200246/?ref_=tt_urv\", metadata={'source': '/review/rw9200246/?ref_=tt_urv', 'row': 84}), Document(page_content=': 85\\nReview_Date: 30 September 2023\\nAuthor: Criticalstaff\\nRating: 4\\nReview_Title: Plastic in the worst way possible\\nReview: It took me quite some time to decipher this movie. I felt like I was missing something, that there was more to it than first apparent. The acting, the dialogue, the sets, the costume: technically it is polished and purposeful; yet I was utterly unable to engage with it. And finally it hit me: that is because it is actually a commercial.\\nReview_Url: /review/rw9200246/?ref_=tt_urv', metadata={'source': '/review/rw9200246/?ref_=tt_urv', 'row': 85}), Document(page_content=\": 86\\nReview_Date: 23 July 2023\\nAuthor: nethy-nho\\nRating: 10\\nReview_Title: Barbie is not a simple live action of a timeless doll\\nReview: But it is also in its smallest details, from the art direction, costumes, and any technical choice completely thought of referencing all Barbie generations and the like. A soundtrack that will take you from laughing to crying (yes, very musical moments, after all it is a Barbie movie), in addition to the hand-picked cast, Margot is impeccable and manages to express all her feelings, just with her eyes. Greta's direction and screenplay, just amazing, strong, emotional, empowering and very, very feminist, not only for the women who are already fighting for the cause, but to open everyone's eyes to a sisterhood.\\nReview_Url: /review/rw9200246/?ref_=tt_urv\", metadata={'source': '/review/rw9200246/?ref_=tt_urv', 'row': 86}), Document(page_content=\": 87\\nReview_Date: 6 August 2023\\nAuthor: kelboy10\\nRating: 6\\nReview_Title: Life is plastic!\\nReview: Firstly, let's start with what was good about Barbie and move forward from there. The colourful palette, the set designs and costumes were perfect to bring you into a world that doesn't take itself too seriously. Barbie wasn't meant to get all philosophical and it wasn't necessarily supposed to provide us with a point. What it gave little girls is happiness and entertainment value. In the early stages of the movie it undoubtedly had potential to be a lot of fun with a comedic effect.\\nReview_Url: /review/rw9200246/?ref_=tt_urv\", metadata={'source': '/review/rw9200246/?ref_=tt_urv', 'row': 87}), Document(page_content=\": 88\\nReview_Date: 15 August 2023\\nAuthor: EUyeshima\\nRating: 8\\nReview_Title: Perceptive Take on the Barbie Mythos\\nReview: There's a bold and consistent current of subversive humanism that runs through this infectious 2023 satire that director Greta Gerwig manages with stylish aplomb. She and partner Noah Baumbach have taken the Barbie mythos and built a multilayered narrative around the evolving nature of female identity and empowerment within the context of male dominance and the patriarchy that has defined sexual roles since the beginning of time. However, this is neither a treatise nor a polemic. It's still primarily a fun, free-wheeling farce with Day-Glo colors and silly choreography filling up the screen with zestful energy informed by a knowing perspective. Margot Robbie is ideally cast in the title role as she epitomizes stereotypical Barbie. Ryan Gosling gives Ken the right level of disempowerment as he gets taken in by the lure of toxic masculinity. The rest of the cast appear equally game. Gerwig has truly applied a perceptive twist to a candy-coated girlhood memory.\\nReview_Url: /review/rw9200246/?ref_=tt_urv\", metadata={'source': '/review/rw9200246/?ref_=tt_urv', 'row': 88}), Document(page_content=\": 89\\nReview_Date: 27 July 2023\\nAuthor: mr_sharma\\nRating: 7\\nReview_Title: I'm a middle aged man with daughters. I liked it.\\nReview: I suspect this is a personal thing. Who you are defines what you may get from this.\\nReview_Url: /review/rw9200246/?ref_=tt_urv\", metadata={'source': '/review/rw9200246/?ref_=tt_urv', 'row': 89}), Document(page_content=\": 90\\nReview_Date: 28 July 2023\\nAuthor: klastaitas\\nRating: 8\\nReview_Title: We're All Dolls\\nReview: Without consumerism, without belief, without plastic accessory and hope for a perfect day, where would Barbie find herself?\\nReview_Url: /review/rw9200246/?ref_=tt_urv\", metadata={'source': '/review/rw9200246/?ref_=tt_urv', 'row': 90}), Document(page_content=': 91\\nReview_Date: 10 November 2023\\nAuthor: SoumikBanerjee1996\\nRating: 6\\nReview_Title: I expect better from Greta Gerwig!\\nReview: When the execution banks on shrewd humour and clever writing, the movie thrives as a vivid spectacle, as a lighthearted entertainer, but whenever it delves deeper than the surface and enthusiastically seeks for the hidden under-layers, the psyches of Barbie and Ken, their understanding of the world and their impaired perspectives, the output just becomes so much fuller, the film comes to be something else altogether.\\nReview_Url: /review/rw9200246/?ref_=tt_urv', metadata={'source': '/review/rw9200246/?ref_=tt_urv', 'row': 91}), Document(page_content=': 92\\nReview_Date: 22 July 2023\\nAuthor: shadowtramp\\nRating: 5\\nReview_Title: More of a marketing flick\\nReview: The brilliant marketing is what led us tonight to pay for the tickets. The brilliance ends there.\\nReview_Url: /review/rw9200246/?ref_=tt_urv', metadata={'source': '/review/rw9200246/?ref_=tt_urv', 'row': 92}), Document(page_content=\": 93\\nReview_Date: 5 August 2023\\nAuthor: sjw1029\\nRating: 8\\nReview_Title: The movie event of 2023 lives up to the hype\\nReview: Let me start by saying it makes me happy to see a movie that isn't from the MCU or a sequel doing so well at the box office. There is still originality out there. This movie was very funny - the scene with Ken and the doctor in LA made me laugh very hard. It's weird and inventive. It has amazing choreography. So many talented people worked on this. I didn't grow up with Barbies so I'm sure a lot of the jokes went over my head. But it didn't hurt the enjoyment. It even manages to land a sentimental note at the end. I can definitely see this being a movie people see over and over.\\nReview_Url: /review/rw9200246/?ref_=tt_urv\", metadata={'source': '/review/rw9200246/?ref_=tt_urv', 'row': 93}), Document(page_content=\": 94\\nReview_Date: 20 July 2023\\nAuthor: FeastMode\\nRating: 7\\nReview_Title: I'll beach off with you any day, Ken\\nReview: I had no idea what to expect going into Barbie. I had no interest in seeing a movie about Barbie but was immediately sold on the highly talented Margot Robbie and the awesome Ryan Gosling. But I was still nervous that the comedy would be aimed strictly at women and would be difficult for a guy to enjoy.\\nReview_Url: /review/rw9200246/?ref_=tt_urv\", metadata={'source': '/review/rw9200246/?ref_=tt_urv', 'row': 94}), Document(page_content=': 95\\nReview_Date: 22 July 2023\\nAuthor: fernandoschiavi\\nRating: 5\\nReview_Title: \"Barbie\" is fun and visually beautiful, but unfortunately Barbie doll was dragged into the cultural war, used as a puppet by political militancy\\nReview: Despite the strong commercial tone, it is still possible to perceive that we are watching a film by Greta Gerwig, director known for dramatic comedies that capture the complexity of femininity in an original way - although, in this case, it is almost inevitable to fall into some clichés. The undeniable feminist tone exists through the presence of this female director - in addition to Margot Robbie herself as a producer. \"Barbie\" has sharp and intelligent comments on the dynamics between men and women over time and also on how these social roles are seen and problematized today. And the film does it with a big heart: the story is genuinely fun, with a humor that walks between acidity and innocence, but also moves with the existential journey of its protagonists, reserving touching moments and provoking reflections, especially in its final stretch. Debauchery is the great ally of Gerwig and Baumbach to deal not only with sexism, but also with the \"corporate\" issue. It won\\'t be strange if you catch yourself thinking \"how did Mattel let this film see the light of day?\" Laughing at yourself, after all, seems to be a prerequisite for establishing communication with a young generation of consumers who associate their consumption habits with a critical eye on consumerism itself.\\nReview_Url: /review/rw9200246/?ref_=tt_urv', metadata={'source': '/review/rw9200246/?ref_=tt_urv', 'row': 95}), Document(page_content=': 96\\nReview_Date: 3 August 2023\\nAuthor: anonim-73883\\nRating: 10\\nReview_Title: Great philosophical film to think about and laugh about.\\nReview: This is.... Was.... Admirably!\\nReview_Url: /review/rw9200246/?ref_=tt_urv', metadata={'source': '/review/rw9200246/?ref_=tt_urv', 'row': 96}), Document(page_content=': 97\\nReview_Date: 10 September 2023\\nAuthor: Lincsobserver\\nRating: 6\\nReview_Title: Colourful, but confusing\\nReview: Who exactly was this film aimed at? Most of the audience when I saw it were adolescents, and there were numerous (perhaps too many) colourful song and dance scenes, which might have appealed to younger viewers, but also a lot of philosophical debate about gender roles and inter-relationships that would have gone over their heads, particularly as these were delivered at a frantic, garbled pace. There were some good comic scenes, and stand-out performances by Margot Robbie and Ryan Gosling, but as the film wore on, it all became a bit preachy. The message seemed to be about finding self-fulfilment rather than romance. Okay, not every film, or every life, has to end in a fairy-tale romantic coupling, but the emphasis on individual fulfilment within the support structure of the sisterhood seems a little bleak. It also makes nonsense of the final confusing pay-off line of the film.\\nReview_Url: /review/rw9200246/?ref_=tt_urv', metadata={'source': '/review/rw9200246/?ref_=tt_urv', 'row': 97}), Document(page_content=': 98\\nReview_Date: 25 July 2023\\nAuthor: kimberlyely-27550\\nRating: 10\\nReview_Title: Everyone watch this\\nReview: Barbie\\nReview_Url: /review/rw9200246/?ref_=tt_urv', metadata={'source': '/review/rw9200246/?ref_=tt_urv', 'row': 98}), Document(page_content=': 99\\nReview_Date: 19 July 2023\\nAuthor: AvionPrince16\\nRating: 6\\nReview_Title: Barbie Land\\nReview: Im not really disappointed or love the movie to be honest. It was kind of weird and strange at the beginning: we understand it later because we are in the Barbie world. So they played with the culture reference of the barbie, the dolls and what they represent: an ideal world with where the womans are in power. Things will get pretty normal after they enter the real world and all the problems: sexual remark, womens and their place in society (the inequality with mens.) I was pretty sure they will talk about the problems with womans and their complex because of Barbie and the perfect women she is and how this is contrasted with the real world. Its pretty obvious that they will talk about it. I love also how Ken will also notice how mens are more powerful in the real world: its like everyone see that reality is not really what they perceived themselves in their own reality and power will shift also later in Barbie Land. I understand why they act like this and stuff but i didnt really get into the movie to be honest: i only identify myself when they talked about society and business but all the musical things, the choregraphy and even the morality was kind of superficial. But i enjoyed that Barbie realised the problems of our world and compare to her own. Some moments was funny and some more serious or drama sometimes even if its pretty soft because we are in Barbie Land. I mean i spend a great time but it was kind of ok. And i still think its a great Barbie movie: the task was not easy to represent that world but i enjoyed the set design, the colors, the camera movements. Its good anyway.\\nReview_Url: /review/rw9200246/?ref_=tt_urv', metadata={'source': '/review/rw9200246/?ref_=tt_urv', 'row': 99})]\n"
          ]
        }
      ]
    },
    {
      "cell_type": "code",
      "source": [
        "len(data)"
      ],
      "metadata": {
        "colab": {
          "base_uri": "https://localhost:8080/"
        },
        "id": "WqnMmj9XeSLX",
        "outputId": "1ff84c5c-0c52-49a8-b168-1443ad4e6c33"
      },
      "execution_count": 7,
      "outputs": [
        {
          "output_type": "execute_result",
          "data": {
            "text/plain": [
              "100"
            ]
          },
          "metadata": {},
          "execution_count": 7
        }
      ]
    },
    {
      "cell_type": "markdown",
      "source": [
        "### Split data"
      ],
      "metadata": {
        "id": "Dg-_s0M7esfQ"
      }
    },
    {
      "cell_type": "code",
      "source": [
        "from langchain.text_splitter import RecursiveCharacterTextSplitter\n",
        "\n",
        "splitter = RecursiveCharacterTextSplitter(\n",
        "    chunk_size = 1000,\n",
        "    chunk_overlap = 100,\n",
        "    length_function = len,\n",
        ")\n",
        "\n",
        "documents = splitter.transform_documents(data)"
      ],
      "metadata": {
        "id": "lq71hHXXeUxX"
      },
      "execution_count": 8,
      "outputs": []
    },
    {
      "cell_type": "code",
      "source": [
        "print(documents)"
      ],
      "metadata": {
        "colab": {
          "base_uri": "https://localhost:8080/"
        },
        "id": "53B6pFMMf0W_",
        "outputId": "28bcca81-0e94-4401-f419-f7c53234a5a9"
      },
      "execution_count": 9,
      "outputs": [
        {
          "output_type": "stream",
          "name": "stdout",
          "text": [
            "[Document(page_content=': 0\\nReview_Date: 21 July 2023\\nAuthor: LoveofLegacy\\nRating: 6\\nReview_Title: Beautiful film, but so preachy\\nReview: Margot does the best with what she\\'s given, but this film was very disappointing to me. It was marketed as a fun, quirky satire with homages to other movies. It started that way, but ended with over-dramatized speeches and an ending that clearly tried to make the audience feel something, but left everyone just feeling confused. And before you say I\\'m a crotchety old man, I\\'m a woman in my 20s, so I\\'m pretty sure I\\'m this movie\\'s target audience. The saddest part is there were parents with their kids in the theater that were victims of the poor marketing, because this is not a kid\\'s movie. Overall, the humor was fun on occasion and the film is beautiful to look at, but the whole concept falls apart in the second half of the film and becomes a pity party for the \"strong\" woman.\\nReview_Url: /review/rw9200246/?ref_=tt_urv', metadata={'source': '/review/rw9200246/?ref_=tt_urv', 'row': 0}), Document(page_content=': 1\\nReview_Date: 26 July 2023\\nAuthor: aherdofbeautifulwildponies\\nRating: 6\\nReview_Title: A Hot Pink Mess\\nReview: Before making Barbie (2023),\\nReview_Url: /review/rw9200246/?ref_=tt_urv', metadata={'source': '/review/rw9200246/?ref_=tt_urv', 'row': 1}), Document(page_content=\": 2\\nReview_Date: 23 July 2023\\nAuthor: Revuer223\\nRating: 6\\nReview_Title: Could Have Been Great. 2nd Half Brings It Down.\\nReview: The quality, the humor, and the writing of the movie is fun for a while. It's quirky and it's unique. When they get into the weeds and try to explore deeper themes, the movie is a miss. The middle expositional phase of the movie, I must say, is a bore.\\nReview_Url: /review/rw9200246/?ref_=tt_urv\", metadata={'source': '/review/rw9200246/?ref_=tt_urv', 'row': 2}), Document(page_content=': 3\\nReview_Date: 21 July 2023\\nAuthor: Sleepin_Dragon\\nRating: 8\\nReview_Title: Well this really did come as a surprise.\\nReview: It pains me to say it, but I enjoyed this movie so much more then I was expecting to, musical numbers, humour, there truly is something for the whole family yo enjoy.\\nReview_Url: /review/rw9200246/?ref_=tt_urv', metadata={'source': '/review/rw9200246/?ref_=tt_urv', 'row': 3}), Document(page_content=': 4\\nReview_Date: 22 July 2023\\nAuthor: Natcat87\\nRating: 6\\nReview_Title: Too heavy handed\\nReview: As a woman that grew up with Barbie, I was very excited for this movie. I was curious to see how they would evolve the \"stereotypical Barbie\" into something more. But the messaging in this movie was so heavy handed that it completely lost the plot. I consider myself a proponent of gender equality, and this ain\\'t the way to get it.\\nReview_Url: /review/rw9200246/?ref_=tt_urv', metadata={'source': '/review/rw9200246/?ref_=tt_urv', 'row': 4}), Document(page_content=\": 5\\nReview_Date: 31 July 2023\\nAuthor: ramair350\\nRating: 10\\nReview_Title: As a guy I felt some discomfort, and that's ok.\", metadata={'source': '/review/rw9200246/?ref_=tt_urv', 'row': 5}), Document(page_content='Review: As much as it pains me to give a movie called \"Barbie\" a 10 out of 10, I have to do so. It is so brilliantly handled and finely crafted, I have to give the filmakers credit. Yes, I am somewhat conservative person and former law enforcement officer. I\\'m a guy. I like guy things. Hell I even enjoyed the Battleship movie a few years ago (an absolutely ridiculous but fun romp of an action film). But I also like to experience other perspectives. And man oh man does this movie deliver that in spades - pretty much encapsulated everything my wife has tried to convey about her entire career and life experience wrapped up into two hours! The humor, the sets, the acting, and the ability to weave the current narrative into the story was just perfect. I don\\'t agree with some of the points of the movie, but again, that\\'s ok. This movie wasn\\'t designed to give a balanced perspective of men versus women; it is a no-holds-barred unapologetic crazy ride of a rant about the real issues that', metadata={'source': '/review/rw9200246/?ref_=tt_urv', 'row': 5}), Document(page_content='versus women; it is a no-holds-barred unapologetic crazy ride of a rant about the real issues that women have faced since they were \"allowed\" to have \"real jobs\" and do the same things as men. Give me a well done film that is a blast to watch, that makes you think, and that was done from a place of creativity, passion, and attention to detail, and I\\'ll call it what it is: a 10 out of 10 masterpiece.', metadata={'source': '/review/rw9200246/?ref_=tt_urv', 'row': 5}), Document(page_content='Review_Url: /review/rw9200246/?ref_=tt_urv', metadata={'source': '/review/rw9200246/?ref_=tt_urv', 'row': 5}), Document(page_content=': 6\\nReview_Date: 22 July 2023\\nAuthor: imseeg\\nRating: 7\\nReview_Title: 3 reasons FOR seeing it and 1 reason AGAINST.\\nReview: The first reason to go see it:\\nReview_Url: /review/rw9200246/?ref_=tt_urv', metadata={'source': '/review/rw9200246/?ref_=tt_urv', 'row': 6}), Document(page_content=\": 7\\nReview_Date: 24 July 2023\\nAuthor: coxaneesa\\nRating: 8\\nReview_Title: It was depressing\\nReview: I thought this would be so much different. The ending made me feel sad and empty. Ken and Barbie don't end up together and they made Ken seem like a complete idiot. Actually they presented men as being dumb throughout the whole movie. And I'm not a man but that's just not true. It was depressing and sad and never the way Barbie was created for. I know a lot of people won't agree with me and that's okay but it was just pointless going to see it. The only good thing is that the Barbie aesthetic was beautifully done.\\nReview_Url: /review/rw9200246/?ref_=tt_urv\", metadata={'source': '/review/rw9200246/?ref_=tt_urv', 'row': 7}), Document(page_content=\": 8\\nReview_Date: 21 July 2023\\nAuthor: G-Joshua-Benjamin\\nRating: 6\\nReview_Title: My mom and I saw this yesterday. Here are my thoughts.\\nReview: I don't know if I put spoilers in here. I am super worn out. Haha So I will just put that I did.\\nReview_Url: /review/rw9200246/?ref_=tt_urv\", metadata={'source': '/review/rw9200246/?ref_=tt_urv', 'row': 8}), Document(page_content=': 9\\nReview_Date: 20 July 2023\\nAuthor: MissSimonetta\\nRating: 4\\nReview_Title: The marketing was more entertaining than the actual movie\\nReview: I went to see this today, everyone in my group dressed in pink and ready to at least be entertained by pastel-colored camp for two hours. BARBIE kind of succeeds there: I loved the costuming and sets of Barbieland, and Margot Robie is such a fantastic actress, the perfect embodiment of the optimistic, she-can-do-it-all Barbie. Ryan Gosling was a scene-stealer with his horse obsession and faux mink coat.\\nReview_Url: /review/rw9200246/?ref_=tt_urv', metadata={'source': '/review/rw9200246/?ref_=tt_urv', 'row': 9}), Document(page_content=': 10\\nReview_Date: 19 July 2023\\nAuthor: HabibieHakim123\\nRating: 8\\nReview_Title: Barbie Is A Weirdly Fun Movie!\\nReview: 8.5/10', metadata={'source': '/review/rw9200246/?ref_=tt_urv', 'row': 10}), Document(page_content='While i\\'m not so sure at first, the movie kept getting even more fun, entertaining, and definitely better, also surprisingly deal with a legit serious stuff, Barbie is a weirdly fun movie that fills with this very interesting concept, definitely the first time that\\'s ever done, Greta Gerwig has created this whole new style of filmmaking specifically for Barbie, from the intentionally weird yet creative editing, some awkward and cringe scene, i found the comedy so funny instead of cringe, Barbie is one of the most original movie of the year and also one of the most original movie i\\'ve seen in a while, we all know Margot Robbie and Ryan Gosling is gonna carry the movie and they are, but Will Ferrell, Simu Liu, and the whole rest of the cast were also great and entertaining, the soundtrack was just great, except Nicki Minaj and Ice Spice \"Barbie World\" song that are just absolutely terrible, but Billie Eilish \"What Was I Made For?\" tune that kept haunting in the background until it', metadata={'source': '/review/rw9200246/?ref_=tt_urv', 'row': 10}), Document(page_content='but Billie Eilish \"What Was I Made For?\" tune that kept haunting in the background until it finally get the perfect scene to played it was really the best thing because that song was just beautiful and emotional, anyway, Barbie is a lot of fun, while there is still some noticeable flawed, most of them i found it funny, entertaining, colourful, creative, and fun, pure fun, it\\'s something that i probably will love it even more the second time i see it, but as of right now, Barbie was a good time, definitely recommended and with this movie somehow it\\'s actually possible to have a live-action Barbie movie, all you need to have is a good writer, good director, and good cast, and they delivers mostly.', metadata={'source': '/review/rw9200246/?ref_=tt_urv', 'row': 10}), Document(page_content='Review_Url: /review/rw9200246/?ref_=tt_urv', metadata={'source': '/review/rw9200246/?ref_=tt_urv', 'row': 10}), Document(page_content=': 11\\nReview_Date: 20 July 2023\\nAuthor: portraitofaladyonfire\\nRating: 6\\nReview_Title: Brilliant observations, but social depth is missing\\nReview: Greta Gerwig and Noah Baumbach have a knack for incorporating the many little observations of life, whether funny or deeply interpersonal, into a screenplay. Gerwig manages to direct them with great visuals and clever transitions.\\nReview_Url: /review/rw9200246/?ref_=tt_urv', metadata={'source': '/review/rw9200246/?ref_=tt_urv', 'row': 11}), Document(page_content=': 12\\nReview_Date: 23 July 2023\\nAuthor: herrcarter-92161\\nRating: 5\\nReview_Title: Somewhat of a Jumbled Mess\\nReview: My 15-year old daughter wrote the following review and posted it to my IMDB account.\\nReview_Url: /review/rw9200246/?ref_=tt_urv', metadata={'source': '/review/rw9200246/?ref_=tt_urv', 'row': 12}), Document(page_content=': 13\\nReview_Date: 19 July 2023\\nAuthor: jpismyname\\nRating: 8\\nReview_Title: Fun and surprisingly touching\\nReview: I was honestly doubting this movie at first, but surprisingly I find myself really liking it quite a lot.\\nReview_Url: /review/rw9200246/?ref_=tt_urv', metadata={'source': '/review/rw9200246/?ref_=tt_urv', 'row': 13}), Document(page_content=': 14\\nReview_Date: 24 July 2023\\nAuthor: lokicola\\nRating: 6\\nReview_Title: Strong Start... and That\\'s It\\nReview: I walked out of the theatre thinking, \"Yeah, I had a good time in that movie\". But as the day went on I kind had that \"Ok, that kebab probably wasn\\'t a good idea.\"\\nReview_Url: /review/rw9200246/?ref_=tt_urv', metadata={'source': '/review/rw9200246/?ref_=tt_urv', 'row': 14}), Document(page_content=': 15\\nReview_Date: 9 August 2023\\nAuthor: L3MM3\\nRating: \\nReview_Title: Boring, mind-numbing drivel\\nReview: I do not usually write reviews, but this is beyond description. Last time I wrote a review it was for the absolutely horrible wrinkle in time. This is almost as bad. At least Gosling plays his part well, but the story is abysmal. If you can find anything else to do like watch paint dry, then yes please do. You will save your brain cells the agony of a painful slow ..... nearly two hours long this was mind-numbing storytelling at its mediocre worst. How many ways can I say do not go see it if you have a choice. See anything else but this exercise in horrendous cliches and exaggerated self-importance. If I could give it negative 10 stars I would.\\nReview_Url: /review/rw9200246/?ref_=tt_urv', metadata={'source': '/review/rw9200246/?ref_=tt_urv', 'row': 15}), Document(page_content=': 16\\nReview_Date: 24 July 2023\\nAuthor: heatherhilgers\\nRating: 9\\nReview_Title: A Technicolor Dream\\nReview: Wow, this movie was a love letter to cinema. From the Kubrick reference at the opening, to the soundstage being 100% real - no cgi for the sets. There were dance sequences like in the olden days (think Grease) and the costuming , wow the costuming. Greta Gerwig dug deep to make this masterpiece using all of her technical chops along the way. The casting director also nailed it, everyone was wonderful.\\nReview_Url: /review/rw9200246/?ref_=tt_urv', metadata={'source': '/review/rw9200246/?ref_=tt_urv', 'row': 16}), Document(page_content=': 17\\nReview_Date: 16 December 2023\\nAuthor: Tr-u-mpbilly\\nRating: 6\\nReview_Title: Didn\\'t live up to expectations\\nReview: I watched this with my wife who was ready to turn it off after about ten minutes, but I talked her into watching it - \"It\\'ll get better, honey. They\\'ll be going into the real world, soon.\"\\nReview_Url: /review/rw9200246/?ref_=tt_urv', metadata={'source': '/review/rw9200246/?ref_=tt_urv', 'row': 17}), Document(page_content=': 18\\nReview_Date: 20 July 2023\\nAuthor: Genti26\\nRating: 8\\nReview_Title: You are Kenough\\nReview: This movie is so much fun. It starts off really strong although the story does move away from \"Barbieland\" sooner than I would have liked. Nonetheless, it regains its footing with the final act in particular and I could not stop laughing at Ryan Gosling\\'s portrayal of Ken. That song will forever be stuck in my head.\\nReview_Url: /review/rw9200246/?ref_=tt_urv', metadata={'source': '/review/rw9200246/?ref_=tt_urv', 'row': 18}), Document(page_content=': 19\\nReview_Date: 27 August 2023\\nAuthor: kayleewillis-85920\\nRating: 6\\nReview_Title: OVERHYPED\\nReview: This is a movie that was way overhyped. Everyone kept saying it was so amazing, but when I finally go to watch it, it was not at all what I thought it was going to be. The storyline was not good. It was a basic and corny storyline, in my opinion.\\nReview_Url: /review/rw9200246/?ref_=tt_urv', metadata={'source': '/review/rw9200246/?ref_=tt_urv', 'row': 19}), Document(page_content=\": 20\\nReview_Date: 29 August 2023\\nAuthor: antoniatejedabarros\\nRating: 3\\nReview_Title: Disappointing: terribly preachy and horrendous script. Great cast.\\nReview: Margot Robbie and Ryan Gosling are really great in their roles of Barbie and Kent. Gosling is specially hilarious. I expected a funny, cool, deep and entertaining movie, but I was highly disappointed. The movie is so terribly preachy that ends being an embarrassment. We (the audience) have brains, so, please, preach somewhere else. Furthermore, this is a movie to divide, not to unite. And I'm a woman. The script of the movie is horrendous and the direction is plain bad. There are some great actresses that have too little to say, like Emma Mackey, and that's a pity. Overall: a huge disappointment and a missed opportunity. 3/10 (1 point for Margot Robbie, 1 point for Ryan Gosling, and 1 point for the art direction (super tacky and pinky, as Barbie's world).\\nReview_Url: /review/rw9200246/?ref_=tt_urv\", metadata={'source': '/review/rw9200246/?ref_=tt_urv', 'row': 20}), Document(page_content=': 21\\nReview_Date: 22 July 2023\\nAuthor: finnconnelly-63017\\nRating: 10\\nReview_Title: Ken out of ten', metadata={'source': '/review/rw9200246/?ref_=tt_urv', 'row': 21}), Document(page_content=\"Review: Wow. I did not see this masterpiece coming. And that's not a joke. Somehow, Greta Gerwig took Barbie, and made a movie that tackles some really tough social issues....well? It's crazy. But wow, does it work. The story is very mature, thinker of a plot. Once you're done laughing your butt off, you'll get really emotional. The production design is so on point. The whole movie is pink everything, but it's never polarizing. All the shades melt together in a very pleasing way. And of course the cast! Margot Robbie was born to play Barbie, and she hits a home run, but Ryan Gosling. This dude rocks as Ken. He knocked it all the way around the world and hit himself in the back of the head. He steals every scene he's in, and I would be so on board with a Ken spin-off. America Ferrara and Simu Liu are also great in their respective roles, but the cast overall is just perfect. Overall, Barbie is probably the best movie based off a toy (sorry LEGO Movies) and an overall fantastic time at\", metadata={'source': '/review/rw9200246/?ref_=tt_urv', 'row': 21}), Document(page_content='is probably the best movie based off a toy (sorry LEGO Movies) and an overall fantastic time at the movies.', metadata={'source': '/review/rw9200246/?ref_=tt_urv', 'row': 21}), Document(page_content='Review_Url: /review/rw9200246/?ref_=tt_urv', metadata={'source': '/review/rw9200246/?ref_=tt_urv', 'row': 21}), Document(page_content=\": 22\\nReview_Date: 19 July 2023\\nAuthor: hamsterination\\nRating: 6\\nReview_Title: It could have been so much better...\\nReview: The film's universe and settings are fantastic. The casting is really good too, with Gosling excelling in the role of Ken.\\nReview_Url: /review/rw9200246/?ref_=tt_urv\", metadata={'source': '/review/rw9200246/?ref_=tt_urv', 'row': 22}), Document(page_content=\": 23\\nReview_Date: 3 August 2023\\nAuthor: AngelHonesty\\nRating: 5\\nReview_Title: Not what I Expected\\nReview: I played with barbies a lot as a kid, so I thought this movie was going to be fun. The trailer looked great, I thought, why not, let's have a girls movie night, kick back relax, watch a funny iconic movie about my favorite toys as a kid. But I was greatly let down really fast. The movie was all about a strong message of what a woman is, what a man is, how the world defines those roles and how we should just be whoever we are. There was nothing in the movie that made me laugh. It all felt kinda heavy with the message they were telling. It's definitely not a kids movie either, I don't think they would understand half of it. Really wasn't happy with the movie.\\nReview_Url: /review/rw9200246/?ref_=tt_urv\", metadata={'source': '/review/rw9200246/?ref_=tt_urv', 'row': 23}), Document(page_content=\": 24\\nReview_Date: 21 July 2023\\nAuthor: imdbmovieguy\\nRating: \\nReview_Title: Honestly - not funny and light enough\\nReview: I really enjoyed the first 20 minutes of the movie. It was very upbeat, positive and light. However, things soon became negative about 20 - 25 minutes into the movie. I couldn't stand it. Barbie's world and attitude was a constant bummer. Ken's attitude was sour. For the next hour (and more) the movie just lived in negativity.\\nReview_Url: /review/rw9200246/?ref_=tt_urv\", metadata={'source': '/review/rw9200246/?ref_=tt_urv', 'row': 24}), Document(page_content=': 25\\nReview_Date: 1 August 2023\\nAuthor: zkonedog\\nRating: 10\\nReview_Title: An Amazingly Perfect Blend Of Social Satire & Fun\\nReview: For a film like \"Barbie\" to succeed, every aspect had to come together perfectly. It needed to consummately balance satire with fun, the casting had to be spot-on, and the writing/directing required to pull off such a feat would need to be exquisite. Somewhat remarkably, that is exactly what writer/director Greta Gerwig pulls off here to create the best movie of summer 2023.\\nReview_Url: /review/rw9200246/?ref_=tt_urv', metadata={'source': '/review/rw9200246/?ref_=tt_urv', 'row': 25}), Document(page_content=\": 26\\nReview_Date: 20 July 2023\\nAuthor: fscsgxp\\nRating: 6\\nReview_Title: Amazing Cast & Set, but the political message was too strong\\nReview: I've been excited for this movie for over a year. The casting was perfect and the acting was amazing! The set was next level, the tiny details were all there and even the highest barbie fan couldn't ask for anything more from it. It is PERFECTION.\\nReview_Url: /review/rw9200246/?ref_=tt_urv\", metadata={'source': '/review/rw9200246/?ref_=tt_urv', 'row': 26}), Document(page_content=\": 27\\nReview_Date: 21 July 2023\\nAuthor: masonsaul\\nRating: 10\\nReview_Title: The best version of itself\\nReview: Barbie is everything expected of it and so much more, a self aware and meta comedy made for fans and newcomers alike that's also incredibly profound, layered and really funny. It's the best version of itself and just immensely satisfying that the Barbie movie that got made on this scale is so weird and unique.\\nReview_Url: /review/rw9200246/?ref_=tt_urv\", metadata={'source': '/review/rw9200246/?ref_=tt_urv', 'row': 27}), Document(page_content=': 28\\nReview_Date: 29 July 2023\\nAuthor: planktonrules\\nRating: 7\\nReview_Title: Good...not great\\nReview: \"Barbie\" is a movie that is setting all sorts of records, so it\\'s obvious that the film is touching many people. For some, it\\'s the fun of seeing a doll come to life, for others it\\'s the theme of empowerment that make the movie a big hit. As for me, I did like it and thought it was a pretty good movie...but it\\'s not for everyone.\\nReview_Url: /review/rw9200246/?ref_=tt_urv', metadata={'source': '/review/rw9200246/?ref_=tt_urv', 'row': 28}), Document(page_content=\": 29\\nReview_Date: 4 August 2023\\nAuthor: thePopcornExplorer\\nRating: 9\\nReview_Title: I don't see how it was preachy\\nReview: In this day and age with society overall becoming more and more polarized and our leaders around the world doing nothing to improve dialogue, it seems that people became broken records. Now everything in the movies and TV shows is perceived as preachy, not everything is a conspiracy, people need to consider that movies and TV shows at its core, and specially the good ones, are about sharing perspectives and allow the audience, if their minds are opened to it, to acknowledge all sides of the stories.\\nReview_Url: /review/rw9200246/?ref_=tt_urv\", metadata={'source': '/review/rw9200246/?ref_=tt_urv', 'row': 29}), Document(page_content=': 30\\nReview_Date: 21 July 2023\\nAuthor: andermic18\\nRating: 6\\nReview_Title: No Direction', metadata={'source': '/review/rw9200246/?ref_=tt_urv', 'row': 30}), Document(page_content=\"Review: The movie was very funny and really enjoyable to laugh at with the full theatre. However, the messages of the movie were the problem. I was never really sure what I was supposed to take away, there was nothing about finding equality or love it was all about how every man cat falls every woman or women can't be anything. It was really silly because there was no accurate reflection of America at any single point except for Barbie getting called a Fascist for no reason by a 14 year old. I enjoyed how they called out women for hating women and how they really tried to preach empowerment and the ability to be anything, but at the same time there was so much resentment and they ended the movie by reinstating hate. The majority of the movie was hating men as much as possible. That's just whatever because what really matters is the story. Well it fell short on that mark and it was really disappointing. The pacing was horrible, the villain won and was pretty irrelevant in the long run,\", metadata={'source': '/review/rw9200246/?ref_=tt_urv', 'row': 30}), Document(page_content=\"disappointing. The pacing was horrible, the villain won and was pretty irrelevant in the long run, the story was all over the place, and it is totally not for kids. I think the worst part is how disappointed I was at the opportunity to really make something special and it just wasn't. 6 points for all the laughs and fun I had and I would expect 6-7 to be an appropriate rating.\", metadata={'source': '/review/rw9200246/?ref_=tt_urv', 'row': 30}), Document(page_content='Review_Url: /review/rw9200246/?ref_=tt_urv', metadata={'source': '/review/rw9200246/?ref_=tt_urv', 'row': 30}), Document(page_content=': 31\\nReview_Date: 25 July 2023\\nAuthor: Dello_\\nRating: 4\\nReview_Title: Funny and sharp first half, boring and baffling second one\\nReview: I had great expectations for the Barbie movie, mainly because of the writers (Greta Gerwig and Noah Baumbach) and the stellar cast with Margot Robbie and Ryan Gosling leading the way. Unfortunately I found myself disappointed, bored and shocked by some messages the movie tries to convey.\\nReview_Url: /review/rw9200246/?ref_=tt_urv', metadata={'source': '/review/rw9200246/?ref_=tt_urv', 'row': 31}), Document(page_content=': 32\\nReview_Date: 19 July 2023\\nAuthor: andypaps101\\nRating: 8\\nReview_Title: \"Barbie\" - A Multifaceted Exploration of Femininity, Consumerism, and Existentialism\\nReview: I got free tickets for a preview and to be honest I was more than a little embarrassed to go. I did not tell a soul. As a cool middle aged gentleman if word got out this could have really affected my street cred.\\nReview_Url: /review/rw9200246/?ref_=tt_urv', metadata={'source': '/review/rw9200246/?ref_=tt_urv', 'row': 32}), Document(page_content=\": 33\\nReview_Date: 27 December 2023\\nAuthor: Ed-Shullivan\\nRating: 6\\nReview_Title: I would have preferred to see this as a 30 minute TV sitcom\\nReview: Mrs. Shullivan and I enjoyed about the first 30 minutes of this full length feature film but after about the third song and dance number by the various Ken's we agreed that Ryan Gosling appeared to be the main character and not Barbie.\\nReview_Url: /review/rw9200246/?ref_=tt_urv\", metadata={'source': '/review/rw9200246/?ref_=tt_urv', 'row': 33}), Document(page_content=\": 34\\nReview_Date: 23 July 2023\\nAuthor: jacobarch\\nRating: 3\\nReview_Title: Did I watch the same movie as everyone else lol\\nReview: While the production value, cinematography and acting were what you would expect from Margo Robbie and the supporting cast. I felt the movie fell short of not preaching to me and spreading a message of division rather than unity. Men and women cannot survive without each other but you'd never know it watching this movie. And me having my 13 year old daughter with me almost caused me to walk out of the theater. I kept on waiting for the writers to hit the direction of unity but it never came. After the movie my daughter brought up the message to me saying how she even noticed the weird agenda they're trying to push and said that is not a movie for the easily impressionable. Come to find out my daughter is better suited to take on the world that I thought she was. Proud day for me as a father.\\nReview_Url: /review/rw9200246/?ref_=tt_urv\", metadata={'source': '/review/rw9200246/?ref_=tt_urv', 'row': 34}), Document(page_content=\": 35\\nReview_Date: 29 July 2023\\nAuthor: cmdown-50506\\nRating: 9\\nReview_Title: Now I am become Barbie Girl, the enjoyer of Barbie worlds\\nReview: I have been waiting for this to release for so long and I finally got to watch it today. I absolutely loved it! It was fun, it had Margot Robbie (and extra stuff for Tarantino's out there if you know what I mean) And it had some absolute bangers! What more could you want from a new summer classic?\\nReview_Url: /review/rw9200246/?ref_=tt_urv\", metadata={'source': '/review/rw9200246/?ref_=tt_urv', 'row': 35}), Document(page_content=\": 36\\nReview_Date: 6 November 2023\\nAuthor: popyoshi-36312\\nRating: 6\\nReview_Title: Could be better\\nReview: Completely forgot to review this, the sets are easily the best they're really gorgeous to look at, the characters are fun to watch and the characters are all really enjoyable. The movie gets a bit preachy but only for one scene, I also think the movie is slightly contradictive as every male character is treated as dumb and arrogant despite them promoting equality. It's done for jokes though so I know it's not meant to be an actual message with the humour, I just think it weakens the messaging of the film, it's still a really really good film the ending is super sweet and meaningful and overall it's a great movie especially considering this is a movie about barbie dolls lmao, I personally didn't find it to funny but I still appreciate it for its charm and most of its storytelling.\\nReview_Url: /review/rw9200246/?ref_=tt_urv\", metadata={'source': '/review/rw9200246/?ref_=tt_urv', 'row': 36}), Document(page_content=': 37\\nReview_Date: 26 July 2023\\nAuthor: sophiaaven\\nRating: \\nReview_Title: The HYPE is not real\\nReview: It was sooo boring, I could have left in the middle of the film and not care less about what was happening to the characters. I love the cast but everything was soo unfunny. I left the movie fealing like I learned nothing knew. The movie is trying to be this inclusive thing but with all the jokes directing into the old steriotypes it contradicted its self the hold time. Margot is beyond beautiful and calling her self ugly in the movie even though she is \"The Barbie\" isn\\'t so clevver as they think it is, not even with the narrator. I Love Greta but it dosen\\'t feel like her. Kinda like with Wednesday not feeling like a Tim Burton thing. But good job with the marketing, it got me.\\nReview_Url: /review/rw9200246/?ref_=tt_urv', metadata={'source': '/review/rw9200246/?ref_=tt_urv', 'row': 37}), Document(page_content=\": 38\\nReview_Date: 19 July 2023\\nAuthor: anjamulder\\nRating: 8\\nReview_Title: not for everyone\\nReview: This is very much a movie that will get devided opinions on it, my cousin said well this is two hours of my life i will never get back, and me? I left the theatre in such a good mood. It was the sense of humor for me, laughed so hard. Specially Ryan Gossling was sooooo good and funny, many familiar faces to spot also. And margot robbie come on... the perfect casting for Barbie. I also have to say, the way they created Barbie land was so amazing, it just makes you just want to there. I don't really have anything bad to say about this movie. I can understand not everyone will love it. But i am sure it is a iconic film already.\\nReview_Url: /review/rw9200246/?ref_=tt_urv\", metadata={'source': '/review/rw9200246/?ref_=tt_urv', 'row': 38}), Document(page_content=\": 39\\nReview_Date: 19 July 2023\\nAuthor: tm-sheehan\\nRating: 6\\nReview_Title: Didn't hit my pink spot\\nReview: My Review - Barbie\\nIn Cinemas now\\nMy Rating 6.5/10\\nReview_Url: /review/rw9200246/?ref_=tt_urv\", metadata={'source': '/review/rw9200246/?ref_=tt_urv', 'row': 39}), Document(page_content=': 40\\nReview_Date: 23 July 2023\\nAuthor: eoinageary\\nRating: 8\\nReview_Title: I am Kenough\\nReview: So I went into the movie with little to no expectations and I was pleasantly impressed with the movie overall.\\nReview_Url: /review/rw9200246/?ref_=tt_urv', metadata={'source': '/review/rw9200246/?ref_=tt_urv', 'row': 40}), Document(page_content=': 41\\nReview_Date: 24 July 2023\\nAuthor: GhostFoxX\\nRating: 6\\nReview_Title: Misleading.', metadata={'source': '/review/rw9200246/?ref_=tt_urv', 'row': 41}), Document(page_content=\"Review: I personally expected the movie to be fun and adventurous. Correct me if I'm wrong, but isn't that what it is supposed to be? It's literally a movie about Barbie. Instead, it felt more like an agent of woke culture, and basically Mattel's (the company that produces Barbie dolls) way of capitalizing the emotional aspect of the cinephiles to make their business more popular and trendier. It continuously tried to portray the fact that Mattel is no more producing white barbie dolls, it is now producing dolls of all colors and races. Well, that is definitely a good thing, but making most of the movie focus on that aspect felt very boring and wrong. If they didn't quite make a movie that is fun and adventurous, why make the marketing events misleading? They could've just focused on the audience for whom it was made, rather than on the entire world through their absurdly irrelevant marketing events that made the world think that this movie is going to be all about fun and adventure.\", metadata={'source': '/review/rw9200246/?ref_=tt_urv', 'row': 41}), Document(page_content='events that made the world think that this movie is going to be all about fun and adventure. Sadly, it was not nearly as enjoyable as the misleading marketing made it seem.', metadata={'source': '/review/rw9200246/?ref_=tt_urv', 'row': 41}), Document(page_content='Review_Url: /review/rw9200246/?ref_=tt_urv', metadata={'source': '/review/rw9200246/?ref_=tt_urv', 'row': 41}), Document(page_content=\": 42\\nReview_Date: 14 August 2023\\nAuthor: stusby\\nRating: 4\\nReview_Title: A triumph of marketing for a poorly realised story\\nReview: It's weird seeing a movie that puts gay male culture front and centre of a lesbian-free world.\\nReview_Url: /review/rw9200246/?ref_=tt_urv\", metadata={'source': '/review/rw9200246/?ref_=tt_urv', 'row': 42}), Document(page_content=\": 43\\nReview_Date: 22 November 2023\\nAuthor: funnycommentor\\nRating: 8\\nReview_Title: It's definitely NOT the best movie of 2023, but I really enjoyed it\", metadata={'source': '/review/rw9200246/?ref_=tt_urv', 'row': 43}), Document(page_content=\"Review: First of all, when I first watched the official trailer of the movie I really liked it and I had high expectations about that movie, because it was very innovative. I have to admit, as a man, I really enjoyed that movie and I would definitely recommend it to anyone. The plot of the movie was very interesting, mysterious and really innovative, because there aren't any other movies similar to this one. The storyline was very well written, well-explained and it's concept was definitely something original. The characters were very interesting, well-developed and really likeable. The filming locations of the movie were mainly, barbie land and the real world. The casting was really good and their acting was descent, everyone portrayed their characters really well. The opening scene was definitely unpredictable, very promising and I really liked it. The ending scene was kinda unpredictable and it was hilarious, I definitely enjoyed it. Also, it was a kinda funny movie and there were\", metadata={'source': '/review/rw9200246/?ref_=tt_urv', 'row': 43}), Document(page_content='and it was hilarious, I definitely enjoyed it. Also, it was a kinda funny movie and there were some intense scenes. Overall, \"Barbie\" was an unexpectedly enjoyable movie, innovative, very meta and it probably deserves a sequel!', metadata={'source': '/review/rw9200246/?ref_=tt_urv', 'row': 43}), Document(page_content='Review_Url: /review/rw9200246/?ref_=tt_urv', metadata={'source': '/review/rw9200246/?ref_=tt_urv', 'row': 43}), Document(page_content=': 44\\nReview_Date: 15 September 2023\\nAuthor: maxlagerholm\\nRating: 6\\nReview_Title: Excellent marketing team.\\nReview: They really did some fantastic marketing with this movie.\\nReview_Url: /review/rw9200246/?ref_=tt_urv', metadata={'source': '/review/rw9200246/?ref_=tt_urv', 'row': 44}), Document(page_content=': 45\\nReview_Date: 9 September 2023\\nAuthor: moviesgamesandvideos\\nRating: 4\\nReview_Title: Overhyped and banal\\nReview: The film does not live up to the marketing. Its about as subtle as a steamroller and deep as a puddle. There must be primary school books with more depth and nuance than this film.\\nReview_Url: /review/rw9200246/?ref_=tt_urv', metadata={'source': '/review/rw9200246/?ref_=tt_urv', 'row': 45}), Document(page_content=\": 46\\nReview_Date: 23 July 2023\\nAuthor: subxerogravity\\nRating: 8\\nReview_Title: It's like G.I Joe...For girls! Seriously, and I love it for that!\\nReview: I mean, Margo Robbie as Barbie just made perfect sense, but I really wanted to see the movie when I herd that Ryian Gosling was going to be Ken, I just thought that would be hilarious and I was right!\\nReview_Url: /review/rw9200246/?ref_=tt_urv\", metadata={'source': '/review/rw9200246/?ref_=tt_urv', 'row': 46}), Document(page_content=\": 47\\nReview_Date: 19 July 2023\\nAuthor: mark-217-307033\\nRating: 6\\nReview_Title: Fun film whose script falls in on itself\\nReview: Margot Robbie's performance is perfect, and no other actor could've embodied the character as well as she does. However, Ryan Gosling is the film-stealer. I often forget his comedic talent, and he's given a lot of room to flex it in this. A cleverly executed Matchbox Twenty joke is particularly memorable.\\nReview_Url: /review/rw9200246/?ref_=tt_urv\", metadata={'source': '/review/rw9200246/?ref_=tt_urv', 'row': 47}), Document(page_content=\": 48\\nReview_Date: 23 July 2023\\nAuthor: Jeremy_Urquhart\\nRating: 8\\nReview_Title: Surprisingly good\\nReview: I think part of my brain rejects this for being a feature-length toy commercial, but it's a very small part of my brain (and that really wasn't where my mind was for the majority of the movie).\\nReview_Url: /review/rw9200246/?ref_=tt_urv\", metadata={'source': '/review/rw9200246/?ref_=tt_urv', 'row': 48}), Document(page_content=': 49\\nReview_Date: 30 July 2023\\nAuthor: ferguson-6\\nRating: 6\\nReview_Title: serious Barbie\\nReview: BARBIE (2023)\\nGreetings again from the darkness. A reasonable assumption could be made that a movie based on a doll so popular with pre-adolescent girls would be geared towards that audience. However, this is the era of comic book movies targeting \"grown-ups\", and since we know, based on her previous work (the exceptional LADY BIRD, 2017), Greta Gerwig is an intelligent filmmaker, a more reasonable assumption is that she purposefully aimed the movie at women who once played with Barbie dolls and now fill their days with work, family, and adulting. This strategy has proven to be box office gold, and the heavy dose of cosplay at screenings proves the lasting impact this plastic doll has had on many women who lined up for tickets.\\nReview_Url: /review/rw9200246/?ref_=tt_urv', metadata={'source': '/review/rw9200246/?ref_=tt_urv', 'row': 49}), Document(page_content=\": 50\\nReview_Date: 21 July 2023\\nAuthor: rannynm\\nRating: 10\\nReview_Title: What A Film! I Was Ecstatic About Seeing Barbie And It Definitely Exceeded My Expectations By Far.\\nReview: What a film! I was ecstatic about seeing Barbie and it definitely exceeded my expectations by far. As much as I was excited, I was a bit scared that the stakes were too high; after all Barbie is an icon and a part of so many people's childhood. For a film like this it's very easy to create something corny, disappointing, or unappealing to viewers. I'm so glad that Gretta Gerwig stepped up to the plate and created an absolute masterpiece.\\nReview_Url: /review/rw9200246/?ref_=tt_urv\", metadata={'source': '/review/rw9200246/?ref_=tt_urv', 'row': 50}), Document(page_content=': 51\\nReview_Date: 19 July 2023\\nAuthor: dreopdreef\\nRating: 6\\nReview_Title: Not so unique as expected\\nReview: The concept of a Barbie movie is really unique and got me all exited. But unfortunately to me it delivers the same messages that we keep hearing as of lately.\\nReview_Url: /review/rw9200246/?ref_=tt_urv', metadata={'source': '/review/rw9200246/?ref_=tt_urv', 'row': 51}), Document(page_content=': 52\\nReview_Date: 21 July 2023\\nAuthor: MaskedMinty\\nRating: 5\\nReview_Title: Preach Preach Preach', metadata={'source': '/review/rw9200246/?ref_=tt_urv', 'row': 52}), Document(page_content=\"Review: Let me start by saying that I'm by no means a conservative or traditional woman. I believe that inequality for women still is rampant even in first world countries and that we go through many problems. But damn...this movie is so corporate and shallow. It's clearly ordered and tailored by executives at Mattel to rebrand and sell more dolls. The movie starts well and has the potential of becoming something very good, but then it just goes downhill: the premise of the owner's feeling being projected onto the doll was going to lead to a very nice build up about a person's life journey and then Barbie and Ken go to the human world and cue in the speeches and preaching. This movie suffers from a bad case of showing and not telling, they keep repeating the same dialogues: patriarchy bad patriarchy bad patriarchy bad sexism sexism sexism, not even one time but MULTIPLE TIMES. These characters go into random rants like its a ted talk! The chemistry between the mother and daughter is\", metadata={'source': '/review/rw9200246/?ref_=tt_urv', 'row': 52}), Document(page_content='go into random rants like its a ted talk! The chemistry between the mother and daughter is absolutely nonexistent and their relationship is so cringe, You cant root for them or feel their feelings at all. Barbie should have understood how Kens had been feeling in the Barbieland the whole time which is a mimic of how many women are still treated in the society: just existing for the gaze of a woman (man). Yet what do they do? They manipulate them (with a super nonsense plan) and force them back to their original position while she gives him a half assed apology that could have been done better and end up to a more accurate point about equality. (I guess this is again meta and a reflection of how women are pitted against each other while people in charge benefit from that but its so badly done that it feels meh.)', metadata={'source': '/review/rw9200246/?ref_=tt_urv', 'row': 52}), Document(page_content='I can imagine that in the boardroom they went through a discussion like this: People are going to think this is a feel good movie so we need to give them something deeper but also lets make it absurd and fast paced so that we can finish the plot quickly and also jump on the \"not taking itself serious\" bandwagon and also market these dolls again in the age of smartphone kids. The only reason this movie gets at 5 from me is the humor, which sometimes becomes very meta and creative and Margot Robbie and Ryan Gosling have acted very well. Besides this, they could have just given us a simple feel good movie and I would have respected the creators more. Pass.\\nReview_Url: /review/rw9200246/?ref_=tt_urv', metadata={'source': '/review/rw9200246/?ref_=tt_urv', 'row': 52}), Document(page_content=': 53\\nReview_Date: 10 August 2023\\nAuthor: adamjohns-42575\\nRating: 8\\nReview_Title: A sheer pleasure to watch.\\nReview: Barbie (2023) -\\nReview_Url: /review/rw9200246/?ref_=tt_urv', metadata={'source': '/review/rw9200246/?ref_=tt_urv', 'row': 53}), Document(page_content=': 54\\nReview_Date: 19 July 2023\\nAuthor: AvionPrince16\\nRating: 6\\nReview_Title: Barbie land and reality', metadata={'source': '/review/rw9200246/?ref_=tt_urv', 'row': 54}), Document(page_content='Review: Im not really disappointed or love the movie to be honest. It was kind of weird and strange at the beginning: we understand it later because we are in the Barbie world. So they played with the culture reference of the barbie, the dolls and what they represent: an ideal world with where the womans are in power. Things will get pretty normal after they enter the real world and all the problems: sexual remark, womens and their place in society (the inequality with mens.) I was pretty sure they will talk about the problems with womans and their complex because of Barbie and the perfect women she is and how this is contrasted with the real world. Its pretty obvious that they will talk about it. I love also how Ken will also notice how mens are more powerful in the real world: its like everyone see that reality is not really what they perceived themselves in their own reality and power will shift also later in Barbie Land. I understand why they act like this and stuff but i didnt', metadata={'source': '/review/rw9200246/?ref_=tt_urv', 'row': 54}), Document(page_content='will shift also later in Barbie Land. I understand why they act like this and stuff but i didnt really get into the movie to be honest: i only identify myself when they talked about society and business but all the musical things, the choregraphy and even the morality was kind of superficial. But i enjoyed that Barbie realised the problems of our world and compare to her own. Some moments was funny and some more serious or drama sometimes even if its pretty soft because we are in Barbie Land. I mean i spend a great time but it was kind of ok. And i still think its a great Barbie movie: the task was not easy to represent that world but i enjoyed the set design, the colors, the camera movements. I think people who played with Barbie dolls or just know the universe will be happy; they have a lot of references to the world and a lot of Barbie references to the dolls and the differents clothes and the impact of her in society. Some moments were also absurd ( the fight with all the Kens).', metadata={'source': '/review/rw9200246/?ref_=tt_urv', 'row': 54}), Document(page_content='and the impact of her in society. Some moments were also absurd ( the fight with all the Kens). Its good anyway.', metadata={'source': '/review/rw9200246/?ref_=tt_urv', 'row': 54}), Document(page_content='Review_Url: /review/rw9200246/?ref_=tt_urv', metadata={'source': '/review/rw9200246/?ref_=tt_urv', 'row': 54}), Document(page_content=\": 55\\nReview_Date: 21 November 2023\\nAuthor: sandy777\\nRating: 4\\nReview_Title: Some humorous moments, but the story fell flat\\nReview: Barbie, a movie about the beloved doll and all her identities and her friends, what could go wrong? A lot apparently. It started with voice over narration and went downhill from there. There was too much telling rather than showing. Most of this movie constantly explained everything and often told me how I should feel about it. The writing felt like it was trying too hard to be profound and tried to oversimplify complex subjects and gender roles. There were some funny moments, but a lot of the humor and story were far from subtle. I never felt drawn into the characters and what they were experiencing. The story lacked stakes. I didn't care about Barbie or Ken. In the right hands, this movie could have been fun. But Barbie didn't seem to know what it wanted to be or what story it wanted to tell.\\nReview_Url: /review/rw9200246/?ref_=tt_urv\", metadata={'source': '/review/rw9200246/?ref_=tt_urv', 'row': 55}), Document(page_content=': 56\\nReview_Date: 15 December 2023\\nAuthor: brockfal\\nRating: 8\\nReview_Title: A lot of fun....', metadata={'source': '/review/rw9200246/?ref_=tt_urv', 'row': 56}), Document(page_content=\"Author: brockfal\\nRating: 8\\nReview_Title: A lot of fun....\\nReview: Firstly, let's just say that I am not in the ideal demographic for 'Barbie', being male, 66 years old, and I don't have children, so it's taken me a while to get to this film. Anyway, what a lot of fun this film is. The concept works brilliantly and it's all carried through with self effacing charm and humour that both wins you over from the start , opening wonderfully with a parody of 2001, and then keeps you engaged throughout. Margot Robbie is perfect in the lead and Ryan Gossling couldn't be better as Ken (or one of the many Ken's), and the whole thing chugs along effortlessly and humorously. The idea of the conflict between the wonderfully created female world of Barbieland and the male dominated real world is milked for all it can give, with director Greta Gerwig hardly missing a trick. On so many levels this is a clever and tremendously entertaining film and I really loved it - even an old guy like me....\", metadata={'source': '/review/rw9200246/?ref_=tt_urv', 'row': 56}), Document(page_content='Review_Url: /review/rw9200246/?ref_=tt_urv', metadata={'source': '/review/rw9200246/?ref_=tt_urv', 'row': 56}), Document(page_content=\": 57\\nReview_Date: 21 July 2023\\nAuthor: arslanmanzoor123\\nRating: 6\\nReview_Title: Quite disappointing\\nReview: Some friends freaking out that I went to see Barbie lol I mean I mentioned I went coz my sister insisted since ages. Anyway the movie was bad. These days, every other director and producer wants to convey messages about women rights and feminism through whatever platform possible and this movie was a perfect example of that with sheer cringe to convey all that. I wished I had gotten the ticket for Oppenheimer in the same timings as my sister's Barbie show. Other than that, the acting done by Margot Robbie and Ryan Gosling was great so can't take that away from them. They did justice to their roles.\\nReview_Url: /review/rw9200246/?ref_=tt_urv\", metadata={'source': '/review/rw9200246/?ref_=tt_urv', 'row': 57}), Document(page_content=\": 58\\nReview_Date: 23 July 2023\\nAuthor: Anurag-Shetty\\nRating: 10\\nReview_Title: A wholesome delight!\\nReview: Barbie is based on Mattel's iconic plastic dolls of the same name. Barbie(Margot Robbie) lives a very happy life in Barbie Land, along with her fellow Barbies, Ken(Ryan Gosling) & his fellow Kens. Suddenly, Barbie goes through an existential crisis that makes her question Barbie Land & the truth of her existence.\\nReview_Url: /review/rw9200246/?ref_=tt_urv\", metadata={'source': '/review/rw9200246/?ref_=tt_urv', 'row': 58}), Document(page_content=\": 59\\nReview_Date: 20 August 2023\\nAuthor: Leofwine_draca\\nRating: 6\\nReview_Title: A real mixed bag\\nReview: BARBIE is a film I find incredibly difficult to both review and rate. On the face of it, the trappings are pitiful and the tone is all over the place. The audience I saw it with were laughing at the dumbest jokes imaginable (like Gosling bouncing off the plastic wave) and missing all of the depth, which is what I personally found appealing. It's very hard to take such a tongue-in-cheek approach seriously, but then you could argue that it's deliberately bad, deliberately plasticky. Not that that excuses the bad acting from the likes of Ferrera et al. Despite this, the film's skewering of the patriarchy is spot-on, and Gosling turns out to be very good, stealing the film from the others. So it's a film I appreciate some parts of, and not others.\\nReview_Url: /review/rw9200246/?ref_=tt_urv\", metadata={'source': '/review/rw9200246/?ref_=tt_urv', 'row': 59}), Document(page_content=': 60\\nReview_Date: 3 August 2023\\nAuthor: saramilenkovic1994\\nRating: 8\\nReview_Title: Barbie is a beautiful love letter to womanhood.', metadata={'source': '/review/rw9200246/?ref_=tt_urv', 'row': 60}), Document(page_content=\"Review: Ever since I saw Lady Bird, I knew that I will love Greta and her style. It was so human and it spoke to me. So when Barbie was released, there was no doubt I will like this film-but not this much. In 114 minutes, Greta serves everything that she intended sending a beautiful positive message about womanhood. What it means to be human, what it means to live in this broken patriarchal system. The message is clear: to be human is to feel. This movie is funny. And as someone who is not a fan of American humor, that's a big one. But I laughed through the entire movie. I also shared a tear. I loved America's monologue about womanhood. I loved Dame Helen Mirren as a narrator-great choice. Margot is a star. Her Barbie is so authentic. She portrays comedy, as well as the emotional part of the character so well. That last scene was so good. Now I can't skip the star of the film, and that is Ryan Gossling. Ken was hilarious and I will quote him for the rest of my life. But also shows\", metadata={'source': '/review/rw9200246/?ref_=tt_urv', 'row': 60}), Document(page_content=\"is Ryan Gossling. Ken was hilarious and I will quote him for the rest of my life. But also shows that Greta is sweet to men offering them compassion by showing them that they are enough as it is, they don't have to be more than that. Greta (and Noah), really made a beautiful love letter to womanhood by showing all the parts of it-please the scene with the old lady had my heart. Overall it's already classic and the movie, that will probably be one of my comfort movies.\", metadata={'source': '/review/rw9200246/?ref_=tt_urv', 'row': 60}), Document(page_content='Review_Url: /review/rw9200246/?ref_=tt_urv', metadata={'source': '/review/rw9200246/?ref_=tt_urv', 'row': 60}), Document(page_content=': 61\\nReview_Date: 18 January 2024\\nAuthor: thalassafischer\\nRating: 6\\nReview_Title: The Ken Stuff Goes on WAY Too Long\\nReview: The weirdest thing about Barbie is that Greta Gerwig couldn\\'t even do Barbie without making such a HUGE deference to Ken. I get that she was trying to make a statement about how women feel by using the Ken\\'s as an \"opposite mirror\" to try to get men to understand patriarchy. I do get that. But aren\\'t there multiple speeches about how taking care of men and fixing them isn\\'t women\\'s job?\\nReview_Url: /review/rw9200246/?ref_=tt_urv', metadata={'source': '/review/rw9200246/?ref_=tt_urv', 'row': 61}), Document(page_content=\": 62\\nReview_Date: 24 July 2023\\nAuthor: brianjohnson-20043\\nRating: 4\\nReview_Title: This movie tries to be too much\\nReview: I wanted to like it. But I just didn't. The story wasn't very compelling to me because it seemed as if the entire point of much of the movie was to provide learning moments for viewers with some slapstick comedy and quick-delivery comedy. The story itself should nearly always be more important.\\nReview_Url: /review/rw9200246/?ref_=tt_urv\", metadata={'source': '/review/rw9200246/?ref_=tt_urv', 'row': 62}), Document(page_content=': 63\\nReview_Date: 24 July 2023\\nAuthor: jp_91\\nRating: 10\\nReview_Title: Barbie existentialism.', metadata={'source': '/review/rw9200246/?ref_=tt_urv', 'row': 63}), Document(page_content='Review: Barbie, the doll that destroyed stereotypes and taboos to later generate new ones and destroy them again, arrives at the cinema for the first time and does so masterfully. \"Barbie\" is a film that portrays misogyny from the perspective of the famous doll, the script is a biting criticism of patriarchy, internal problems within feminism, family and social relationships, consumerism and existentialism, all full of humor, in some scenes with a lot of black humor and the result is excellent, capturing what it wants to convey to the public. The cinematography by Rodrigo Prieto is magnificent and together with the production design they bring a fictional country full of fantastic and pink plastics. The soundtrack is tremendous, with a list of songs wisely chosen (with some exceptions). The cast is tremendous, Margot Robbie\\'s performance is realistic and sentimental, proving to be the perfect Barbie in all aspects. Ryan Gosling plays Ken with humor and also gives him perfect dramatic', metadata={'source': '/review/rw9200246/?ref_=tt_urv', 'row': 63}), Document(page_content='Barbie in all aspects. Ryan Gosling plays Ken with humor and also gives him perfect dramatic nuances. America Ferrara as a working mother achieves a performance to remember, especially for her powerful monologue. Kate McKinnon gives a highly comic performance and an endearing character of a very unusual Barbie. Rhea Perlman pulls off an incredible performance wittily balancing comedy and drama. Ann Roth in a special participation of a single dialogue and a smile achieved a sublime and unforgettable performance. Helen Mirren with a voice acting as The Narrator describes everything with feeling and passion taking advantage of her imposing voice. Greta Gerwig\\'s work as a director is genius, she manages to capture the ideas of the script, gives it her own style and pays homage to movie classics. \"Barbie\" is the movie event of the year, a rightfully earned title for this current classic.', metadata={'source': '/review/rw9200246/?ref_=tt_urv', 'row': 63}), Document(page_content='Review_Url: /review/rw9200246/?ref_=tt_urv', metadata={'source': '/review/rw9200246/?ref_=tt_urv', 'row': 63}), Document(page_content=': 64\\nReview_Date: 25 July 2023\\nAuthor: spika13\\nRating: 6\\nReview_Title: Too overrated\\nReview: Its like watching at \"Truman\\'s show\" but all the set it\\'s pink color with a hint of extreme feminist ideas. I grew up with barbie dolls and I felt very disappointed, I was expecting a different kind of story, the ending was the worst. I think the message should be more with the real feminist concept of Simone de Bouvoir, we all deserve the same rights. In the end Instead of just Barbie Land they should changed as; Barbie and Ken Land.\\nReview_Url: /review/rw9200246/?ref_=tt_urv', metadata={'source': '/review/rw9200246/?ref_=tt_urv', 'row': 64}), Document(page_content=': 65\\nReview_Date: 27 August 2023\\nAuthor: max-850\\nRating: 4\\nReview_Title: Preacher Barbie?', metadata={'source': '/review/rw9200246/?ref_=tt_urv', 'row': 65}), Document(page_content='Rating: 4\\nReview_Title: Preacher Barbie?\\nReview: I believe I came to this movie with an open mind. In my opinion a movie balled Barbie needs to be a comedy. And while there were pieces here and there that were funny, for the most part we (and everyone in the theater) only laughed occasionally. The production design and costumes are great. The screenplay is the weakest part. The direction is next weakest. And those two caused a great cast to overact. When this movie takes itself seriously it gets tedious. It\\'s preachy. We are constantly being told what we are seeing and what we should think about what we are thinking. This is not engaging. Why can\\'t we think for ourselves based on what we see? I hated being treated like a ten year old and being spoonfed the morals, thoughts and feelings. But then maybe the target audience is ten-year-olds. In any event, I thought it would never end. By the time they were talking about ordinary Barbie, all I could think was \"Sanctimonious Barbie.\"', metadata={'source': '/review/rw9200246/?ref_=tt_urv', 'row': 65}), Document(page_content='Review_Url: /review/rw9200246/?ref_=tt_urv', metadata={'source': '/review/rw9200246/?ref_=tt_urv', 'row': 65}), Document(page_content=\": 66\\nReview_Date: 25 July 2023\\nAuthor: mr_bickle_the_pickle\\nRating: 8\\nReview_Title: Life in plastic, it's fantastic!\\nReview: It's an incredibly fun movie. Lots of laughs. Very campy over the top humour. But also surprisingly touching. My favourite scene of the movie is just rather a small quiet moment where Barbie is observing every day life and tells an old woman how beautiful she is. Margot Robbie shines in the lead role. Ryan Gosling clearly was having a lot of fun with the role, but don't sleep on Michael Cera as Allan. I know a lot of people say that Ryan Gosling is a scene stealer, but personally I thought Michael was.\\nReview_Url: /review/rw9200246/?ref_=tt_urv\", metadata={'source': '/review/rw9200246/?ref_=tt_urv', 'row': 66}), Document(page_content=': 67\\nReview_Date: 26 November 2023\\nAuthor: studioAT\\nRating: 6\\nReview_Title: Barbie\\nReview: This probably has been the biggest film of 2023.\\nReview_Url: /review/rw9200246/?ref_=tt_urv', metadata={'source': '/review/rw9200246/?ref_=tt_urv', 'row': 67}), Document(page_content=': 68\\nReview_Date: 22 July 2023\\nAuthor: DoNotComeToTheCinemaDepressed\\nRating: 10\\nReview_Title: 🏩 Possibly a Masterpiece? 💒\\nReview: I Understand that Some People are Going to Have Big Big Problems with Some of the Messaging within this Film. But Sometimes, in Life 😂, You Just Have to Go With It.\\nReview_Url: /review/rw9200246/?ref_=tt_urv', metadata={'source': '/review/rw9200246/?ref_=tt_urv', 'row': 68}), Document(page_content=': 69\\nReview_Date: 1 August 2023\\nAuthor: badreviewer\\nRating: 6\\nReview_Title: This Barbie is dissapointed.\\nReview: Yes. Day by day it becomes more obvious that now the movies are made just because of the income they generate and nothing else. Ok, Barbie itself was not a creative idea, I know. And actually I didn\\'t expect to see something unseen something unique in the first place, all in all it\\'s \"Barbie\".\\nReview_Url: /review/rw9200246/?ref_=tt_urv', metadata={'source': '/review/rw9200246/?ref_=tt_urv', 'row': 69}), Document(page_content=\": 70\\nReview_Date: 12 August 2023\\nAuthor: PotassiumMan\\nRating: 9\\nReview_Title: Big hype and the result is a mirror of today's society\\nReview: Margot Robbie had a vision, and she was the driving force to get the Barbie movie produced by none other than world-class director Greta Gerwig.\\nReview_Url: /review/rw9200246/?ref_=tt_urv\", metadata={'source': '/review/rw9200246/?ref_=tt_urv', 'row': 70}), Document(page_content=': 71\\nReview_Date: 27 February 2024\\nAuthor: pinballwizard-83712\\nRating: 6\\nReview_Title: OVERRATED AND OVERHYPED, BUT A GOOD FILM', metadata={'source': '/review/rw9200246/?ref_=tt_urv', 'row': 71}), Document(page_content='Review: Greta Gerwig\\'s overhyped and vastly overrated pink feminist fantasy that became a mega-hit at the global box office. For me the highlight of this movie is the opening in the world of \"Barbieland\" which is colorful and visually stunning with some campy humor and a look into the repetitive lives of these living dolls, particularly the stereotypical Barbie, played brilliantly played by Margo Robbie who is pure perfection in the role, and her hunky dimwitted boyfriend Ken, terrifically played by Ryan Gosling who earned an Oscar nomination for his scene-stealing turn, but once Barbie and Ken leave Barbieland and enter the real world the entire lighthearted tone of the film ends, it becomes a negative and turns into a weird war between men and women, I found this part of the film very boring and did not find it funny or entertaining, it turns preachy and dialogue-heavy. Gerwig\\'s direction is solid, but the most impressive thing about this film is its sensational production design', metadata={'source': '/review/rw9200246/?ref_=tt_urv', 'row': 71}), Document(page_content='is solid, but the most impressive thing about this film is its sensational production design which is amazing, some cute musical numbers with Barbie and Ken, and the superb cinematography by Rodrigo Prieto. The supporting performances are all good, but why America Ferrera got an Oscar nomination for her okay performance is beyond me, however special kudos must go to Rhea Perlman who delivers an wonderfully endearing performance in an extended cameo. The film is a disappointment to me that could of been way better, no masterpiece here just a good film.', metadata={'source': '/review/rw9200246/?ref_=tt_urv', 'row': 71}), Document(page_content='Review_Url: /review/rw9200246/?ref_=tt_urv', metadata={'source': '/review/rw9200246/?ref_=tt_urv', 'row': 71}), Document(page_content=\": 72\\nReview_Date: 13 September 2023\\nAuthor: ambusched94\\nRating: 4\\nReview_Title: Margot Robbie & Ryan Gosling's performances bolster a film with messaging that is heavy-handed and bordering on exhaustingly preachy most of the time\\nReview: The film opens strongly with Margot Robbie and Ryan Gosling delivering compelling performances. Their star power and acting prowess add depth to the movie. However, as the film progresses and Barbie encounters her human counterparts in the real world, the thin plot becomes more noticeable. Some viewers might have preferred a subtler approach to delivering the political message, as the film can be seen as overly direct, leading to a polarizing and preachy tone. This approach aligns with the directorial style and screenplay motifs commonly associated with Greta Gerwig.\\nReview_Url: /review/rw9200246/?ref_=tt_urv\", metadata={'source': '/review/rw9200246/?ref_=tt_urv', 'row': 72}), Document(page_content=': 73\\nReview_Date: 27 July 2023\\nAuthor: sanadalsalt\\nRating: 10\\nReview_Title: Laugh, Reflect, Repeat: Exploring the Wonders of \\'Barbie\\'\\nReview: Oh my goodness, where do I even begin with \"Barbie\" (2023)? This film is an absolute delight and a true masterpiece that will leave you in awe. Directed by the incredibly talented Greta Gerwig and starring the stunning Margot Robbie as the iconic doll herself, \"Barbie\" is a cinematic experience like no other.\\nReview_Url: /review/rw9200246/?ref_=tt_urv', metadata={'source': '/review/rw9200246/?ref_=tt_urv', 'row': 73}), Document(page_content=\": 74\\nReview_Date: 1 March 2024\\nAuthor: groundzero-273-397110\\nRating: 6\\nReview_Title: I will for sure keep listening to I'm Just Ken!\\nReview: I thought Barbie would be much more childish than it was. At the beginning of the film, I thought about what I was actually watching. It started out childish, but then it turned out that it is aimed at a more adult audience. Many of the jokes in the film will not be understood by children. There were parts of the film that I liked and parts that I loathed. It is well directed and has lovely singing and dancing that sticks in one's head, especially the song at the end, I'm Just Ken. Loved it.\\nReview_Url: /review/rw9200246/?ref_=tt_urv\", metadata={'source': '/review/rw9200246/?ref_=tt_urv', 'row': 74}), Document(page_content=\": 75\\nReview_Date: 13 September 2023\\nAuthor: tommy-97761\\nRating: 5\\nReview_Title: How is this movie so popular?\\nReview: I realise that I am hardly the target audience of this movie, but even so, slogging trough the movie I am baffled as to what the appeal is? There must be something with all the money it made at the box office, right? I haven't read any other reviews yet so as not to spoil my own impression of the movie.\\nReview_Url: /review/rw9200246/?ref_=tt_urv\", metadata={'source': '/review/rw9200246/?ref_=tt_urv', 'row': 75}), Document(page_content=': 76\\nReview_Date: 1 August 2023\\nAuthor: tforbes-2\\nRating: 10\\nReview_Title: Mind blowing\\nReview: Barbie is simply a mind-blowing experience, and in a truly fine way! I was taken aback with the 2001 opening, since I have a personal aversion to seeing toys get destroyed, but then it starts to unfold.\\nReview_Url: /review/rw9200246/?ref_=tt_urv', metadata={'source': '/review/rw9200246/?ref_=tt_urv', 'row': 76}), Document(page_content=\": 77\\nReview_Date: 23 July 2023\\nAuthor: jacquihives\\nRating: 6\\nReview_Title: I had no expectations but was still underwhelmed\\nReview: I loved barbie growing up, and even at 42 years old I couldn't wait to go see the movie! I didn't have any expectations because I had no idea how they could make a movie about barbie that's for adults and not kids. I adored Barbieland, but unfortunately they leave it behind so fast and with it they also leave behind everything good about bringing barbie to life in a movie! It got silly, had no storyline, was overly political and woke, man bashing and made men silly, and I really didn't care for the ending which is just as well because it was abrupt and crude.\\nReview_Url: /review/rw9200246/?ref_=tt_urv\", metadata={'source': '/review/rw9200246/?ref_=tt_urv', 'row': 77}), Document(page_content=': 78\\nReview_Date: 29 July 2023\\nAuthor: connor707\\nRating: 10\\nReview_Title: Not made for me but loved nonetheless\\nReview: As a man who has never touched a barbie in my life, I was definitely not the intended audience for this film. However, I absolutely enjoyed it. It\\'s funny, entertaining, and poignant. I came in thinking it would be sort of silly and fun, which it was, but it also was about barbie, an always-positive \"person\\'s\" journey into the real world and how messed up and unfair it is. She believes that the real world must be just like hers, where women are recognized for their achievements and always given the opportunity, respect, and tools to succeed in life. She is obviously very disappointed in our world when she actually experiences it. I think any guy tagging along to see this will enjoy it unless he\\'s a misogynist and/or very insecure in his masculinity.\\nReview_Url: /review/rw9200246/?ref_=tt_urv', metadata={'source': '/review/rw9200246/?ref_=tt_urv', 'row': 78}), Document(page_content=\": 79\\nReview_Date: 29 August 2023\\nAuthor: adamblackshaw-14445\\nRating: 6\\nReview_Title: Did I just watch a 2hr Mattel advertisement?\\nReview: BARBIE is a great example of hype over substance. It is laugh out loud at times and Gosling steals every scene he's in. The art direction is on point. What makes it tiresome is THE MESSAGE pummelled into the audience, but then were we expecting any subtly? Probably not. Ultimately my wife just thought, 'I already know this. I don't need to hear it. But maybe some women do?' I get her point. In the end it felt like we were being sold Barbie Dolls as some kind of icon of feminism. But seriously, they are a very poor example of female role models. Not surprisingly Mattel was one of the producers.\\nReview_Url: /review/rw9200246/?ref_=tt_urv\", metadata={'source': '/review/rw9200246/?ref_=tt_urv', 'row': 79}), Document(page_content=': 80\\nReview_Date: 25 July 2023\\nAuthor: aivilovee\\nRating: 9\\nReview_Title: Goofy, girly, and gorgeous\\nReview: I knew going into Barbie that I was in for a visual feast. The trailers showcased the wonderful set design, costumes, and performances already. But I was not expecting how affecting this movie would be.\\nReview_Url: /review/rw9200246/?ref_=tt_urv', metadata={'source': '/review/rw9200246/?ref_=tt_urv', 'row': 80}), Document(page_content=': 81\\nReview_Date: 6 November 2023\\nAuthor: kk-59333\\nRating: 7\\nReview_Title: Interesting concept but not as deep as expected\\nReview: The movie isn\\'t as fantastic as it was hyped to be. Its deconstruction of patriarchy and satire fall short of what was expected. Instead, it seems to remain on a rather superficial level of \"girls can do anything\" and \"find yourself.\" The most controversial aspect of the Barbie character, whether it exacerbates women\\'s appearance anxiety, is hardly mentioned at all. In my view, it\\'s essentially a reiteration of the same old themes, just presented in updated ways. However, considering Hollywood\\'s consistent conservatism and focus on profits, I appreciate that this is a brave attempt at expressing feminism within the world\\'s most profit-driven film industry.\\nReview_Url: /review/rw9200246/?ref_=tt_urv', metadata={'source': '/review/rw9200246/?ref_=tt_urv', 'row': 81}), Document(page_content=': 82\\nReview_Date: 1 August 2023\\nAuthor: fredrikgunerius\\nRating: 5\\nReview_Title: A trite, divisive and most likely futile battle of the sexes', metadata={'source': '/review/rw9200246/?ref_=tt_urv', 'row': 82}), Document(page_content=\"Review: The big summer blockbuster of 2023 is a wonderful visual spectacle with a great deal of creative physical comedy, centered in and around the universe of Barbie, Mattel's historic toy doll. Unfortunately, the film tries to be and do much more than what the filmmakers ultimately are able to control and reel in. That a movie about Barbie would be guilty of Americanization is no surprise, and in many ways more than befitting, but the Americanization here isn't just about the history of the toy itself and all its cultural impacts - Barbie also views everything through the eyes of Hollywood anno 2023 - which arguably is a very particular and perhaps not that representative outlook. Instead of utilizing the fine foundation laid in the film's first third, director and co-writer Greta Gervig (Lady Bird, Little Women) gets herself lost in a trite, divisive and most likely futile battle of the sexes, which will leave youths - and perhaps particularly Europeans - feeling confused and\", metadata={'source': '/review/rw9200246/?ref_=tt_urv', 'row': 82}), Document(page_content=\"of the sexes, which will leave youths - and perhaps particularly Europeans - feeling confused and conflicted. The filmmakers' supposed toying with stereotypes ultimately becomes more of a playing into them, especially towards the end when Gerwig staggers along desperately looking for closure and something meaningful to say. Alas, Barbie has ended up as a rather sad symptom of our times, when it could have been the wonderfully funny piece of femininity-appraising escapism it started out as. There are nonetheless several highlights here, such as the delightfully absurd opening sequence (a fine nod to Kubrick's 2001), the initial introduction of Barbie and Ken's days in Barbieland, and - of course - their first encounter with the real world.\", metadata={'source': '/review/rw9200246/?ref_=tt_urv', 'row': 82}), Document(page_content='Review_Url: /review/rw9200246/?ref_=tt_urv', metadata={'source': '/review/rw9200246/?ref_=tt_urv', 'row': 82}), Document(page_content=\": 83\\nReview_Date: 17 August 2023\\nAuthor: martinpersson97\\nRating: 10\\nReview_Title: Greta Gerwig never disappoints\\nReview: I hope you won't let the title of the film fool you; this is not some family movie for little girls. It is an all around auteuristic film by the ever great Greta Gerwig, and an instant classic cult film.\\nReview_Url: /review/rw9200246/?ref_=tt_urv\", metadata={'source': '/review/rw9200246/?ref_=tt_urv', 'row': 83}), Document(page_content=\": 84\\nReview_Date: 24 September 2023\\nAuthor: questl-18592\\nRating: 6\\nReview_Title: Kenough\\nReview: Movies are odd sometimes. In this case, I feel like the review I would have written the second the credits rolled would've been more positive than the one I'm watching now, a couple of hours later. But, as I've had time to sit with this one, I can't help but feel my opinion on it... Diminishing.\\nReview_Url: /review/rw9200246/?ref_=tt_urv\", metadata={'source': '/review/rw9200246/?ref_=tt_urv', 'row': 84}), Document(page_content=': 85\\nReview_Date: 30 September 2023\\nAuthor: Criticalstaff\\nRating: 4\\nReview_Title: Plastic in the worst way possible\\nReview: It took me quite some time to decipher this movie. I felt like I was missing something, that there was more to it than first apparent. The acting, the dialogue, the sets, the costume: technically it is polished and purposeful; yet I was utterly unable to engage with it. And finally it hit me: that is because it is actually a commercial.\\nReview_Url: /review/rw9200246/?ref_=tt_urv', metadata={'source': '/review/rw9200246/?ref_=tt_urv', 'row': 85}), Document(page_content=\": 86\\nReview_Date: 23 July 2023\\nAuthor: nethy-nho\\nRating: 10\\nReview_Title: Barbie is not a simple live action of a timeless doll\\nReview: But it is also in its smallest details, from the art direction, costumes, and any technical choice completely thought of referencing all Barbie generations and the like. A soundtrack that will take you from laughing to crying (yes, very musical moments, after all it is a Barbie movie), in addition to the hand-picked cast, Margot is impeccable and manages to express all her feelings, just with her eyes. Greta's direction and screenplay, just amazing, strong, emotional, empowering and very, very feminist, not only for the women who are already fighting for the cause, but to open everyone's eyes to a sisterhood.\\nReview_Url: /review/rw9200246/?ref_=tt_urv\", metadata={'source': '/review/rw9200246/?ref_=tt_urv', 'row': 86}), Document(page_content=\": 87\\nReview_Date: 6 August 2023\\nAuthor: kelboy10\\nRating: 6\\nReview_Title: Life is plastic!\\nReview: Firstly, let's start with what was good about Barbie and move forward from there. The colourful palette, the set designs and costumes were perfect to bring you into a world that doesn't take itself too seriously. Barbie wasn't meant to get all philosophical and it wasn't necessarily supposed to provide us with a point. What it gave little girls is happiness and entertainment value. In the early stages of the movie it undoubtedly had potential to be a lot of fun with a comedic effect.\\nReview_Url: /review/rw9200246/?ref_=tt_urv\", metadata={'source': '/review/rw9200246/?ref_=tt_urv', 'row': 87}), Document(page_content=': 88\\nReview_Date: 15 August 2023\\nAuthor: EUyeshima\\nRating: 8\\nReview_Title: Perceptive Take on the Barbie Mythos', metadata={'source': '/review/rw9200246/?ref_=tt_urv', 'row': 88}), Document(page_content=\"Review: There's a bold and consistent current of subversive humanism that runs through this infectious 2023 satire that director Greta Gerwig manages with stylish aplomb. She and partner Noah Baumbach have taken the Barbie mythos and built a multilayered narrative around the evolving nature of female identity and empowerment within the context of male dominance and the patriarchy that has defined sexual roles since the beginning of time. However, this is neither a treatise nor a polemic. It's still primarily a fun, free-wheeling farce with Day-Glo colors and silly choreography filling up the screen with zestful energy informed by a knowing perspective. Margot Robbie is ideally cast in the title role as she epitomizes stereotypical Barbie. Ryan Gosling gives Ken the right level of disempowerment as he gets taken in by the lure of toxic masculinity. The rest of the cast appear equally game. Gerwig has truly applied a perceptive twist to a candy-coated girlhood memory.\", metadata={'source': '/review/rw9200246/?ref_=tt_urv', 'row': 88}), Document(page_content='Review_Url: /review/rw9200246/?ref_=tt_urv', metadata={'source': '/review/rw9200246/?ref_=tt_urv', 'row': 88}), Document(page_content=\": 89\\nReview_Date: 27 July 2023\\nAuthor: mr_sharma\\nRating: 7\\nReview_Title: I'm a middle aged man with daughters. I liked it.\\nReview: I suspect this is a personal thing. Who you are defines what you may get from this.\\nReview_Url: /review/rw9200246/?ref_=tt_urv\", metadata={'source': '/review/rw9200246/?ref_=tt_urv', 'row': 89}), Document(page_content=\": 90\\nReview_Date: 28 July 2023\\nAuthor: klastaitas\\nRating: 8\\nReview_Title: We're All Dolls\\nReview: Without consumerism, without belief, without plastic accessory and hope for a perfect day, where would Barbie find herself?\\nReview_Url: /review/rw9200246/?ref_=tt_urv\", metadata={'source': '/review/rw9200246/?ref_=tt_urv', 'row': 90}), Document(page_content=': 91\\nReview_Date: 10 November 2023\\nAuthor: SoumikBanerjee1996\\nRating: 6\\nReview_Title: I expect better from Greta Gerwig!\\nReview: When the execution banks on shrewd humour and clever writing, the movie thrives as a vivid spectacle, as a lighthearted entertainer, but whenever it delves deeper than the surface and enthusiastically seeks for the hidden under-layers, the psyches of Barbie and Ken, their understanding of the world and their impaired perspectives, the output just becomes so much fuller, the film comes to be something else altogether.\\nReview_Url: /review/rw9200246/?ref_=tt_urv', metadata={'source': '/review/rw9200246/?ref_=tt_urv', 'row': 91}), Document(page_content=': 92\\nReview_Date: 22 July 2023\\nAuthor: shadowtramp\\nRating: 5\\nReview_Title: More of a marketing flick\\nReview: The brilliant marketing is what led us tonight to pay for the tickets. The brilliance ends there.\\nReview_Url: /review/rw9200246/?ref_=tt_urv', metadata={'source': '/review/rw9200246/?ref_=tt_urv', 'row': 92}), Document(page_content=\": 93\\nReview_Date: 5 August 2023\\nAuthor: sjw1029\\nRating: 8\\nReview_Title: The movie event of 2023 lives up to the hype\\nReview: Let me start by saying it makes me happy to see a movie that isn't from the MCU or a sequel doing so well at the box office. There is still originality out there. This movie was very funny - the scene with Ken and the doctor in LA made me laugh very hard. It's weird and inventive. It has amazing choreography. So many talented people worked on this. I didn't grow up with Barbies so I'm sure a lot of the jokes went over my head. But it didn't hurt the enjoyment. It even manages to land a sentimental note at the end. I can definitely see this being a movie people see over and over.\\nReview_Url: /review/rw9200246/?ref_=tt_urv\", metadata={'source': '/review/rw9200246/?ref_=tt_urv', 'row': 93}), Document(page_content=\": 94\\nReview_Date: 20 July 2023\\nAuthor: FeastMode\\nRating: 7\\nReview_Title: I'll beach off with you any day, Ken\\nReview: I had no idea what to expect going into Barbie. I had no interest in seeing a movie about Barbie but was immediately sold on the highly talented Margot Robbie and the awesome Ryan Gosling. But I was still nervous that the comedy would be aimed strictly at women and would be difficult for a guy to enjoy.\\nReview_Url: /review/rw9200246/?ref_=tt_urv\", metadata={'source': '/review/rw9200246/?ref_=tt_urv', 'row': 94}), Document(page_content=': 95\\nReview_Date: 22 July 2023\\nAuthor: fernandoschiavi\\nRating: 5\\nReview_Title: \"Barbie\" is fun and visually beautiful, but unfortunately Barbie doll was dragged into the cultural war, used as a puppet by political militancy', metadata={'source': '/review/rw9200246/?ref_=tt_urv', 'row': 95}), Document(page_content='Review: Despite the strong commercial tone, it is still possible to perceive that we are watching a film by Greta Gerwig, director known for dramatic comedies that capture the complexity of femininity in an original way - although, in this case, it is almost inevitable to fall into some clichés. The undeniable feminist tone exists through the presence of this female director - in addition to Margot Robbie herself as a producer. \"Barbie\" has sharp and intelligent comments on the dynamics between men and women over time and also on how these social roles are seen and problematized today. And the film does it with a big heart: the story is genuinely fun, with a humor that walks between acidity and innocence, but also moves with the existential journey of its protagonists, reserving touching moments and provoking reflections, especially in its final stretch. Debauchery is the great ally of Gerwig and Baumbach to deal not only with sexism, but also with the \"corporate\" issue. It won\\'t be', metadata={'source': '/review/rw9200246/?ref_=tt_urv', 'row': 95}), Document(page_content='Gerwig and Baumbach to deal not only with sexism, but also with the \"corporate\" issue. It won\\'t be strange if you catch yourself thinking \"how did Mattel let this film see the light of day?\" Laughing at yourself, after all, seems to be a prerequisite for establishing communication with a young generation of consumers who associate their consumption habits with a critical eye on consumerism itself.', metadata={'source': '/review/rw9200246/?ref_=tt_urv', 'row': 95}), Document(page_content='Review_Url: /review/rw9200246/?ref_=tt_urv', metadata={'source': '/review/rw9200246/?ref_=tt_urv', 'row': 95}), Document(page_content=': 96\\nReview_Date: 3 August 2023\\nAuthor: anonim-73883\\nRating: 10\\nReview_Title: Great philosophical film to think about and laugh about.\\nReview: This is.... Was.... Admirably!\\nReview_Url: /review/rw9200246/?ref_=tt_urv', metadata={'source': '/review/rw9200246/?ref_=tt_urv', 'row': 96}), Document(page_content=': 97\\nReview_Date: 10 September 2023\\nAuthor: Lincsobserver\\nRating: 6\\nReview_Title: Colourful, but confusing', metadata={'source': '/review/rw9200246/?ref_=tt_urv', 'row': 97}), Document(page_content='Author: Lincsobserver\\nRating: 6\\nReview_Title: Colourful, but confusing\\nReview: Who exactly was this film aimed at? Most of the audience when I saw it were adolescents, and there were numerous (perhaps too many) colourful song and dance scenes, which might have appealed to younger viewers, but also a lot of philosophical debate about gender roles and inter-relationships that would have gone over their heads, particularly as these were delivered at a frantic, garbled pace. There were some good comic scenes, and stand-out performances by Margot Robbie and Ryan Gosling, but as the film wore on, it all became a bit preachy. The message seemed to be about finding self-fulfilment rather than romance. Okay, not every film, or every life, has to end in a fairy-tale romantic coupling, but the emphasis on individual fulfilment within the support structure of the sisterhood seems a little bleak. It also makes nonsense of the final confusing pay-off line of the film.', metadata={'source': '/review/rw9200246/?ref_=tt_urv', 'row': 97}), Document(page_content='Review_Url: /review/rw9200246/?ref_=tt_urv', metadata={'source': '/review/rw9200246/?ref_=tt_urv', 'row': 97}), Document(page_content=': 98\\nReview_Date: 25 July 2023\\nAuthor: kimberlyely-27550\\nRating: 10\\nReview_Title: Everyone watch this\\nReview: Barbie\\nReview_Url: /review/rw9200246/?ref_=tt_urv', metadata={'source': '/review/rw9200246/?ref_=tt_urv', 'row': 98}), Document(page_content=': 99\\nReview_Date: 19 July 2023\\nAuthor: AvionPrince16\\nRating: 6\\nReview_Title: Barbie Land', metadata={'source': '/review/rw9200246/?ref_=tt_urv', 'row': 99}), Document(page_content='Review: Im not really disappointed or love the movie to be honest. It was kind of weird and strange at the beginning: we understand it later because we are in the Barbie world. So they played with the culture reference of the barbie, the dolls and what they represent: an ideal world with where the womans are in power. Things will get pretty normal after they enter the real world and all the problems: sexual remark, womens and their place in society (the inequality with mens.) I was pretty sure they will talk about the problems with womans and their complex because of Barbie and the perfect women she is and how this is contrasted with the real world. Its pretty obvious that they will talk about it. I love also how Ken will also notice how mens are more powerful in the real world: its like everyone see that reality is not really what they perceived themselves in their own reality and power will shift also later in Barbie Land. I understand why they act like this and stuff but i didnt', metadata={'source': '/review/rw9200246/?ref_=tt_urv', 'row': 99}), Document(page_content='will shift also later in Barbie Land. I understand why they act like this and stuff but i didnt really get into the movie to be honest: i only identify myself when they talked about society and business but all the musical things, the choregraphy and even the morality was kind of superficial. But i enjoyed that Barbie realised the problems of our world and compare to her own. Some moments was funny and some more serious or drama sometimes even if its pretty soft because we are in Barbie Land. I mean i spend a great time but it was kind of ok. And i still think its a great Barbie movie: the task was not easy to represent that world but i enjoyed the set design, the colors, the camera movements. Its good anyway.', metadata={'source': '/review/rw9200246/?ref_=tt_urv', 'row': 99}), Document(page_content='Review_Url: /review/rw9200246/?ref_=tt_urv', metadata={'source': '/review/rw9200246/?ref_=tt_urv', 'row': 99})]\n"
          ]
        }
      ]
    },
    {
      "cell_type": "code",
      "source": [
        "len(documents)"
      ],
      "metadata": {
        "colab": {
          "base_uri": "https://localhost:8080/"
        },
        "id": "kpXEOwRPf3Z_",
        "outputId": "2b81c89e-79d7-442c-b5db-8f58252a1351"
      },
      "execution_count": 10,
      "outputs": [
        {
          "output_type": "execute_result",
          "data": {
            "text/plain": [
              "151"
            ]
          },
          "metadata": {},
          "execution_count": 10
        }
      ]
    },
    {
      "cell_type": "markdown",
      "source": [
        "### Embedding + Index"
      ],
      "metadata": {
        "id": "ZVhnnXGVf90_"
      }
    },
    {
      "cell_type": "code",
      "source": [
        "import os\n",
        "from langchain.embeddings import OpenAIEmbeddings\n",
        "from langchain.vectorstores import FAISS\n",
        "\n",
        "os.environ['OPENAI_API_KEY'] = \"Enter Your OPENAI_API_KEY\"\n",
        "embeddings = OpenAIEmbeddings()\n",
        "\n",
        "vectordb = FAISS.from_documents(\n",
        "    documents,\n",
        "    embeddings\n",
        ")"
      ],
      "metadata": {
        "colab": {
          "base_uri": "https://localhost:8080/"
        },
        "id": "C43pqm-ff5qk",
        "outputId": "44428d53-282e-4076-c87d-3f8bd1d29a48"
      },
      "execution_count": 11,
      "outputs": [
        {
          "output_type": "stream",
          "name": "stderr",
          "text": [
            "/usr/local/lib/python3.10/dist-packages/langchain_core/_api/deprecation.py:119: LangChainDeprecationWarning: The class `OpenAIEmbeddings` was deprecated in LangChain 0.0.9 and will be removed in 0.2.0. An updated version of the class exists in the langchain-openai package and should be used instead. To use it run `pip install -U langchain-openai` and import as `from langchain_openai import OpenAIEmbeddings`.\n",
            "  warn_deprecated(\n"
          ]
        }
      ]
    },
    {
      "cell_type": "markdown",
      "source": [
        "### Query"
      ],
      "metadata": {
        "id": "u_L1e0P2hZOd"
      }
    },
    {
      "cell_type": "code",
      "source": [
        "query = \"How is Will Ferrell in this movie?\"\n",
        "embedding_vector = embeddings.embed_query(query)\n",
        "docs = vectordb.similarity_search_by_vector(\n",
        "    embedding_vector,\n",
        "    k = 3\n",
        ")\n",
        "\n",
        "for page in docs:\n",
        "  print(page.page_content)"
      ],
      "metadata": {
        "colab": {
          "base_uri": "https://localhost:8080/"
        },
        "id": "-bu2Gw-mg2FV",
        "outputId": "87817a0d-ae5a-4ca2-e198-894bd4daa879"
      },
      "execution_count": 12,
      "outputs": [
        {
          "output_type": "stream",
          "name": "stdout",
          "text": [
            "I can imagine that in the boardroom they went through a discussion like this: People are going to think this is a feel good movie so we need to give them something deeper but also lets make it absurd and fast paced so that we can finish the plot quickly and also jump on the \"not taking itself serious\" bandwagon and also market these dolls again in the age of smartphone kids. The only reason this movie gets at 5 from me is the humor, which sometimes becomes very meta and creative and Margot Robbie and Ryan Gosling have acted very well. Besides this, they could have just given us a simple feel good movie and I would have respected the creators more. Pass.\n",
            "Review_Url: /review/rw9200246/?ref_=tt_urv\n",
            "While i'm not so sure at first, the movie kept getting even more fun, entertaining, and definitely better, also surprisingly deal with a legit serious stuff, Barbie is a weirdly fun movie that fills with this very interesting concept, definitely the first time that's ever done, Greta Gerwig has created this whole new style of filmmaking specifically for Barbie, from the intentionally weird yet creative editing, some awkward and cringe scene, i found the comedy so funny instead of cringe, Barbie is one of the most original movie of the year and also one of the most original movie i've seen in a while, we all know Margot Robbie and Ryan Gosling is gonna carry the movie and they are, but Will Ferrell, Simu Liu, and the whole rest of the cast were also great and entertaining, the soundtrack was just great, except Nicki Minaj and Ice Spice \"Barbie World\" song that are just absolutely terrible, but Billie Eilish \"What Was I Made For?\" tune that kept haunting in the background until it\n",
            "Review: The movie was very funny and really enjoyable to laugh at with the full theatre. However, the messages of the movie were the problem. I was never really sure what I was supposed to take away, there was nothing about finding equality or love it was all about how every man cat falls every woman or women can't be anything. It was really silly because there was no accurate reflection of America at any single point except for Barbie getting called a Fascist for no reason by a 14 year old. I enjoyed how they called out women for hating women and how they really tried to preach empowerment and the ability to be anything, but at the same time there was so much resentment and they ended the movie by reinstating hate. The majority of the movie was hating men as much as possible. That's just whatever because what really matters is the story. Well it fell short on that mark and it was really disappointing. The pacing was horrible, the villain won and was pretty irrelevant in the long run,\n"
          ]
        }
      ]
    },
    {
      "cell_type": "markdown",
      "source": [
        "### Retrieval Chain"
      ],
      "metadata": {
        "id": "3yp3iDcziJz5"
      }
    },
    {
      "cell_type": "code",
      "source": [
        "from langchain.llms.openai import OpenAIChat\n",
        "\n",
        "llm = OpenAIChat(\n",
        "    model = \"gpt-3.5-turbo\"\n",
        ")\n",
        "\n",
        "retriever = vectordb.as_retriever()"
      ],
      "metadata": {
        "colab": {
          "base_uri": "https://localhost:8080/"
        },
        "id": "Kx7Yc6pZh2rb",
        "outputId": "4f5cbae8-e86b-4bc4-f16a-b9cced9885da"
      },
      "execution_count": 13,
      "outputs": [
        {
          "output_type": "stream",
          "name": "stderr",
          "text": [
            "/usr/local/lib/python3.10/dist-packages/langchain_core/_api/deprecation.py:119: LangChainDeprecationWarning: The class `OpenAIChat` was deprecated in LangChain 0.0.1 and will be removed in 0.2.0. An updated version of the class exists in the langchain-openai package and should be used instead. To use it run `pip install -U langchain-openai` and import as `from langchain_openai import ChatOpenAI`.\n",
            "  warn_deprecated(\n",
            "/usr/local/lib/python3.10/dist-packages/langchain_community/llms/openai.py:1070: UserWarning: You are trying to use a chat model. This way of initializing it is no longer supported. Instead, please use: `from langchain_community.chat_models import ChatOpenAI`\n",
            "  warnings.warn(\n"
          ]
        }
      ]
    },
    {
      "cell_type": "code",
      "source": [
        "from langchain.chains import RetrievalQA\n",
        "from langchain.callbacks import StdOutCallbackHandler\n",
        "\n",
        "handler = StdOutCallbackHandler()\n",
        "\n",
        "qa_chain = RetrievalQA.from_chain_type(\n",
        "    llm = llm,\n",
        "    retriever = retriever,\n",
        "    callbacks = [handler],\n",
        "    return_source_documents = True\n",
        ")"
      ],
      "metadata": {
        "id": "1eApVOhAi5yX"
      },
      "execution_count": 14,
      "outputs": []
    },
    {
      "cell_type": "code",
      "source": [
        "qa_chain(\n",
        "    {\n",
        "        \"query\" : \"How was Will Ferrell in this movie?\"\n",
        "    }\n",
        ")\n"
      ],
      "metadata": {
        "colab": {
          "base_uri": "https://localhost:8080/"
        },
        "id": "1oFsHiUFjdji",
        "outputId": "bb3b8747-07cb-459b-fb4c-d37915daf7f2"
      },
      "execution_count": 15,
      "outputs": [
        {
          "output_type": "stream",
          "name": "stderr",
          "text": [
            "/usr/local/lib/python3.10/dist-packages/langchain_core/_api/deprecation.py:119: LangChainDeprecationWarning: The method `Chain.__call__` was deprecated in langchain 0.1.0 and will be removed in 0.2.0. Use invoke instead.\n",
            "  warn_deprecated(\n"
          ]
        },
        {
          "output_type": "stream",
          "name": "stdout",
          "text": [
            "\n",
            "\n",
            "\u001b[1m> Entering new RetrievalQA chain...\u001b[0m\n",
            "\n",
            "\u001b[1m> Finished chain.\u001b[0m\n"
          ]
        },
        {
          "output_type": "execute_result",
          "data": {
            "text/plain": [
              "{'query': 'How was Will Ferrell in this movie?',\n",
              " 'result': 'Will Ferrell was great and entertaining according to one of the reviews.',\n",
              " 'source_documents': [Document(page_content=\"Review: The movie was very funny and really enjoyable to laugh at with the full theatre. However, the messages of the movie were the problem. I was never really sure what I was supposed to take away, there was nothing about finding equality or love it was all about how every man cat falls every woman or women can't be anything. It was really silly because there was no accurate reflection of America at any single point except for Barbie getting called a Fascist for no reason by a 14 year old. I enjoyed how they called out women for hating women and how they really tried to preach empowerment and the ability to be anything, but at the same time there was so much resentment and they ended the movie by reinstating hate. The majority of the movie was hating men as much as possible. That's just whatever because what really matters is the story. Well it fell short on that mark and it was really disappointing. The pacing was horrible, the villain won and was pretty irrelevant in the long run,\", metadata={'source': '/review/rw9200246/?ref_=tt_urv', 'row': 30}),\n",
              "  Document(page_content='I can imagine that in the boardroom they went through a discussion like this: People are going to think this is a feel good movie so we need to give them something deeper but also lets make it absurd and fast paced so that we can finish the plot quickly and also jump on the \"not taking itself serious\" bandwagon and also market these dolls again in the age of smartphone kids. The only reason this movie gets at 5 from me is the humor, which sometimes becomes very meta and creative and Margot Robbie and Ryan Gosling have acted very well. Besides this, they could have just given us a simple feel good movie and I would have respected the creators more. Pass.\\nReview_Url: /review/rw9200246/?ref_=tt_urv', metadata={'source': '/review/rw9200246/?ref_=tt_urv', 'row': 52}),\n",
              "  Document(page_content='While i\\'m not so sure at first, the movie kept getting even more fun, entertaining, and definitely better, also surprisingly deal with a legit serious stuff, Barbie is a weirdly fun movie that fills with this very interesting concept, definitely the first time that\\'s ever done, Greta Gerwig has created this whole new style of filmmaking specifically for Barbie, from the intentionally weird yet creative editing, some awkward and cringe scene, i found the comedy so funny instead of cringe, Barbie is one of the most original movie of the year and also one of the most original movie i\\'ve seen in a while, we all know Margot Robbie and Ryan Gosling is gonna carry the movie and they are, but Will Ferrell, Simu Liu, and the whole rest of the cast were also great and entertaining, the soundtrack was just great, except Nicki Minaj and Ice Spice \"Barbie World\" song that are just absolutely terrible, but Billie Eilish \"What Was I Made For?\" tune that kept haunting in the background until it', metadata={'source': '/review/rw9200246/?ref_=tt_urv', 'row': 10}),\n",
              "  Document(page_content=\": 62\\nReview_Date: 24 July 2023\\nAuthor: brianjohnson-20043\\nRating: 4\\nReview_Title: This movie tries to be too much\\nReview: I wanted to like it. But I just didn't. The story wasn't very compelling to me because it seemed as if the entire point of much of the movie was to provide learning moments for viewers with some slapstick comedy and quick-delivery comedy. The story itself should nearly always be more important.\\nReview_Url: /review/rw9200246/?ref_=tt_urv\", metadata={'source': '/review/rw9200246/?ref_=tt_urv', 'row': 62})]}"
            ]
          },
          "metadata": {},
          "execution_count": 15
        }
      ]
    },
    {
      "cell_type": "code",
      "source": [
        "results = qa_chain(\n",
        "    {\n",
        "        \"query\" : \"Do reviewers consider this movie Kenough?\"\n",
        "    }\n",
        ")\n",
        "results['result']"
      ],
      "metadata": {
        "colab": {
          "base_uri": "https://localhost:8080/",
          "height": 127
        },
        "id": "qpEKEwxUjwpN",
        "outputId": "813aa7dc-76cc-427a-a9d4-611f9175cc50"
      },
      "execution_count": 18,
      "outputs": [
        {
          "output_type": "stream",
          "name": "stdout",
          "text": [
            "\n",
            "\n",
            "\u001b[1m> Entering new RetrievalQA chain...\u001b[0m\n",
            "\n",
            "\u001b[1m> Finished chain.\u001b[0m\n"
          ]
        },
        {
          "output_type": "execute_result",
          "data": {
            "text/plain": [
              "'Yes, the reviewers have mixed opinions on whether the movie is Kenough.'"
            ],
            "application/vnd.google.colaboratory.intrinsic+json": {
              "type": "string"
            }
          },
          "metadata": {},
          "execution_count": 18
        }
      ]
    },
    {
      "cell_type": "code",
      "source": [],
      "metadata": {
        "id": "GfqsJb74lH8A"
      },
      "execution_count": null,
      "outputs": []
    }
  ]
}