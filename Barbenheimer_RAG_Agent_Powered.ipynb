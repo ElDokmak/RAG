{
  "nbformat": 4,
  "nbformat_minor": 0,
  "metadata": {
    "colab": {
      "provenance": []
    },
    "kernelspec": {
      "name": "python3",
      "display_name": "Python 3"
    },
    "language_info": {
      "name": "python"
    }
  },
  "cells": [
    {
      "cell_type": "code",
      "execution_count": 1,
      "metadata": {
        "colab": {
          "base_uri": "https://localhost:8080/"
        },
        "id": "xX_A66tdrm2H",
        "outputId": "0d46f83b-846a-497f-94dc-ef2a89be30c1"
      },
      "outputs": [
        {
          "output_type": "stream",
          "name": "stdout",
          "text": [
            "Requirement already satisfied: pip in /usr/local/lib/python3.10/dist-packages (23.1.2)\n",
            "Requirement already satisfied: install in /usr/local/lib/python3.10/dist-packages (1.3.5)\n",
            "Requirement already satisfied: openai==0.28 in /usr/local/lib/python3.10/dist-packages (0.28.0)\n",
            "Requirement already satisfied: langchain in /usr/local/lib/python3.10/dist-packages (0.1.17)\n",
            "Requirement already satisfied: faiss-cpu in /usr/local/lib/python3.10/dist-packages (1.8.0)\n",
            "Requirement already satisfied: tiktoken in /usr/local/lib/python3.10/dist-packages (0.6.0)\n",
            "Requirement already satisfied: requests in /usr/local/lib/python3.10/dist-packages (2.31.0)\n",
            "Requirement already satisfied: scrapy in /usr/local/lib/python3.10/dist-packages (2.11.1)\n",
            "Requirement already satisfied: selenium in /usr/local/lib/python3.10/dist-packages (4.20.0)\n",
            "Requirement already satisfied: tqdm in /usr/local/lib/python3.10/dist-packages (from openai==0.28) (4.66.2)\n",
            "Requirement already satisfied: aiohttp in /usr/local/lib/python3.10/dist-packages (from openai==0.28) (3.9.5)\n",
            "Requirement already satisfied: PyYAML>=5.3 in /usr/local/lib/python3.10/dist-packages (from langchain) (6.0.1)\n",
            "Requirement already satisfied: SQLAlchemy<3,>=1.4 in /usr/local/lib/python3.10/dist-packages (from langchain) (2.0.29)\n",
            "Requirement already satisfied: async-timeout<5.0.0,>=4.0.0 in /usr/local/lib/python3.10/dist-packages (from langchain) (4.0.3)\n",
            "Requirement already satisfied: dataclasses-json<0.7,>=0.5.7 in /usr/local/lib/python3.10/dist-packages (from langchain) (0.6.5)\n",
            "Requirement already satisfied: jsonpatch<2.0,>=1.33 in /usr/local/lib/python3.10/dist-packages (from langchain) (1.33)\n",
            "Requirement already satisfied: langchain-community<0.1,>=0.0.36 in /usr/local/lib/python3.10/dist-packages (from langchain) (0.0.36)\n",
            "Requirement already satisfied: langchain-core<0.2.0,>=0.1.48 in /usr/local/lib/python3.10/dist-packages (from langchain) (0.1.48)\n",
            "Requirement already satisfied: langchain-text-splitters<0.1,>=0.0.1 in /usr/local/lib/python3.10/dist-packages (from langchain) (0.0.1)\n",
            "Requirement already satisfied: langsmith<0.2.0,>=0.1.17 in /usr/local/lib/python3.10/dist-packages (from langchain) (0.1.52)\n",
            "Requirement already satisfied: numpy<2,>=1 in /usr/local/lib/python3.10/dist-packages (from langchain) (1.25.2)\n",
            "Requirement already satisfied: pydantic<3,>=1 in /usr/local/lib/python3.10/dist-packages (from langchain) (2.7.1)\n",
            "Requirement already satisfied: tenacity<9.0.0,>=8.1.0 in /usr/local/lib/python3.10/dist-packages (from langchain) (8.2.3)\n",
            "Requirement already satisfied: regex>=2022.1.18 in /usr/local/lib/python3.10/dist-packages (from tiktoken) (2023.12.25)\n",
            "Requirement already satisfied: charset-normalizer<4,>=2 in /usr/local/lib/python3.10/dist-packages (from requests) (3.3.2)\n",
            "Requirement already satisfied: idna<4,>=2.5 in /usr/local/lib/python3.10/dist-packages (from requests) (3.7)\n",
            "Requirement already satisfied: urllib3<3,>=1.21.1 in /usr/local/lib/python3.10/dist-packages (from requests) (2.0.7)\n",
            "Requirement already satisfied: certifi>=2017.4.17 in /usr/local/lib/python3.10/dist-packages (from requests) (2024.2.2)\n",
            "Requirement already satisfied: Twisted>=18.9.0 in /usr/local/lib/python3.10/dist-packages (from scrapy) (24.3.0)\n",
            "Requirement already satisfied: cryptography>=36.0.0 in /usr/local/lib/python3.10/dist-packages (from scrapy) (42.0.5)\n",
            "Requirement already satisfied: cssselect>=0.9.1 in /usr/local/lib/python3.10/dist-packages (from scrapy) (1.2.0)\n",
            "Requirement already satisfied: itemloaders>=1.0.1 in /usr/local/lib/python3.10/dist-packages (from scrapy) (1.2.0)\n",
            "Requirement already satisfied: parsel>=1.5.0 in /usr/local/lib/python3.10/dist-packages (from scrapy) (1.9.1)\n",
            "Requirement already satisfied: pyOpenSSL>=21.0.0 in /usr/local/lib/python3.10/dist-packages (from scrapy) (24.1.0)\n",
            "Requirement already satisfied: queuelib>=1.4.2 in /usr/local/lib/python3.10/dist-packages (from scrapy) (1.6.2)\n",
            "Requirement already satisfied: service-identity>=18.1.0 in /usr/local/lib/python3.10/dist-packages (from scrapy) (24.1.0)\n",
            "Requirement already satisfied: w3lib>=1.17.0 in /usr/local/lib/python3.10/dist-packages (from scrapy) (2.1.2)\n",
            "Requirement already satisfied: zope.interface>=5.1.0 in /usr/local/lib/python3.10/dist-packages (from scrapy) (6.3)\n",
            "Requirement already satisfied: protego>=0.1.15 in /usr/local/lib/python3.10/dist-packages (from scrapy) (0.3.1)\n",
            "Requirement already satisfied: itemadapter>=0.1.0 in /usr/local/lib/python3.10/dist-packages (from scrapy) (0.8.0)\n",
            "Requirement already satisfied: setuptools in /usr/local/lib/python3.10/dist-packages (from scrapy) (67.7.2)\n",
            "Requirement already satisfied: packaging in /usr/local/lib/python3.10/dist-packages (from scrapy) (23.2)\n",
            "Requirement already satisfied: tldextract in /usr/local/lib/python3.10/dist-packages (from scrapy) (5.1.2)\n",
            "Requirement already satisfied: lxml>=4.4.1 in /usr/local/lib/python3.10/dist-packages (from scrapy) (4.9.4)\n",
            "Requirement already satisfied: PyDispatcher>=2.0.5 in /usr/local/lib/python3.10/dist-packages (from scrapy) (2.0.7)\n",
            "Requirement already satisfied: trio~=0.17 in /usr/local/lib/python3.10/dist-packages (from selenium) (0.25.0)\n",
            "Requirement already satisfied: trio-websocket~=0.9 in /usr/local/lib/python3.10/dist-packages (from selenium) (0.11.1)\n",
            "Requirement already satisfied: typing_extensions>=4.9.0 in /usr/local/lib/python3.10/dist-packages (from selenium) (4.11.0)\n",
            "Requirement already satisfied: aiosignal>=1.1.2 in /usr/local/lib/python3.10/dist-packages (from aiohttp->openai==0.28) (1.3.1)\n",
            "Requirement already satisfied: attrs>=17.3.0 in /usr/local/lib/python3.10/dist-packages (from aiohttp->openai==0.28) (23.2.0)\n",
            "Requirement already satisfied: frozenlist>=1.1.1 in /usr/local/lib/python3.10/dist-packages (from aiohttp->openai==0.28) (1.4.1)\n",
            "Requirement already satisfied: multidict<7.0,>=4.5 in /usr/local/lib/python3.10/dist-packages (from aiohttp->openai==0.28) (6.0.5)\n",
            "Requirement already satisfied: yarl<2.0,>=1.0 in /usr/local/lib/python3.10/dist-packages (from aiohttp->openai==0.28) (1.9.4)\n",
            "Requirement already satisfied: cffi>=1.12 in /usr/local/lib/python3.10/dist-packages (from cryptography>=36.0.0->scrapy) (1.16.0)\n",
            "Requirement already satisfied: marshmallow<4.0.0,>=3.18.0 in /usr/local/lib/python3.10/dist-packages (from dataclasses-json<0.7,>=0.5.7->langchain) (3.21.1)\n",
            "Requirement already satisfied: typing-inspect<1,>=0.4.0 in /usr/local/lib/python3.10/dist-packages (from dataclasses-json<0.7,>=0.5.7->langchain) (0.9.0)\n",
            "Requirement already satisfied: jmespath>=0.9.5 in /usr/local/lib/python3.10/dist-packages (from itemloaders>=1.0.1->scrapy) (1.0.1)\n",
            "Requirement already satisfied: jsonpointer>=1.9 in /usr/local/lib/python3.10/dist-packages (from jsonpatch<2.0,>=1.33->langchain) (2.4)\n",
            "Requirement already satisfied: orjson<4.0.0,>=3.9.14 in /usr/local/lib/python3.10/dist-packages (from langsmith<0.2.0,>=0.1.17->langchain) (3.10.2)\n",
            "Requirement already satisfied: annotated-types>=0.4.0 in /usr/local/lib/python3.10/dist-packages (from pydantic<3,>=1->langchain) (0.6.0)\n",
            "Requirement already satisfied: pydantic-core==2.18.2 in /usr/local/lib/python3.10/dist-packages (from pydantic<3,>=1->langchain) (2.18.2)\n",
            "Requirement already satisfied: pyasn1 in /usr/local/lib/python3.10/dist-packages (from service-identity>=18.1.0->scrapy) (0.6.0)\n",
            "Requirement already satisfied: pyasn1-modules in /usr/local/lib/python3.10/dist-packages (from service-identity>=18.1.0->scrapy) (0.4.0)\n",
            "Requirement already satisfied: greenlet!=0.4.17 in /usr/local/lib/python3.10/dist-packages (from SQLAlchemy<3,>=1.4->langchain) (3.0.3)\n",
            "Requirement already satisfied: sortedcontainers in /usr/local/lib/python3.10/dist-packages (from trio~=0.17->selenium) (2.4.0)\n",
            "Requirement already satisfied: outcome in /usr/local/lib/python3.10/dist-packages (from trio~=0.17->selenium) (1.3.0.post0)\n",
            "Requirement already satisfied: sniffio>=1.3.0 in /usr/local/lib/python3.10/dist-packages (from trio~=0.17->selenium) (1.3.1)\n",
            "Requirement already satisfied: exceptiongroup in /usr/local/lib/python3.10/dist-packages (from trio~=0.17->selenium) (1.2.1)\n",
            "Requirement already satisfied: wsproto>=0.14 in /usr/local/lib/python3.10/dist-packages (from trio-websocket~=0.9->selenium) (1.2.0)\n",
            "Requirement already satisfied: automat>=0.8.0 in /usr/local/lib/python3.10/dist-packages (from Twisted>=18.9.0->scrapy) (22.10.0)\n",
            "Requirement already satisfied: constantly>=15.1 in /usr/local/lib/python3.10/dist-packages (from Twisted>=18.9.0->scrapy) (23.10.4)\n",
            "Requirement already satisfied: hyperlink>=17.1.1 in /usr/local/lib/python3.10/dist-packages (from Twisted>=18.9.0->scrapy) (21.0.0)\n",
            "Requirement already satisfied: incremental>=22.10.0 in /usr/local/lib/python3.10/dist-packages (from Twisted>=18.9.0->scrapy) (22.10.0)\n",
            "Requirement already satisfied: pysocks!=1.5.7,<2.0,>=1.5.6 in /usr/local/lib/python3.10/dist-packages (from urllib3<3,>=1.21.1->requests) (1.7.1)\n",
            "Requirement already satisfied: requests-file>=1.4 in /usr/local/lib/python3.10/dist-packages (from tldextract->scrapy) (2.0.0)\n",
            "Requirement already satisfied: filelock>=3.0.8 in /usr/local/lib/python3.10/dist-packages (from tldextract->scrapy) (3.13.4)\n",
            "Requirement already satisfied: six in /usr/local/lib/python3.10/dist-packages (from automat>=0.8.0->Twisted>=18.9.0->scrapy) (1.16.0)\n",
            "Requirement already satisfied: pycparser in /usr/local/lib/python3.10/dist-packages (from cffi>=1.12->cryptography>=36.0.0->scrapy) (2.22)\n",
            "Requirement already satisfied: mypy-extensions>=0.3.0 in /usr/local/lib/python3.10/dist-packages (from typing-inspect<1,>=0.4.0->dataclasses-json<0.7,>=0.5.7->langchain) (1.0.0)\n",
            "Requirement already satisfied: h11<1,>=0.9.0 in /usr/local/lib/python3.10/dist-packages (from wsproto>=0.14->trio-websocket~=0.9->selenium) (0.14.0)\n"
          ]
        }
      ],
      "source": [
        "!pip install pip install openai==0.28 langchain faiss-cpu tiktoken requests scrapy selenium"
      ]
    },
    {
      "cell_type": "markdown",
      "source": [
        "## Downloading IMDB Reviews\n",
        "1. Barbie reviews\n",
        "2. Openheimer reviews\n",
        "\n",
        "- Sometimes when trying to excute them sequentially you will get an error, so run one then restart run time and run the remaining one"
      ],
      "metadata": {
        "id": "3ijn1Gd2uUVg"
      }
    },
    {
      "cell_type": "code",
      "source": [
        "import numpy as np\n",
        "import pandas as pd\n",
        "from scrapy.selector import Selector\n",
        "from selenium import webdriver\n",
        "from selenium.webdriver.common.by import By\n",
        "from selenium.webdriver.common.keys import Keys\n",
        "import time\n",
        "from tqdm import tqdm\n",
        "import warnings\n",
        "warnings.filterwarnings(\"ignore\")\n",
        "\n",
        "\n",
        "chrome_options = webdriver.ChromeOptions()\n",
        "chrome_options.add_argument('--headless')\n",
        "chrome_options.add_argument('--no-sandbox')\n",
        "chrome_options.add_argument('--disable-dev-shm-usage')\n",
        "driver = webdriver.Chrome(options=chrome_options)"
      ],
      "metadata": {
        "id": "thmkstr7sBg_"
      },
      "execution_count": 2,
      "outputs": []
    },
    {
      "cell_type": "code",
      "source": [
        "# Barbie IMDB reviews\n",
        "\n",
        "url = \"https://www.imdb.com/title/tt1517268/reviews/?ref_=tt_ov_rt\"\n",
        "driver.get(url)\n",
        "\n",
        "\n",
        "sel = Selector(text = driver.page_source)\n",
        "review_counts = sel.css('.lister .header span::text').extract_first().replace(',','').split(' ')[0]\n",
        "more_review_pages = int(int(review_counts)/25)\n",
        "\n",
        "for i in tqdm(range(more_review_pages)):\n",
        "    try:\n",
        "        css_selector = 'load-more-trigger'\n",
        "        driver.find_element(By.ID, css_selector).click()\n",
        "    except:\n",
        "        pass\n",
        "\n",
        "rating_list = []\n",
        "review_date_list = []\n",
        "review_title_list = []\n",
        "author_list = []\n",
        "review_list = []\n",
        "review_url_list = []\n",
        "error_url_list = []\n",
        "error_msg_list = []\n",
        "reviews = driver.find_elements(By.CSS_SELECTOR, 'div.review-container')\n",
        "\n",
        "for d in tqdm(reviews):\n",
        "    try:\n",
        "        sel2 = Selector(text = d.get_attribute('innerHTML'))\n",
        "        try:\n",
        "            rating = sel2.css('.rating-other-user-rating span::text').extract_first()\n",
        "        except:\n",
        "            rating = np.NaN\n",
        "        try:\n",
        "            review = sel2.css('.text.show-more__control::text').extract_first()\n",
        "        except:\n",
        "            review = np.NaN\n",
        "        try:\n",
        "            review_date = sel2.css('.review-date::text').extract_first()\n",
        "        except:\n",
        "            review_date = np.NaN\n",
        "        try:\n",
        "            author = sel2.css('.display-name-link a::text').extract_first()\n",
        "        except:\n",
        "            author = np.NaN\n",
        "        try:\n",
        "            review_title = sel2.css('a.title::text').extract_first()\n",
        "        except:\n",
        "            review_title = np.NaN\n",
        "        try:\n",
        "            review_url = sel2.css('a.title::attr(href)').extract_first()\n",
        "        except:\n",
        "            review_url = np.NaN\n",
        "        rating_list.append(rating)\n",
        "        review_date_list.append(review_date)\n",
        "        review_title_list.append(review_title)\n",
        "        author_list.append(author)\n",
        "        review_list.append(review)\n",
        "        review_url_list.append(review_url)\n",
        "    except Exception as e:\n",
        "        error_url_list.append(url)\n",
        "        error_msg_list.append(e)\n",
        "review_df = pd.DataFrame({\n",
        "    'Review_Date':review_date_list,\n",
        "    'Author':author_list,\n",
        "    'Rating':rating_list,\n",
        "    'Review_Title':review_title_list,\n",
        "    'Review':review_list,\n",
        "    'Review_Url':review_url\n",
        "    })\n",
        "\n",
        "review_df.to_csv('/content/reviews/barbie.csv')"
      ],
      "metadata": {
        "colab": {
          "base_uri": "https://localhost:8080/"
        },
        "id": "e6Cx-QXjsLyP",
        "outputId": "1bd6db9e-0db9-4e77-bc30-68f087d80cf0"
      },
      "execution_count": 4,
      "outputs": [
        {
          "output_type": "stream",
          "name": "stderr",
          "text": [
            "100%|██████████| 70/70 [00:06<00:00, 10.62it/s]\n",
            "100%|██████████| 175/175 [00:02<00:00, 77.69it/s] \n"
          ]
        }
      ]
    },
    {
      "cell_type": "code",
      "source": [
        "# Openheimer IMDB Reviews\n",
        "\n",
        "url = \"https://www.imdb.com/title/tt15398776/reviews\"\n",
        "driver.get(url)\n",
        "\n",
        "\n",
        "sel = Selector(text = driver.page_source)\n",
        "review_counts = sel.css('.lister .header span::text').extract_first().replace(',','').split(' ')[0]\n",
        "more_review_pages = int(int(review_counts)/25)\n",
        "\n",
        "for i in tqdm(range(more_review_pages)):\n",
        "    try:\n",
        "        css_selector = 'load-more-trigger'\n",
        "        driver.find_element(By.ID, css_selector).click()\n",
        "    except:\n",
        "        pass\n",
        "\n",
        "rating_list = []\n",
        "review_date_list = []\n",
        "review_title_list = []\n",
        "author_list = []\n",
        "review_list = []\n",
        "review_url_list = []\n",
        "error_url_list = []\n",
        "error_msg_list = []\n",
        "reviews = driver.find_elements(By.CSS_SELECTOR, 'div.review-container')\n",
        "\n",
        "for d in tqdm(reviews):\n",
        "    try:\n",
        "        sel2 = Selector(text = d.get_attribute('innerHTML'))\n",
        "        try:\n",
        "            rating = sel2.css('.rating-other-user-rating span::text').extract_first()\n",
        "        except:\n",
        "            rating = np.NaN\n",
        "        try:\n",
        "            review = sel2.css('.text.show-more__control::text').extract_first()\n",
        "        except:\n",
        "            review = np.NaN\n",
        "        try:\n",
        "            review_date = sel2.css('.review-date::text').extract_first()\n",
        "        except:\n",
        "            review_date = np.NaN\n",
        "        try:\n",
        "            author = sel2.css('.display-name-link a::text').extract_first()\n",
        "        except:\n",
        "            author = np.NaN\n",
        "        try:\n",
        "            review_title = sel2.css('a.title::text').extract_first()\n",
        "        except:\n",
        "            review_title = np.NaN\n",
        "        try:\n",
        "            review_url = sel2.css('a.title::attr(href)').extract_first()\n",
        "        except:\n",
        "            review_url = np.NaN\n",
        "        rating_list.append(rating)\n",
        "        review_date_list.append(review_date)\n",
        "        review_title_list.append(review_title)\n",
        "        author_list.append(author)\n",
        "        review_list.append(review)\n",
        "        review_url_list.append(review_url)\n",
        "    except Exception as e:\n",
        "        error_url_list.append(url)\n",
        "        error_msg_list.append(e)\n",
        "review_df = pd.DataFrame({\n",
        "    'Review_Date':review_date_list,\n",
        "    'Author':author_list,\n",
        "    'Rating':rating_list,\n",
        "    'Review_Title':review_title_list,\n",
        "    'Review':review_list,\n",
        "    'Review_Url':review_url\n",
        "    })\n",
        "\n",
        "\n",
        "review_df.to_csv('/content/reviews/openheimer.csv')"
      ],
      "metadata": {
        "colab": {
          "base_uri": "https://localhost:8080/"
        },
        "id": "in-aUNMQsipg",
        "outputId": "492c6c25-9539-4761-e10a-1b33574feece"
      },
      "execution_count": 3,
      "outputs": [
        {
          "output_type": "stream",
          "name": "stderr",
          "text": [
            "100%|██████████| 164/164 [00:08<00:00, 19.30it/s]\n",
            "100%|██████████| 150/150 [00:01<00:00, 102.59it/s]\n"
          ]
        }
      ]
    },
    {
      "cell_type": "markdown",
      "source": [
        "## 1- Barbie Retriever"
      ],
      "metadata": {
        "id": "S1Zn3uzzvOrE"
      }
    },
    {
      "cell_type": "markdown",
      "source": [
        "### Load data"
      ],
      "metadata": {
        "id": "BBPbimQgvVHx"
      }
    },
    {
      "cell_type": "code",
      "source": [
        "!pip install wikipedia"
      ],
      "metadata": {
        "colab": {
          "base_uri": "https://localhost:8080/"
        },
        "id": "6MJkxjtsvu7Q",
        "outputId": "bc68635b-e90d-4d40-809f-a26389b88e6e"
      },
      "execution_count": 4,
      "outputs": [
        {
          "output_type": "stream",
          "name": "stdout",
          "text": [
            "Collecting wikipedia\n",
            "  Downloading wikipedia-1.4.0.tar.gz (27 kB)\n",
            "  Preparing metadata (setup.py) ... \u001b[?25l\u001b[?25hdone\n",
            "Requirement already satisfied: beautifulsoup4 in /usr/local/lib/python3.10/dist-packages (from wikipedia) (4.12.3)\n",
            "Requirement already satisfied: requests<3.0.0,>=2.0.0 in /usr/local/lib/python3.10/dist-packages (from wikipedia) (2.31.0)\n",
            "Requirement already satisfied: charset-normalizer<4,>=2 in /usr/local/lib/python3.10/dist-packages (from requests<3.0.0,>=2.0.0->wikipedia) (3.3.2)\n",
            "Requirement already satisfied: idna<4,>=2.5 in /usr/local/lib/python3.10/dist-packages (from requests<3.0.0,>=2.0.0->wikipedia) (3.7)\n",
            "Requirement already satisfied: urllib3<3,>=1.21.1 in /usr/local/lib/python3.10/dist-packages (from requests<3.0.0,>=2.0.0->wikipedia) (2.0.7)\n",
            "Requirement already satisfied: certifi>=2017.4.17 in /usr/local/lib/python3.10/dist-packages (from requests<3.0.0,>=2.0.0->wikipedia) (2024.2.2)\n",
            "Requirement already satisfied: soupsieve>1.2 in /usr/local/lib/python3.10/dist-packages (from beautifulsoup4->wikipedia) (2.5)\n",
            "Building wheels for collected packages: wikipedia\n",
            "  Building wheel for wikipedia (setup.py) ... \u001b[?25l\u001b[?25hdone\n",
            "  Created wheel for wikipedia: filename=wikipedia-1.4.0-py3-none-any.whl size=11680 sha256=ce8749f9583adbc560d0407e8a8f9a272e5055b97b773839fe25bab982436854\n",
            "  Stored in directory: /root/.cache/pip/wheels/5e/b6/c5/93f3dec388ae76edc830cb42901bb0232504dfc0df02fc50de\n",
            "Successfully built wikipedia\n",
            "Installing collected packages: wikipedia\n",
            "Successfully installed wikipedia-1.4.0\n"
          ]
        }
      ]
    },
    {
      "cell_type": "code",
      "source": [
        "from langchain.document_loaders import CSVLoader, WikipediaLoader\n",
        "\n",
        "barbie_wiki_docs = WikipediaLoader(\n",
        "    query = \"Barbie (film)\",\n",
        "    load_max_docs = 1,\n",
        "    doc_content_chars_max = 1_000_000\n",
        ").load()\n",
        "\n",
        "barbie_csv_docs = CSVLoader(\n",
        "    file_path = \"/content/reviews/barbie.csv\",\n",
        "    source_column = \"Review_Url\"\n",
        ").load()"
      ],
      "metadata": {
        "id": "V-PVsxmevz_w"
      },
      "execution_count": 5,
      "outputs": []
    },
    {
      "cell_type": "markdown",
      "source": [
        "### Split data"
      ],
      "metadata": {
        "id": "dCfVPw59wlpx"
      }
    },
    {
      "cell_type": "code",
      "source": [
        "from langchain.text_splitter import RecursiveCharacterTextSplitter\n",
        "\n",
        "wikipedia_text_splitter  = RecursiveCharacterTextSplitter(\n",
        "    chunk_size = 500,\n",
        "    chunk_overlap = 0,\n",
        "    length_function = len,\n",
        "    is_separator_regex = False,\n",
        "    separators = [\"\\n==\", \"\\n\", \" \"]   # Keep headings, then paragraphs, then sentences\n",
        ")\n",
        "\n",
        "csv_text_splitter  = RecursiveCharacterTextSplitter(\n",
        "    chunk_size = 1000,\n",
        "    chunk_overlap = 50,\n",
        "    length_function = len,\n",
        "    is_separator_regex = False,\n",
        "    separators = [\"\\n\", \" \"]    # Keep paragraphes, then sentences\n",
        ")\n",
        "\n",
        "chunked_barbie_wiki_docs = wikipedia_text_splitter.transform_documents(\n",
        "    barbie_wiki_docs\n",
        ")\n",
        "\n",
        "chunked_barbie_csv_docs = csv_text_splitter.transform_documents(\n",
        "    barbie_csv_docs\n",
        ")"
      ],
      "metadata": {
        "id": "Q8gNu9Sls1RW"
      },
      "execution_count": 18,
      "outputs": []
    },
    {
      "cell_type": "markdown",
      "source": [
        "### Embeddings and indexing"
      ],
      "metadata": {
        "id": "42Gdhvh3yO3Q"
      }
    },
    {
      "cell_type": "code",
      "source": [
        "!pip install rank_bm25 tiktoken faiss-cpu"
      ],
      "metadata": {
        "colab": {
          "base_uri": "https://localhost:8080/"
        },
        "id": "iXKC7ToYyOhQ",
        "outputId": "9499f02c-e3f0-406f-8050-24694b4f94ab"
      },
      "execution_count": 7,
      "outputs": [
        {
          "output_type": "stream",
          "name": "stdout",
          "text": [
            "Collecting rank_bm25\n",
            "  Downloading rank_bm25-0.2.2-py3-none-any.whl (8.6 kB)\n",
            "Requirement already satisfied: tiktoken in /usr/local/lib/python3.10/dist-packages (0.6.0)\n",
            "Requirement already satisfied: faiss-cpu in /usr/local/lib/python3.10/dist-packages (1.8.0)\n",
            "Requirement already satisfied: numpy in /usr/local/lib/python3.10/dist-packages (from rank_bm25) (1.25.2)\n",
            "Requirement already satisfied: regex>=2022.1.18 in /usr/local/lib/python3.10/dist-packages (from tiktoken) (2023.12.25)\n",
            "Requirement already satisfied: requests>=2.26.0 in /usr/local/lib/python3.10/dist-packages (from tiktoken) (2.31.0)\n",
            "Requirement already satisfied: charset-normalizer<4,>=2 in /usr/local/lib/python3.10/dist-packages (from requests>=2.26.0->tiktoken) (3.3.2)\n",
            "Requirement already satisfied: idna<4,>=2.5 in /usr/local/lib/python3.10/dist-packages (from requests>=2.26.0->tiktoken) (3.7)\n",
            "Requirement already satisfied: urllib3<3,>=1.21.1 in /usr/local/lib/python3.10/dist-packages (from requests>=2.26.0->tiktoken) (2.0.7)\n",
            "Requirement already satisfied: certifi>=2017.4.17 in /usr/local/lib/python3.10/dist-packages (from requests>=2.26.0->tiktoken) (2024.2.2)\n",
            "Installing collected packages: rank_bm25\n",
            "Successfully installed rank_bm25-0.2.2\n"
          ]
        }
      ]
    },
    {
      "cell_type": "code",
      "source": [
        "from langchain.embeddings import OpenAIEmbeddings\n",
        "from langchain.vectorstores import FAISS\n",
        "import os\n",
        "\n",
        "os.environ[\"OPENAI_API_KEY\"] = 'Enter your OPENAI_API_KEY'\n",
        "\n",
        "embeddings = OpenAIEmbeddings()\n",
        "\n",
        "barbie_csv_faiss_retriever = FAISS.from_documents(\n",
        "    chunked_barbie_csv_docs,\n",
        "    embeddings\n",
        ").as_retriever() # barbie csv retriever"
      ],
      "metadata": {
        "id": "7iEmP3H2yNYS"
      },
      "execution_count": 10,
      "outputs": []
    },
    {
      "cell_type": "code",
      "source": [
        "# BM25 Retriever\n",
        "from langchain.retrievers import BM25Retriever, EnsembleRetriever\n",
        "\n",
        "barbie_wikipedia_bm25_retriever = BM25Retriever.from_documents(\n",
        "    chunked_barbie_wiki_docs\n",
        ")\n",
        "barbie_wikipedia_bm25_retriever.k = 1  # barbie wikipedia bm25 retriever\n",
        "\n",
        "barbie_wikipedia_faiss_store = FAISS.from_documents(\n",
        "    chunked_barbie_wiki_docs,\n",
        "    embeddings\n",
        ")   # barbie wiki faiss retriever\n",
        "\n",
        "barbie_wikipedia_faiss_retriever = barbie_wikipedia_faiss_store.as_retriever(search_kwargs={\"k\": 1})\n",
        "\n",
        "barbie_ensemble_retriever = EnsembleRetriever(\n",
        "    retrievers=[barbie_wikipedia_bm25_retriever, barbie_wikipedia_faiss_retriever],\n",
        "    weights=[0.25, 0.75] # should sum to 1\n",
        ")"
      ],
      "metadata": {
        "id": "9RVV_cNLzZPG"
      },
      "execution_count": 11,
      "outputs": []
    },
    {
      "cell_type": "markdown",
      "source": [
        "### Create retriever tool + Agent"
      ],
      "metadata": {
        "id": "gW0ofxOP0p-A"
      }
    },
    {
      "cell_type": "code",
      "source": [
        "# Tool\n",
        "\n",
        "from langchain.agents.agent_toolkits import create_retriever_tool\n",
        "\n",
        "barbie_wikipedia_retrieval_tool = create_retriever_tool(\n",
        "    barbie_ensemble_retriever,\n",
        "    \"Wikipedia\",\n",
        "    \"Searches and returns documents regarding the plot, history, and cast of the Barbie movie\"\n",
        ")\n",
        "\n",
        "barbie_csv_retrieval_tool = create_retriever_tool(\n",
        "    barbie_csv_faiss_retriever,\n",
        "    \"PublicReviews\",\n",
        "    \"Searches and returns documents regarding public reviews of the Barbie movie\"\n",
        ")\n",
        "\n",
        "barbie_retriever_tools = [barbie_wikipedia_retrieval_tool, barbie_csv_retrieval_tool]"
      ],
      "metadata": {
        "id": "oSaI6ae_0ShA"
      },
      "execution_count": 13,
      "outputs": []
    },
    {
      "cell_type": "code",
      "source": [
        "# Agent\n",
        "\n",
        "from langchain.agents.agent_toolkits import create_conversational_retrieval_agent\n",
        "from langchain.chat_models import ChatOpenAI\n",
        "\n",
        "llm = ChatOpenAI(\n",
        "    model = \"gpt-3.5-turbo\",\n",
        "    temperature = 0\n",
        ")\n",
        "\n",
        "barbie_retriever_agent_executor = create_conversational_retrieval_agent(\n",
        "    llm,\n",
        "    barbie_retriever_tools,\n",
        "    verbose = True\n",
        ")\n"
      ],
      "metadata": {
        "id": "P0MiLkPg2Iwp"
      },
      "execution_count": 14,
      "outputs": []
    },
    {
      "cell_type": "code",
      "source": [
        "barbie_retriever_agent_executor({\"input\" : \"Did people like Barbie, or did they find it too Philosphical? If they did, can you tell me why the movie is so Philosophical?\"})"
      ],
      "metadata": {
        "colab": {
          "base_uri": "https://localhost:8080/"
        },
        "id": "CURWSSfy4uqa",
        "outputId": "6114b570-a3cf-4d6c-d6db-0cf99b220c92"
      },
      "execution_count": 15,
      "outputs": [
        {
          "output_type": "stream",
          "name": "stdout",
          "text": [
            "\n",
            "\n",
            "\u001b[1m> Entering new AgentExecutor chain...\u001b[0m\n",
            "\u001b[32;1m\u001b[1;3m\n",
            "Invoking: `PublicReviews` with `{'query': 'Barbie movie reviews'}`\n",
            "\n",
            "\n",
            "\u001b[0m\u001b[33;1m\u001b[1;3m: 73\n",
            "Review_Date: 29 July 2023\n",
            "Author: planktonrules\n",
            "Rating: 7\n",
            "Review_Title: Good...not great\n",
            "Review: \"Barbie\" is a movie that is setting all sorts of records, so it's obvious that the film is touching many people. For some, it's the fun of seeing a doll come to life, for others it's the theme of empowerment that make the movie a big hit. As for me, I did like it and thought it was a pretty good movie...but it's not for everyone.\n",
            "Review_Url: /review/rw9209060/?ref_=tt_urv\n",
            "\n",
            ": 120\n",
            "Review_Date: 28 August 2023\n",
            "Author: mateosilie\n",
            "Rating: 5\n",
            "Review_Title: Lack of Depth\n",
            "Review: Let's start with what I enjoyed. The scenery, costumes and music were very nice but I believe that this movie was way over-hyped. I expected Barbie to be a touching movie that showed the positive and negative effects of this doll on society with a few FUNNY jokes here and there. Instead, I was greeted with an overly dramatic, some would say cringey, movie that sounds badly written. It seems that this movie doesn't fit in any category. It is definitely not a drama, nor a comedy as all the jokes were laughable, but for the wrong reason. The moral of the story is one that can definitely be appreciated, but just isn't suited for this type of movie. A pink doll travelling between the Barbie world and the real world wasn't enough to convey a strong message on the stringent beauty standards that hurt this generation of women. If you are not into Barbie, this movie is definitely not for you.\n",
            "\n",
            ": 129\n",
            "Review_Date: 20 August 2023\n",
            "Author: Leofwine_draca\n",
            "Rating: 6\n",
            "Review_Title: A real mixed bag\n",
            "Review: BARBIE is a film I find incredibly difficult to both review and rate. On the face of it, the trappings are pitiful and the tone is all over the place. The audience I saw it with were laughing at the dumbest jokes imaginable (like Gosling bouncing off the plastic wave) and missing all of the depth, which is what I personally found appealing. It's very hard to take such a tongue-in-cheek approach seriously, but then you could argue that it's deliberately bad, deliberately plasticky. Not that that excuses the bad acting from the likes of Ferrera et al. Despite this, the film's skewering of the patriarchy is spot-on, and Gosling turns out to be very good, stealing the film from the others. So it's a film I appreciate some parts of, and not others.\n",
            "Review_Url: /review/rw9209060/?ref_=tt_urv\n",
            "\n",
            ": 29\n",
            "Review_Date: 21 November 2023\n",
            "Author: sandy777\n",
            "Rating: 4\n",
            "Review_Title: Some humorous moments, but the story fell flat\n",
            "Review: Barbie, a movie about the beloved doll and all her identities and her friends, what could go wrong? A lot apparently. It started with voice over narration and went downhill from there. There was too much telling rather than showing. Most of this movie constantly explained everything and often told me how I should feel about it. The writing felt like it was trying too hard to be profound and tried to oversimplify complex subjects and gender roles. There were some funny moments, but a lot of the humor and story were far from subtle. I never felt drawn into the characters and what they were experiencing. The story lacked stakes. I didn't care about Barbie or Ken. In the right hands, this movie could have been fun. But Barbie didn't seem to know what it wanted to be or what story it wanted to tell.\n",
            "Review_Url: /review/rw9209060/?ref_=tt_urv\u001b[0m\u001b[32;1m\u001b[1;3mBased on the public reviews of the Barbie movie, it seems that the reception is mixed. Some viewers found the movie to be philosophical and appreciated the depth it offered, while others felt that it lacked depth and was not well-executed.\n",
            "\n",
            "One reviewer mentioned that the film's skewering of the patriarchy was spot-on and appreciated the depth of the movie. However, another reviewer felt that the movie was overly dramatic and poorly written, with an unclear message that did not fit the Barbie theme.\n",
            "\n",
            "Overall, it appears that the philosophical aspects of the Barbie movie divided opinions among viewers, with some finding it appealing and others feeling that it missed the mark.\u001b[0m\n",
            "\n",
            "\u001b[1m> Finished chain.\u001b[0m\n"
          ]
        },
        {
          "output_type": "execute_result",
          "data": {
            "text/plain": [
              "{'input': 'Did people like Barbie, or did they find it too Philosphical? If they did, can you tell me why the movie is so Philosophical?',\n",
              " 'chat_history': [HumanMessage(content='Did people like Barbie, or did they find it too Philosphical? If they did, can you tell me why the movie is so Philosophical?'),\n",
              "  AIMessage(content='', additional_kwargs={'function_call': {'name': 'PublicReviews', 'arguments': '{\"query\":\"Barbie movie reviews\"}'}}, response_metadata={'token_usage': <OpenAIObject at 0x7e1af6742cf0> JSON: {\n",
              "    \"prompt_tokens\": 157,\n",
              "    \"completion_tokens\": 17,\n",
              "    \"total_tokens\": 174\n",
              "  }, 'model_name': 'gpt-3.5-turbo', 'system_fingerprint': 'fp_3b956da36b', 'finish_reason': 'function_call', 'logprobs': None}, id='run-210bee9e-8213-4254-a314-7da25d50c772-0'),\n",
              "  FunctionMessage(content=': 73\\nReview_Date: 29 July 2023\\nAuthor: planktonrules\\nRating: 7\\nReview_Title: Good...not great\\nReview: \"Barbie\" is a movie that is setting all sorts of records, so it\\'s obvious that the film is touching many people. For some, it\\'s the fun of seeing a doll come to life, for others it\\'s the theme of empowerment that make the movie a big hit. As for me, I did like it and thought it was a pretty good movie...but it\\'s not for everyone.\\nReview_Url: /review/rw9209060/?ref_=tt_urv\\n\\n: 120\\nReview_Date: 28 August 2023\\nAuthor: mateosilie\\nRating: 5\\nReview_Title: Lack of Depth\\nReview: Let\\'s start with what I enjoyed. The scenery, costumes and music were very nice but I believe that this movie was way over-hyped. I expected Barbie to be a touching movie that showed the positive and negative effects of this doll on society with a few FUNNY jokes here and there. Instead, I was greeted with an overly dramatic, some would say cringey, movie that sounds badly written. It seems that this movie doesn\\'t fit in any category. It is definitely not a drama, nor a comedy as all the jokes were laughable, but for the wrong reason. The moral of the story is one that can definitely be appreciated, but just isn\\'t suited for this type of movie. A pink doll travelling between the Barbie world and the real world wasn\\'t enough to convey a strong message on the stringent beauty standards that hurt this generation of women. If you are not into Barbie, this movie is definitely not for you.\\n\\n: 129\\nReview_Date: 20 August 2023\\nAuthor: Leofwine_draca\\nRating: 6\\nReview_Title: A real mixed bag\\nReview: BARBIE is a film I find incredibly difficult to both review and rate. On the face of it, the trappings are pitiful and the tone is all over the place. The audience I saw it with were laughing at the dumbest jokes imaginable (like Gosling bouncing off the plastic wave) and missing all of the depth, which is what I personally found appealing. It\\'s very hard to take such a tongue-in-cheek approach seriously, but then you could argue that it\\'s deliberately bad, deliberately plasticky. Not that that excuses the bad acting from the likes of Ferrera et al. Despite this, the film\\'s skewering of the patriarchy is spot-on, and Gosling turns out to be very good, stealing the film from the others. So it\\'s a film I appreciate some parts of, and not others.\\nReview_Url: /review/rw9209060/?ref_=tt_urv\\n\\n: 29\\nReview_Date: 21 November 2023\\nAuthor: sandy777\\nRating: 4\\nReview_Title: Some humorous moments, but the story fell flat\\nReview: Barbie, a movie about the beloved doll and all her identities and her friends, what could go wrong? A lot apparently. It started with voice over narration and went downhill from there. There was too much telling rather than showing. Most of this movie constantly explained everything and often told me how I should feel about it. The writing felt like it was trying too hard to be profound and tried to oversimplify complex subjects and gender roles. There were some funny moments, but a lot of the humor and story were far from subtle. I never felt drawn into the characters and what they were experiencing. The story lacked stakes. I didn\\'t care about Barbie or Ken. In the right hands, this movie could have been fun. But Barbie didn\\'t seem to know what it wanted to be or what story it wanted to tell.\\nReview_Url: /review/rw9209060/?ref_=tt_urv', name='PublicReviews'),\n",
              "  AIMessage(content=\"Based on the public reviews of the Barbie movie, it seems that the reception is mixed. Some viewers found the movie to be philosophical and appreciated the depth it offered, while others felt that it lacked depth and was not well-executed.\\n\\nOne reviewer mentioned that the film's skewering of the patriarchy was spot-on and appreciated the depth of the movie. However, another reviewer felt that the movie was overly dramatic and poorly written, with an unclear message that did not fit the Barbie theme.\\n\\nOverall, it appears that the philosophical aspects of the Barbie movie divided opinions among viewers, with some finding it appealing and others feeling that it missed the mark.\")],\n",
              " 'output': \"Based on the public reviews of the Barbie movie, it seems that the reception is mixed. Some viewers found the movie to be philosophical and appreciated the depth it offered, while others felt that it lacked depth and was not well-executed.\\n\\nOne reviewer mentioned that the film's skewering of the patriarchy was spot-on and appreciated the depth of the movie. However, another reviewer felt that the movie was overly dramatic and poorly written, with an unclear message that did not fit the Barbie theme.\\n\\nOverall, it appears that the philosophical aspects of the Barbie movie divided opinions among viewers, with some finding it appealing and others feeling that it missed the mark.\",\n",
              " 'intermediate_steps': [(AgentActionMessageLog(tool='PublicReviews', tool_input={'query': 'Barbie movie reviews'}, log=\"\\nInvoking: `PublicReviews` with `{'query': 'Barbie movie reviews'}`\\n\\n\\n\", message_log=[AIMessage(content='', additional_kwargs={'function_call': {'name': 'PublicReviews', 'arguments': '{\"query\":\"Barbie movie reviews\"}'}}, response_metadata={'token_usage': <OpenAIObject at 0x7e1af6742cf0> JSON: {\n",
              "     \"prompt_tokens\": 157,\n",
              "     \"completion_tokens\": 17,\n",
              "     \"total_tokens\": 174\n",
              "   }, 'model_name': 'gpt-3.5-turbo', 'system_fingerprint': 'fp_3b956da36b', 'finish_reason': 'function_call', 'logprobs': None}, id='run-210bee9e-8213-4254-a314-7da25d50c772-0')]),\n",
              "   ': 73\\nReview_Date: 29 July 2023\\nAuthor: planktonrules\\nRating: 7\\nReview_Title: Good...not great\\nReview: \"Barbie\" is a movie that is setting all sorts of records, so it\\'s obvious that the film is touching many people. For some, it\\'s the fun of seeing a doll come to life, for others it\\'s the theme of empowerment that make the movie a big hit. As for me, I did like it and thought it was a pretty good movie...but it\\'s not for everyone.\\nReview_Url: /review/rw9209060/?ref_=tt_urv\\n\\n: 120\\nReview_Date: 28 August 2023\\nAuthor: mateosilie\\nRating: 5\\nReview_Title: Lack of Depth\\nReview: Let\\'s start with what I enjoyed. The scenery, costumes and music were very nice but I believe that this movie was way over-hyped. I expected Barbie to be a touching movie that showed the positive and negative effects of this doll on society with a few FUNNY jokes here and there. Instead, I was greeted with an overly dramatic, some would say cringey, movie that sounds badly written. It seems that this movie doesn\\'t fit in any category. It is definitely not a drama, nor a comedy as all the jokes were laughable, but for the wrong reason. The moral of the story is one that can definitely be appreciated, but just isn\\'t suited for this type of movie. A pink doll travelling between the Barbie world and the real world wasn\\'t enough to convey a strong message on the stringent beauty standards that hurt this generation of women. If you are not into Barbie, this movie is definitely not for you.\\n\\n: 129\\nReview_Date: 20 August 2023\\nAuthor: Leofwine_draca\\nRating: 6\\nReview_Title: A real mixed bag\\nReview: BARBIE is a film I find incredibly difficult to both review and rate. On the face of it, the trappings are pitiful and the tone is all over the place. The audience I saw it with were laughing at the dumbest jokes imaginable (like Gosling bouncing off the plastic wave) and missing all of the depth, which is what I personally found appealing. It\\'s very hard to take such a tongue-in-cheek approach seriously, but then you could argue that it\\'s deliberately bad, deliberately plasticky. Not that that excuses the bad acting from the likes of Ferrera et al. Despite this, the film\\'s skewering of the patriarchy is spot-on, and Gosling turns out to be very good, stealing the film from the others. So it\\'s a film I appreciate some parts of, and not others.\\nReview_Url: /review/rw9209060/?ref_=tt_urv\\n\\n: 29\\nReview_Date: 21 November 2023\\nAuthor: sandy777\\nRating: 4\\nReview_Title: Some humorous moments, but the story fell flat\\nReview: Barbie, a movie about the beloved doll and all her identities and her friends, what could go wrong? A lot apparently. It started with voice over narration and went downhill from there. There was too much telling rather than showing. Most of this movie constantly explained everything and often told me how I should feel about it. The writing felt like it was trying too hard to be profound and tried to oversimplify complex subjects and gender roles. There were some funny moments, but a lot of the humor and story were far from subtle. I never felt drawn into the characters and what they were experiencing. The story lacked stakes. I didn\\'t care about Barbie or Ken. In the right hands, this movie could have been fun. But Barbie didn\\'t seem to know what it wanted to be or what story it wanted to tell.\\nReview_Url: /review/rw9209060/?ref_=tt_urv')]}"
            ]
          },
          "metadata": {},
          "execution_count": 15
        }
      ]
    },
    {
      "cell_type": "code",
      "source": [
        "barbie_retriever_agent_executor({\"input\" : \"What is a very quick summary of the plot of the Barbie movie?\"})"
      ],
      "metadata": {
        "colab": {
          "base_uri": "https://localhost:8080/"
        },
        "id": "XFi-pyh64xKb",
        "outputId": "ce02bdac-8a54-4c45-8ee6-88ffe350030b"
      },
      "execution_count": 16,
      "outputs": [
        {
          "output_type": "stream",
          "name": "stdout",
          "text": [
            "\n",
            "\n",
            "\u001b[1m> Entering new AgentExecutor chain...\u001b[0m\n",
            "\u001b[32;1m\u001b[1;3m\n",
            "Invoking: `Wikipedia` with `{'query': 'Barbie movie plot'}`\n",
            "\n",
            "\n",
            "\u001b[0m\u001b[36;1m\u001b[1;3mBarbie is a 2023 fantasy comedy film directed by Greta Gerwig from a screenplay she wrote with Noah Baumbach. Based on the eponymous fashion dolls by Mattel, it is the first live-action Barbie film after numerous animated films and specials. It stars Margot Robbie as the title character and Ryan Gosling as Ken, and follows them on a journey of self-discovery through both Barbieland and the real world following an existential crisis. It is also a commentary regarding patriarchy and the effects of\n",
            "\n",
            "comment) which comes closest to actually critiquing Barbie's legacy. ... And that's just it: the movie is hemmed in by the fact that it is, at the end of the day, produced by Mattel.\"\u001b[0m\u001b[32;1m\u001b[1;3mThe Barbie movie follows the title character, played by Margot Robbie, and Ken, played by Ryan Gosling, on a journey of self-discovery through both Barbieland and the real world following an existential crisis. The film also serves as a commentary on patriarchy and the effects of Barbie's legacy.\u001b[0m\n",
            "\n",
            "\u001b[1m> Finished chain.\u001b[0m\n"
          ]
        },
        {
          "output_type": "execute_result",
          "data": {
            "text/plain": [
              "{'input': 'What is a very quick summary of the plot of the Barbie movie?',\n",
              " 'chat_history': [HumanMessage(content='Did people like Barbie, or did they find it too Philosphical? If they did, can you tell me why the movie is so Philosophical?'),\n",
              "  AIMessage(content='', additional_kwargs={'function_call': {'name': 'PublicReviews', 'arguments': '{\"query\":\"Barbie movie reviews\"}'}}, response_metadata={'token_usage': <OpenAIObject at 0x7e1af6742cf0> JSON: {\n",
              "    \"prompt_tokens\": 157,\n",
              "    \"completion_tokens\": 17,\n",
              "    \"total_tokens\": 174\n",
              "  }, 'model_name': 'gpt-3.5-turbo', 'system_fingerprint': 'fp_3b956da36b', 'finish_reason': 'function_call', 'logprobs': None}, id='run-210bee9e-8213-4254-a314-7da25d50c772-0'),\n",
              "  FunctionMessage(content=': 73\\nReview_Date: 29 July 2023\\nAuthor: planktonrules\\nRating: 7\\nReview_Title: Good...not great\\nReview: \"Barbie\" is a movie that is setting all sorts of records, so it\\'s obvious that the film is touching many people. For some, it\\'s the fun of seeing a doll come to life, for others it\\'s the theme of empowerment that make the movie a big hit. As for me, I did like it and thought it was a pretty good movie...but it\\'s not for everyone.\\nReview_Url: /review/rw9209060/?ref_=tt_urv\\n\\n: 120\\nReview_Date: 28 August 2023\\nAuthor: mateosilie\\nRating: 5\\nReview_Title: Lack of Depth\\nReview: Let\\'s start with what I enjoyed. The scenery, costumes and music were very nice but I believe that this movie was way over-hyped. I expected Barbie to be a touching movie that showed the positive and negative effects of this doll on society with a few FUNNY jokes here and there. Instead, I was greeted with an overly dramatic, some would say cringey, movie that sounds badly written. It seems that this movie doesn\\'t fit in any category. It is definitely not a drama, nor a comedy as all the jokes were laughable, but for the wrong reason. The moral of the story is one that can definitely be appreciated, but just isn\\'t suited for this type of movie. A pink doll travelling between the Barbie world and the real world wasn\\'t enough to convey a strong message on the stringent beauty standards that hurt this generation of women. If you are not into Barbie, this movie is definitely not for you.\\n\\n: 129\\nReview_Date: 20 August 2023\\nAuthor: Leofwine_draca\\nRating: 6\\nReview_Title: A real mixed bag\\nReview: BARBIE is a film I find incredibly difficult to both review and rate. On the face of it, the trappings are pitiful and the tone is all over the place. The audience I saw it with were laughing at the dumbest jokes imaginable (like Gosling bouncing off the plastic wave) and missing all of the depth, which is what I personally found appealing. It\\'s very hard to take such a tongue-in-cheek approach seriously, but then you could argue that it\\'s deliberately bad, deliberately plasticky. Not that that excuses the bad acting from the likes of Ferrera et al. Despite this, the film\\'s skewering of the patriarchy is spot-on, and Gosling turns out to be very good, stealing the film from the others. So it\\'s a film I appreciate some parts of, and not others.\\nReview_Url: /review/rw9209060/?ref_=tt_urv\\n\\n: 29\\nReview_Date: 21 November 2023\\nAuthor: sandy777\\nRating: 4\\nReview_Title: Some humorous moments, but the story fell flat\\nReview: Barbie, a movie about the beloved doll and all her identities and her friends, what could go wrong? A lot apparently. It started with voice over narration and went downhill from there. There was too much telling rather than showing. Most of this movie constantly explained everything and often told me how I should feel about it. The writing felt like it was trying too hard to be profound and tried to oversimplify complex subjects and gender roles. There were some funny moments, but a lot of the humor and story were far from subtle. I never felt drawn into the characters and what they were experiencing. The story lacked stakes. I didn\\'t care about Barbie or Ken. In the right hands, this movie could have been fun. But Barbie didn\\'t seem to know what it wanted to be or what story it wanted to tell.\\nReview_Url: /review/rw9209060/?ref_=tt_urv', name='PublicReviews'),\n",
              "  AIMessage(content=\"Based on the public reviews of the Barbie movie, it seems that the reception is mixed. Some viewers found the movie to be philosophical and appreciated the depth it offered, while others felt that it lacked depth and was not well-executed.\\n\\nOne reviewer mentioned that the film's skewering of the patriarchy was spot-on and appreciated the depth of the movie. However, another reviewer felt that the movie was overly dramatic and poorly written, with an unclear message that did not fit the Barbie theme.\\n\\nOverall, it appears that the philosophical aspects of the Barbie movie divided opinions among viewers, with some finding it appealing and others feeling that it missed the mark.\"),\n",
              "  HumanMessage(content='What is a very quick summary of the plot of the Barbie movie?'),\n",
              "  AIMessage(content='', additional_kwargs={'function_call': {'name': 'Wikipedia', 'arguments': '{\"query\":\"Barbie movie plot\"}'}}, response_metadata={'token_usage': <OpenAIObject at 0x7e1af809b470> JSON: {\n",
              "    \"prompt_tokens\": 1138,\n",
              "    \"completion_tokens\": 17,\n",
              "    \"total_tokens\": 1155\n",
              "  }, 'model_name': 'gpt-3.5-turbo', 'system_fingerprint': 'fp_3b956da36b', 'finish_reason': 'function_call', 'logprobs': None}, id='run-c8e19690-901a-4b83-8024-5e85fae21346-0'),\n",
              "  FunctionMessage(content='Barbie is a 2023 fantasy comedy film directed by Greta Gerwig from a screenplay she wrote with Noah Baumbach. Based on the eponymous fashion dolls by Mattel, it is the first live-action Barbie film after numerous animated films and specials. It stars Margot Robbie as the title character and Ryan Gosling as Ken, and follows them on a journey of self-discovery through both Barbieland and the real world following an existential crisis. It is also a commentary regarding patriarchy and the effects of\\n\\ncomment) which comes closest to actually critiquing Barbie\\'s legacy. ... And that\\'s just it: the movie is hemmed in by the fact that it is, at the end of the day, produced by Mattel.\"', name='Wikipedia'),\n",
              "  AIMessage(content=\"The Barbie movie follows the title character, played by Margot Robbie, and Ken, played by Ryan Gosling, on a journey of self-discovery through both Barbieland and the real world following an existential crisis. The film also serves as a commentary on patriarchy and the effects of Barbie's legacy.\")],\n",
              " 'output': \"The Barbie movie follows the title character, played by Margot Robbie, and Ken, played by Ryan Gosling, on a journey of self-discovery through both Barbieland and the real world following an existential crisis. The film also serves as a commentary on patriarchy and the effects of Barbie's legacy.\",\n",
              " 'intermediate_steps': [(AgentActionMessageLog(tool='Wikipedia', tool_input={'query': 'Barbie movie plot'}, log=\"\\nInvoking: `Wikipedia` with `{'query': 'Barbie movie plot'}`\\n\\n\\n\", message_log=[AIMessage(content='', additional_kwargs={'function_call': {'name': 'Wikipedia', 'arguments': '{\"query\":\"Barbie movie plot\"}'}}, response_metadata={'token_usage': <OpenAIObject at 0x7e1af809b470> JSON: {\n",
              "     \"prompt_tokens\": 1138,\n",
              "     \"completion_tokens\": 17,\n",
              "     \"total_tokens\": 1155\n",
              "   }, 'model_name': 'gpt-3.5-turbo', 'system_fingerprint': 'fp_3b956da36b', 'finish_reason': 'function_call', 'logprobs': None}, id='run-c8e19690-901a-4b83-8024-5e85fae21346-0')]),\n",
              "   'Barbie is a 2023 fantasy comedy film directed by Greta Gerwig from a screenplay she wrote with Noah Baumbach. Based on the eponymous fashion dolls by Mattel, it is the first live-action Barbie film after numerous animated films and specials. It stars Margot Robbie as the title character and Ryan Gosling as Ken, and follows them on a journey of self-discovery through both Barbieland and the real world following an existential crisis. It is also a commentary regarding patriarchy and the effects of\\n\\ncomment) which comes closest to actually critiquing Barbie\\'s legacy. ... And that\\'s just it: the movie is hemmed in by the fact that it is, at the end of the day, produced by Mattel.\"')]}"
            ]
          },
          "metadata": {},
          "execution_count": 16
        }
      ]
    },
    {
      "cell_type": "markdown",
      "source": [
        "## 2- Openheimer Retriever"
      ],
      "metadata": {
        "id": "KIDy3xlN5Pah"
      }
    },
    {
      "cell_type": "markdown",
      "source": [
        "### Load data"
      ],
      "metadata": {
        "id": "WWv_k7Xu5qOt"
      }
    },
    {
      "cell_type": "code",
      "source": [
        "oppenheimer_wikipedia_docs = WikipediaLoader(\n",
        "    query = \"Oppenheimer (film)\",\n",
        "    load_max_docs = 1,\n",
        "    doc_content_chars_max = 1_000_000\n",
        ").load()\n",
        "\n",
        "oppenheimer_csv_docs = CSVLoader(\n",
        "    file_path = \"/content/reviews/openheimer.csv\",\n",
        "    source_column = \"Review_Url\"\n",
        ").load()"
      ],
      "metadata": {
        "id": "egI1MJGL48j2"
      },
      "execution_count": 17,
      "outputs": []
    },
    {
      "cell_type": "markdown",
      "source": [
        "### Split data"
      ],
      "metadata": {
        "id": "Q3aQJIzO5y2q"
      }
    },
    {
      "cell_type": "code",
      "source": [
        "chunked_opp_wikipedia_docs = wikipedia_text_splitter.transform_documents(\n",
        "    oppenheimer_wikipedia_docs\n",
        ")\n",
        "\n",
        "chunked_opp_csv_docs = csv_text_splitter.transform_documents(\n",
        "    oppenheimer_csv_docs\n",
        ")"
      ],
      "metadata": {
        "id": "XrGnh-Dg5kRS"
      },
      "execution_count": 19,
      "outputs": []
    },
    {
      "cell_type": "markdown",
      "source": [
        "### Embeddings + Indexing"
      ],
      "metadata": {
        "id": "juUhGF_96t2D"
      }
    },
    {
      "cell_type": "code",
      "source": [
        "opp_csv_faiss_retriever = FAISS.from_documents(\n",
        "    chunked_opp_csv_docs,\n",
        "    embeddings\n",
        ").as_retriever()\n",
        "\n",
        "# set up BM25 retriever\n",
        "opp_wikipedia_bm25_retriever = BM25Retriever.from_documents(\n",
        "    chunked_opp_wikipedia_docs\n",
        ")\n",
        "opp_wikipedia_bm25_retriever.k = 1\n",
        "\n",
        "# set up FAISS vector store\n",
        "opp_wikipedia_faiss_store = FAISS.from_documents(\n",
        "    chunked_opp_wikipedia_docs,\n",
        "    embeddings\n",
        ")\n",
        "\n",
        "opp_wikipedia_faiss_retriever = opp_wikipedia_faiss_store.as_retriever(search_kwargs={\"k\": 1})\n",
        "\n",
        "# set up ensemble retriever\n",
        "opp_ensemble_retriever = EnsembleRetriever(\n",
        "    retrievers = [opp_wikipedia_bm25_retriever, opp_wikipedia_faiss_retriever],\n",
        "    weights = [0.25, 0.75] # should sum to 1\n",
        ")"
      ],
      "metadata": {
        "id": "E7coS1fU6Ti9"
      },
      "execution_count": 20,
      "outputs": []
    },
    {
      "cell_type": "markdown",
      "source": [
        "### Multisource chain"
      ],
      "metadata": {
        "id": "YucEN2GU7P6b"
      }
    },
    {
      "cell_type": "code",
      "source": [
        "from langchain.prompts import ChatPromptTemplate\n",
        "\n",
        "system_message = \"\"\"Use the information from the below two sources to answer any questions.\n",
        "\n",
        "Source 1: public user reviews about the Oppenheimer movie\n",
        "<source1>\n",
        "{source1}\n",
        "</source1>\n",
        "\n",
        "Source 2: the wikipedia page for the Oppenheimer movie including the plot summary, cast, and production information\n",
        "<source2>\n",
        "{source2}\n",
        "</source2>\n",
        "\"\"\"\n",
        "\n",
        "prompt = ChatPromptTemplate.from_messages(\n",
        "    [\n",
        "        (\"system\", system_message),\n",
        "         (\"human\", \"{question}\")\n",
        "    ]\n",
        ")"
      ],
      "metadata": {
        "id": "DmuC7w1i6qy2"
      },
      "execution_count": 21,
      "outputs": []
    },
    {
      "cell_type": "code",
      "source": [
        "oppenheimer_multisource_chain = {\n",
        "    \"source1\": (lambda x: x[\"question\"]) | opp_ensemble_retriever,\n",
        "    \"source2\": (lambda x: x[\"question\"]) | opp_csv_faiss_retriever,\n",
        "    \"question\": lambda x: x[\"question\"],\n",
        "} | prompt | llm"
      ],
      "metadata": {
        "id": "xKXOPcBD67JS"
      },
      "execution_count": 22,
      "outputs": []
    },
    {
      "cell_type": "code",
      "source": [
        "oppenheimer_multisource_chain.invoke({\"question\" : \"What did people think of the Oppenheimer movie?\"})"
      ],
      "metadata": {
        "colab": {
          "base_uri": "https://localhost:8080/"
        },
        "id": "DPzoA_cy7J2h",
        "outputId": "801faaa5-b8ed-44a1-fb43-3c4a2b32cc1a"
      },
      "execution_count": 23,
      "outputs": [
        {
          "output_type": "execute_result",
          "data": {
            "text/plain": [
              "AIMessage(content=\"People generally had positive opinions about the Oppenheimer movie. Critics and audiences praised the film for its screenplay, cast performances, visuals, historical accuracy, score, cinematography, editing, and Christopher Nolan's direction. The movie received critical acclaim and was ranked as one of Nolan's best films and one of the best of 2023. It also received high ratings on review aggregator websites like Rotten Tomatoes. Additionally, the film won several awards, including Academy Awards, Golden Globe Awards, and British Academy Film Awards. Overall, the Oppenheimer movie was well-received by both critics and viewers.\", response_metadata={'token_usage': <OpenAIObject at 0x7e1af83bd170> JSON: {\n",
              "  \"prompt_tokens\": 2498,\n",
              "  \"completion_tokens\": 122,\n",
              "  \"total_tokens\": 2620\n",
              "}, 'model_name': 'gpt-3.5-turbo', 'system_fingerprint': 'fp_3b956da36b', 'finish_reason': 'stop', 'logprobs': None}, id='run-93f600dc-5ddf-4851-8c75-085cc18b35e7-0')"
            ]
          },
          "metadata": {},
          "execution_count": 23
        }
      ]
    },
    {
      "cell_type": "markdown",
      "source": [
        "## Create Agent"
      ],
      "metadata": {
        "id": "3JHTzgC87Usj"
      }
    },
    {
      "cell_type": "code",
      "source": [
        "from langchain.agents import Tool\n",
        "\n",
        "def query_oppenheimer(input):\n",
        "  return oppenheimer_multisource_chain.invoke(\n",
        "      {\n",
        "          \"question\": input\n",
        "      }\n",
        "  )\n",
        "\n",
        "tools = [\n",
        "    Tool(\n",
        "        name = \"BarbieInfo\",\n",
        "        func = barbie_retriever_agent_executor.invoke,\n",
        "        description = \"useful for when you need to answer questions about Barbie. Input should be a fully formed question.\"\n",
        "    ),\n",
        "    Tool(\n",
        "        name = \"OppenheimerInfo\",\n",
        "        func = query_oppenheimer,\n",
        "        description = \"useful for when you need to answer questions about Oppenheimer. Input should be a fully formed question.\"\n",
        "    ),\n",
        "]"
      ],
      "metadata": {
        "id": "Z9tvnJ1r7Lff"
      },
      "execution_count": 26,
      "outputs": []
    },
    {
      "cell_type": "code",
      "source": [
        "from langchain.agents import ZeroShotAgent, AgentExecutor\n",
        "from langchain import LLMChain\n",
        "\n",
        "prefix = \"\"\"Have a conversation with a human, answering the following questions as best you can. You have access to the following tools:\"\"\"\n",
        "suffix = \"\"\"Begin!\"\n",
        "\n",
        "Question: {input}\n",
        "{agent_scratchpad}\"\"\"\n",
        "\n",
        "prompt = ZeroShotAgent.create_prompt(\n",
        "    tools,\n",
        "    prefix = prefix,\n",
        "    suffix = suffix,\n",
        "    input_variables=[\"input\", \"agent_scratchpad\"]\n",
        ")\n",
        "\n",
        "llm_chain = LLMChain(\n",
        "    llm = llm,\n",
        "    prompt = prompt\n",
        ")"
      ],
      "metadata": {
        "id": "ro5lvuO28MD8"
      },
      "execution_count": 27,
      "outputs": []
    },
    {
      "cell_type": "code",
      "source": [
        "barbenheimer_agent = ZeroShotAgent(\n",
        "    llm_chain = llm_chain,\n",
        "    tools = tools,\n",
        "    verbose = True\n",
        ")\n",
        "\n",
        "barbenheimer_agent_chain = AgentExecutor.from_agent_and_tools(\n",
        "    agent = barbenheimer_agent,\n",
        "    tools = tools,\n",
        "    verbose = True\n",
        ")"
      ],
      "metadata": {
        "id": "yyJTDLVs8pV_"
      },
      "execution_count": 28,
      "outputs": []
    },
    {
      "cell_type": "code",
      "source": [
        "barbenheimer_agent_chain.invoke({\"input\" : \"What did people like about the Barbie movie?\"})"
      ],
      "metadata": {
        "colab": {
          "base_uri": "https://localhost:8080/"
        },
        "id": "xPb4064Y83lU",
        "outputId": "8cd06acf-cd97-4bac-e0ff-4d509e35e164"
      },
      "execution_count": 29,
      "outputs": [
        {
          "output_type": "stream",
          "name": "stdout",
          "text": [
            "\n",
            "\n",
            "\u001b[1m> Entering new AgentExecutor chain...\u001b[0m\n",
            "\u001b[32;1m\u001b[1;3mThought: I need to find out what people liked about the Barbie movie.\n",
            "Action: BarbieInfo\n",
            "Action Input: What did people like about the Barbie movie?\u001b[0m\n",
            "\n",
            "\u001b[1m> Entering new AgentExecutor chain...\u001b[0m\n",
            "\u001b[32;1m\u001b[1;3mPeople liked the Barbie movie for various reasons. Some viewers enjoyed the fun of seeing a doll come to life, while others appreciated the theme of empowerment portrayed in the film. Additionally, some viewers found the depth and commentary on patriarchy appealing. The movie also received praise for its scenery, costumes, and music.\u001b[0m\n",
            "\n",
            "\u001b[1m> Finished chain.\u001b[0m\n",
            "\n",
            "Observation: \u001b[36;1m\u001b[1;3m{'input': 'What did people like about the Barbie movie?', 'chat_history': [HumanMessage(content='Did people like Barbie, or did they find it too Philosphical? If they did, can you tell me why the movie is so Philosophical?'), AIMessage(content='', additional_kwargs={'function_call': {'name': 'PublicReviews', 'arguments': '{\"query\":\"Barbie movie reviews\"}'}}, response_metadata={'token_usage': <OpenAIObject at 0x7e1af6742cf0> JSON: {\n",
            "  \"prompt_tokens\": 157,\n",
            "  \"completion_tokens\": 17,\n",
            "  \"total_tokens\": 174\n",
            "}, 'model_name': 'gpt-3.5-turbo', 'system_fingerprint': 'fp_3b956da36b', 'finish_reason': 'function_call', 'logprobs': None}, id='run-210bee9e-8213-4254-a314-7da25d50c772-0'), FunctionMessage(content=': 73\\nReview_Date: 29 July 2023\\nAuthor: planktonrules\\nRating: 7\\nReview_Title: Good...not great\\nReview: \"Barbie\" is a movie that is setting all sorts of records, so it\\'s obvious that the film is touching many people. For some, it\\'s the fun of seeing a doll come to life, for others it\\'s the theme of empowerment that make the movie a big hit. As for me, I did like it and thought it was a pretty good movie...but it\\'s not for everyone.\\nReview_Url: /review/rw9209060/?ref_=tt_urv\\n\\n: 120\\nReview_Date: 28 August 2023\\nAuthor: mateosilie\\nRating: 5\\nReview_Title: Lack of Depth\\nReview: Let\\'s start with what I enjoyed. The scenery, costumes and music were very nice but I believe that this movie was way over-hyped. I expected Barbie to be a touching movie that showed the positive and negative effects of this doll on society with a few FUNNY jokes here and there. Instead, I was greeted with an overly dramatic, some would say cringey, movie that sounds badly written. It seems that this movie doesn\\'t fit in any category. It is definitely not a drama, nor a comedy as all the jokes were laughable, but for the wrong reason. The moral of the story is one that can definitely be appreciated, but just isn\\'t suited for this type of movie. A pink doll travelling between the Barbie world and the real world wasn\\'t enough to convey a strong message on the stringent beauty standards that hurt this generation of women. If you are not into Barbie, this movie is definitely not for you.\\n\\n: 129\\nReview_Date: 20 August 2023\\nAuthor: Leofwine_draca\\nRating: 6\\nReview_Title: A real mixed bag\\nReview: BARBIE is a film I find incredibly difficult to both review and rate. On the face of it, the trappings are pitiful and the tone is all over the place. The audience I saw it with were laughing at the dumbest jokes imaginable (like Gosling bouncing off the plastic wave) and missing all of the depth, which is what I personally found appealing. It\\'s very hard to take such a tongue-in-cheek approach seriously, but then you could argue that it\\'s deliberately bad, deliberately plasticky. Not that that excuses the bad acting from the likes of Ferrera et al. Despite this, the film\\'s skewering of the patriarchy is spot-on, and Gosling turns out to be very good, stealing the film from the others. So it\\'s a film I appreciate some parts of, and not others.\\nReview_Url: /review/rw9209060/?ref_=tt_urv\\n\\n: 29\\nReview_Date: 21 November 2023\\nAuthor: sandy777\\nRating: 4\\nReview_Title: Some humorous moments, but the story fell flat\\nReview: Barbie, a movie about the beloved doll and all her identities and her friends, what could go wrong? A lot apparently. It started with voice over narration and went downhill from there. There was too much telling rather than showing. Most of this movie constantly explained everything and often told me how I should feel about it. The writing felt like it was trying too hard to be profound and tried to oversimplify complex subjects and gender roles. There were some funny moments, but a lot of the humor and story were far from subtle. I never felt drawn into the characters and what they were experiencing. The story lacked stakes. I didn\\'t care about Barbie or Ken. In the right hands, this movie could have been fun. But Barbie didn\\'t seem to know what it wanted to be or what story it wanted to tell.\\nReview_Url: /review/rw9209060/?ref_=tt_urv', name='PublicReviews'), AIMessage(content=\"Based on the public reviews of the Barbie movie, it seems that the reception is mixed. Some viewers found the movie to be philosophical and appreciated the depth it offered, while others felt that it lacked depth and was not well-executed.\\n\\nOne reviewer mentioned that the film's skewering of the patriarchy was spot-on and appreciated the depth of the movie. However, another reviewer felt that the movie was overly dramatic and poorly written, with an unclear message that did not fit the Barbie theme.\\n\\nOverall, it appears that the philosophical aspects of the Barbie movie divided opinions among viewers, with some finding it appealing and others feeling that it missed the mark.\"), HumanMessage(content='What is a very quick summary of the plot of the Barbie movie?'), AIMessage(content='', additional_kwargs={'function_call': {'name': 'Wikipedia', 'arguments': '{\"query\":\"Barbie movie plot\"}'}}, response_metadata={'token_usage': <OpenAIObject at 0x7e1af809b470> JSON: {\n",
            "  \"prompt_tokens\": 1138,\n",
            "  \"completion_tokens\": 17,\n",
            "  \"total_tokens\": 1155\n",
            "}, 'model_name': 'gpt-3.5-turbo', 'system_fingerprint': 'fp_3b956da36b', 'finish_reason': 'function_call', 'logprobs': None}, id='run-c8e19690-901a-4b83-8024-5e85fae21346-0'), FunctionMessage(content='Barbie is a 2023 fantasy comedy film directed by Greta Gerwig from a screenplay she wrote with Noah Baumbach. Based on the eponymous fashion dolls by Mattel, it is the first live-action Barbie film after numerous animated films and specials. It stars Margot Robbie as the title character and Ryan Gosling as Ken, and follows them on a journey of self-discovery through both Barbieland and the real world following an existential crisis. It is also a commentary regarding patriarchy and the effects of\\n\\ncomment) which comes closest to actually critiquing Barbie\\'s legacy. ... And that\\'s just it: the movie is hemmed in by the fact that it is, at the end of the day, produced by Mattel.\"', name='Wikipedia'), AIMessage(content=\"The Barbie movie follows the title character, played by Margot Robbie, and Ken, played by Ryan Gosling, on a journey of self-discovery through both Barbieland and the real world following an existential crisis. The film also serves as a commentary on patriarchy and the effects of Barbie's legacy.\"), HumanMessage(content='What did people like about the Barbie movie?'), AIMessage(content='People liked the Barbie movie for various reasons. Some viewers enjoyed the fun of seeing a doll come to life, while others appreciated the theme of empowerment portrayed in the film. Additionally, some viewers found the depth and commentary on patriarchy appealing. The movie also received praise for its scenery, costumes, and music.')], 'output': 'People liked the Barbie movie for various reasons. Some viewers enjoyed the fun of seeing a doll come to life, while others appreciated the theme of empowerment portrayed in the film. Additionally, some viewers found the depth and commentary on patriarchy appealing. The movie also received praise for its scenery, costumes, and music.', 'intermediate_steps': []}\u001b[0m\n",
            "Thought:\u001b[32;1m\u001b[1;3mI now know the final answer.\n",
            "\n",
            "Final Answer: People liked the Barbie movie for various reasons. Some viewers enjoyed the fun of seeing a doll come to life, while others appreciated the theme of empowerment portrayed in the film. Additionally, some viewers found the depth and commentary on patriarchy appealing. The movie also received praise for its scenery, costumes, and music.\u001b[0m\n",
            "\n",
            "\u001b[1m> Finished chain.\u001b[0m\n"
          ]
        },
        {
          "output_type": "execute_result",
          "data": {
            "text/plain": [
              "{'input': 'What did people like about the Barbie movie?',\n",
              " 'output': 'People liked the Barbie movie for various reasons. Some viewers enjoyed the fun of seeing a doll come to life, while others appreciated the theme of empowerment portrayed in the film. Additionally, some viewers found the depth and commentary on patriarchy appealing. The movie also received praise for its scenery, costumes, and music.'}"
            ]
          },
          "metadata": {},
          "execution_count": 29
        }
      ]
    },
    {
      "cell_type": "code",
      "source": [
        "barbenheimer_agent_chain.run({\"input\" : \"What did people like about the Oppenheimer movie?\"})"
      ],
      "metadata": {
        "colab": {
          "base_uri": "https://localhost:8080/",
          "height": 384
        },
        "id": "MvKEIwiU85V_",
        "outputId": "87848cff-15db-4a8e-ad2b-92914f33fd9d"
      },
      "execution_count": 30,
      "outputs": [
        {
          "output_type": "stream",
          "name": "stdout",
          "text": [
            "\n",
            "\n",
            "\u001b[1m> Entering new AgentExecutor chain...\u001b[0m\n",
            "\u001b[32;1m\u001b[1;3mThought: I need to find out what specific aspects of the Oppenheimer movie people enjoyed.\n",
            "Action: OppenheimerInfo\n",
            "Action Input: \"What aspects of the Oppenheimer movie did people enjoy?\"\u001b[0m\n",
            "Observation: \u001b[33;1m\u001b[1;3mcontent=\"People enjoyed various aspects of the Oppenheimer movie. Some of the aspects that received praise include:\\n1. Screenplay\\n2. Cast performances\\n3. Visuals\\n4. Historical accuracy\\n5. Score\\n6. Cinematography\\n7. Editing\\n8. Direction by Christopher Nolan\\n\\nAdditionally, specific performances by actors such as Cillian Murphy, Robert Downey Jr., and Emily Blunt were highlighted as exceptional. The film's ability to make a complex historical figure like J. Robert Oppenheimer's story compelling and engaging was also appreciated.\" response_metadata={'token_usage': <OpenAIObject at 0x7e1af50ba7f0> JSON: {\n",
            "  \"prompt_tokens\": 2472,\n",
            "  \"completion_tokens\": 113,\n",
            "  \"total_tokens\": 2585\n",
            "}, 'model_name': 'gpt-3.5-turbo', 'system_fingerprint': 'fp_3b956da36b', 'finish_reason': 'stop', 'logprobs': None} id='run-498dfd88-0809-4b3a-9a25-7c694dc324d0-0'\u001b[0m\n",
            "Thought:\u001b[32;1m\u001b[1;3mI now know what people liked about the Oppenheimer movie.\n",
            "\n",
            "Final Answer: People enjoyed various aspects of the Oppenheimer movie, including the screenplay, cast performances, visuals, historical accuracy, score, cinematography, editing, and direction by Christopher Nolan. Specific performances by actors like Cillian Murphy, Robert Downey Jr., and Emily Blunt were also highlighted as exceptional. The film's ability to make J. Robert Oppenheimer's story compelling and engaging was appreciated.\u001b[0m\n",
            "\n",
            "\u001b[1m> Finished chain.\u001b[0m\n"
          ]
        },
        {
          "output_type": "execute_result",
          "data": {
            "text/plain": [
              "\"People enjoyed various aspects of the Oppenheimer movie, including the screenplay, cast performances, visuals, historical accuracy, score, cinematography, editing, and direction by Christopher Nolan. Specific performances by actors like Cillian Murphy, Robert Downey Jr., and Emily Blunt were also highlighted as exceptional. The film's ability to make J. Robert Oppenheimer's story compelling and engaging was appreciated.\""
            ],
            "application/vnd.google.colaboratory.intrinsic+json": {
              "type": "string"
            }
          },
          "metadata": {},
          "execution_count": 30
        }
      ]
    },
    {
      "cell_type": "code",
      "source": [
        "barbenheimer_agent_chain.run({\"input\" : \"Did the movies Barbie and Oppenheimer share similar themes or ideas?\"})"
      ],
      "metadata": {
        "colab": {
          "base_uri": "https://localhost:8080/",
          "height": 1000
        },
        "id": "pFpXPWM18_hP",
        "outputId": "3fd604c2-498b-4aa4-cda9-e573585e07a2"
      },
      "execution_count": 31,
      "outputs": [
        {
          "output_type": "stream",
          "name": "stdout",
          "text": [
            "\n",
            "\n",
            "\u001b[1m> Entering new AgentExecutor chain...\u001b[0m\n",
            "\u001b[32;1m\u001b[1;3mThought: I need to gather information about both Barbie and Oppenheimer to see if they share similar themes or ideas.\n",
            "Action: BarbieInfo\n",
            "Action Input: \"What are some common themes in Barbie movies?\"\u001b[0m\n",
            "\n",
            "\u001b[1m> Entering new AgentExecutor chain...\u001b[0m\n",
            "\u001b[32;1m\u001b[1;3m\n",
            "Invoking: `Wikipedia` with `{'query': 'Common themes in Barbie movies'}`\n",
            "\n",
            "\n",
            "\u001b[0m\u001b[36;1m\u001b[1;3mBarbie.\n",
            "\n",
            "it's like being a woman today while providing more than a laugh or two in the process.\" Chinese film critic Li Jingfei (李竞菲) praised the film's humor and criticism of patriarchy, qualifying that its themes were too often advanced by slogans rather than the experiences of its characters.\u001b[0m\u001b[32;1m\u001b[1;3mSome common themes in Barbie movies include:\n",
            "\n",
            "1. Empowerment: Many Barbie movies portray themes of empowerment, encouraging viewers to believe in themselves and their abilities.\n",
            "\n",
            "2. Friendship: Friendship is a recurring theme in Barbie movies, emphasizing the importance of loyalty, support, and camaraderie.\n",
            "\n",
            "3. Adventure: Barbie movies often feature adventurous storylines that take viewers on exciting journeys to magical worlds and fantastical settings.\n",
            "\n",
            "4. Self-discovery: Characters in Barbie movies often embark on journeys of self-discovery, learning important lessons about themselves and their place in the world.\n",
            "\n",
            "5. Overcoming challenges: Barbie movies frequently showcase characters overcoming challenges and obstacles, teaching valuable lessons about resilience and determination.\n",
            "\n",
            "These themes contribute to the positive messages and entertainment value of Barbie movies for audiences of all ages.\u001b[0m\n",
            "\n",
            "\u001b[1m> Finished chain.\u001b[0m\n",
            "\n",
            "Observation: \u001b[36;1m\u001b[1;3m{'input': 'What are some common themes in Barbie movies?', 'chat_history': [HumanMessage(content='Did people like Barbie, or did they find it too Philosphical? If they did, can you tell me why the movie is so Philosophical?'), AIMessage(content='', additional_kwargs={'function_call': {'name': 'PublicReviews', 'arguments': '{\"query\":\"Barbie movie reviews\"}'}}, response_metadata={'token_usage': <OpenAIObject at 0x7e1af6742cf0> JSON: {\n",
            "  \"prompt_tokens\": 157,\n",
            "  \"completion_tokens\": 17,\n",
            "  \"total_tokens\": 174\n",
            "}, 'model_name': 'gpt-3.5-turbo', 'system_fingerprint': 'fp_3b956da36b', 'finish_reason': 'function_call', 'logprobs': None}, id='run-210bee9e-8213-4254-a314-7da25d50c772-0'), FunctionMessage(content=': 73\\nReview_Date: 29 July 2023\\nAuthor: planktonrules\\nRating: 7\\nReview_Title: Good...not great\\nReview: \"Barbie\" is a movie that is setting all sorts of records, so it\\'s obvious that the film is touching many people. For some, it\\'s the fun of seeing a doll come to life, for others it\\'s the theme of empowerment that make the movie a big hit. As for me, I did like it and thought it was a pretty good movie...but it\\'s not for everyone.\\nReview_Url: /review/rw9209060/?ref_=tt_urv\\n\\n: 120\\nReview_Date: 28 August 2023\\nAuthor: mateosilie\\nRating: 5\\nReview_Title: Lack of Depth\\nReview: Let\\'s start with what I enjoyed. The scenery, costumes and music were very nice but I believe that this movie was way over-hyped. I expected Barbie to be a touching movie that showed the positive and negative effects of this doll on society with a few FUNNY jokes here and there. Instead, I was greeted with an overly dramatic, some would say cringey, movie that sounds badly written. It seems that this movie doesn\\'t fit in any category. It is definitely not a drama, nor a comedy as all the jokes were laughable, but for the wrong reason. The moral of the story is one that can definitely be appreciated, but just isn\\'t suited for this type of movie. A pink doll travelling between the Barbie world and the real world wasn\\'t enough to convey a strong message on the stringent beauty standards that hurt this generation of women. If you are not into Barbie, this movie is definitely not for you.\\n\\n: 129\\nReview_Date: 20 August 2023\\nAuthor: Leofwine_draca\\nRating: 6\\nReview_Title: A real mixed bag\\nReview: BARBIE is a film I find incredibly difficult to both review and rate. On the face of it, the trappings are pitiful and the tone is all over the place. The audience I saw it with were laughing at the dumbest jokes imaginable (like Gosling bouncing off the plastic wave) and missing all of the depth, which is what I personally found appealing. It\\'s very hard to take such a tongue-in-cheek approach seriously, but then you could argue that it\\'s deliberately bad, deliberately plasticky. Not that that excuses the bad acting from the likes of Ferrera et al. Despite this, the film\\'s skewering of the patriarchy is spot-on, and Gosling turns out to be very good, stealing the film from the others. So it\\'s a film I appreciate some parts of, and not others.\\nReview_Url: /review/rw9209060/?ref_=tt_urv\\n\\n: 29\\nReview_Date: 21 November 2023\\nAuthor: sandy777\\nRating: 4\\nReview_Title: Some humorous moments, but the story fell flat\\nReview: Barbie, a movie about the beloved doll and all her identities and her friends, what could go wrong? A lot apparently. It started with voice over narration and went downhill from there. There was too much telling rather than showing. Most of this movie constantly explained everything and often told me how I should feel about it. The writing felt like it was trying too hard to be profound and tried to oversimplify complex subjects and gender roles. There were some funny moments, but a lot of the humor and story were far from subtle. I never felt drawn into the characters and what they were experiencing. The story lacked stakes. I didn\\'t care about Barbie or Ken. In the right hands, this movie could have been fun. But Barbie didn\\'t seem to know what it wanted to be or what story it wanted to tell.\\nReview_Url: /review/rw9209060/?ref_=tt_urv', name='PublicReviews'), AIMessage(content=\"Based on the public reviews of the Barbie movie, it seems that the reception is mixed. Some viewers found the movie to be philosophical and appreciated the depth it offered, while others felt that it lacked depth and was not well-executed.\\n\\nOne reviewer mentioned that the film's skewering of the patriarchy was spot-on and appreciated the depth of the movie. However, another reviewer felt that the movie was overly dramatic and poorly written, with an unclear message that did not fit the Barbie theme.\\n\\nOverall, it appears that the philosophical aspects of the Barbie movie divided opinions among viewers, with some finding it appealing and others feeling that it missed the mark.\"), HumanMessage(content='What is a very quick summary of the plot of the Barbie movie?'), AIMessage(content='', additional_kwargs={'function_call': {'name': 'Wikipedia', 'arguments': '{\"query\":\"Barbie movie plot\"}'}}, response_metadata={'token_usage': <OpenAIObject at 0x7e1af809b470> JSON: {\n",
            "  \"prompt_tokens\": 1138,\n",
            "  \"completion_tokens\": 17,\n",
            "  \"total_tokens\": 1155\n",
            "}, 'model_name': 'gpt-3.5-turbo', 'system_fingerprint': 'fp_3b956da36b', 'finish_reason': 'function_call', 'logprobs': None}, id='run-c8e19690-901a-4b83-8024-5e85fae21346-0'), FunctionMessage(content='Barbie is a 2023 fantasy comedy film directed by Greta Gerwig from a screenplay she wrote with Noah Baumbach. Based on the eponymous fashion dolls by Mattel, it is the first live-action Barbie film after numerous animated films and specials. It stars Margot Robbie as the title character and Ryan Gosling as Ken, and follows them on a journey of self-discovery through both Barbieland and the real world following an existential crisis. It is also a commentary regarding patriarchy and the effects of\\n\\ncomment) which comes closest to actually critiquing Barbie\\'s legacy. ... And that\\'s just it: the movie is hemmed in by the fact that it is, at the end of the day, produced by Mattel.\"', name='Wikipedia'), AIMessage(content=\"The Barbie movie follows the title character, played by Margot Robbie, and Ken, played by Ryan Gosling, on a journey of self-discovery through both Barbieland and the real world following an existential crisis. The film also serves as a commentary on patriarchy and the effects of Barbie's legacy.\"), HumanMessage(content='What did people like about the Barbie movie?'), AIMessage(content='People liked the Barbie movie for various reasons. Some viewers enjoyed the fun of seeing a doll come to life, while others appreciated the theme of empowerment portrayed in the film. Additionally, some viewers found the depth and commentary on patriarchy appealing. The movie also received praise for its scenery, costumes, and music.'), HumanMessage(content='What are some common themes in Barbie movies?'), AIMessage(content='', additional_kwargs={'function_call': {'name': 'Wikipedia', 'arguments': '{\"query\":\"Common themes in Barbie movies\"}'}}, response_metadata={'token_usage': <OpenAIObject at 0x7e1af50bacf0> JSON: {\n",
            "  \"prompt_tokens\": 1474,\n",
            "  \"completion_tokens\": 18,\n",
            "  \"total_tokens\": 1492\n",
            "}, 'model_name': 'gpt-3.5-turbo', 'system_fingerprint': 'fp_3b956da36b', 'finish_reason': 'function_call', 'logprobs': None}, id='run-97e6d1bb-d7ee-4714-9721-dd14b6427def-0'), FunctionMessage(content='Barbie.\\n\\nit\\'s like being a woman today while providing more than a laugh or two in the process.\" Chinese film critic Li Jingfei (李竞菲) praised the film\\'s humor and criticism of patriarchy, qualifying that its themes were too often advanced by slogans rather than the experiences of its characters.', name='Wikipedia'), AIMessage(content='Some common themes in Barbie movies include:\\n\\n1. Empowerment: Many Barbie movies portray themes of empowerment, encouraging viewers to believe in themselves and their abilities.\\n\\n2. Friendship: Friendship is a recurring theme in Barbie movies, emphasizing the importance of loyalty, support, and camaraderie.\\n\\n3. Adventure: Barbie movies often feature adventurous storylines that take viewers on exciting journeys to magical worlds and fantastical settings.\\n\\n4. Self-discovery: Characters in Barbie movies often embark on journeys of self-discovery, learning important lessons about themselves and their place in the world.\\n\\n5. Overcoming challenges: Barbie movies frequently showcase characters overcoming challenges and obstacles, teaching valuable lessons about resilience and determination.\\n\\nThese themes contribute to the positive messages and entertainment value of Barbie movies for audiences of all ages.')], 'output': 'Some common themes in Barbie movies include:\\n\\n1. Empowerment: Many Barbie movies portray themes of empowerment, encouraging viewers to believe in themselves and their abilities.\\n\\n2. Friendship: Friendship is a recurring theme in Barbie movies, emphasizing the importance of loyalty, support, and camaraderie.\\n\\n3. Adventure: Barbie movies often feature adventurous storylines that take viewers on exciting journeys to magical worlds and fantastical settings.\\n\\n4. Self-discovery: Characters in Barbie movies often embark on journeys of self-discovery, learning important lessons about themselves and their place in the world.\\n\\n5. Overcoming challenges: Barbie movies frequently showcase characters overcoming challenges and obstacles, teaching valuable lessons about resilience and determination.\\n\\nThese themes contribute to the positive messages and entertainment value of Barbie movies for audiences of all ages.', 'intermediate_steps': [(AgentActionMessageLog(tool='Wikipedia', tool_input={'query': 'Common themes in Barbie movies'}, log=\"\\nInvoking: `Wikipedia` with `{'query': 'Common themes in Barbie movies'}`\\n\\n\\n\", message_log=[AIMessage(content='', additional_kwargs={'function_call': {'name': 'Wikipedia', 'arguments': '{\"query\":\"Common themes in Barbie movies\"}'}}, response_metadata={'token_usage': <OpenAIObject at 0x7e1af50bacf0> JSON: {\n",
            "  \"prompt_tokens\": 1474,\n",
            "  \"completion_tokens\": 18,\n",
            "  \"total_tokens\": 1492\n",
            "}, 'model_name': 'gpt-3.5-turbo', 'system_fingerprint': 'fp_3b956da36b', 'finish_reason': 'function_call', 'logprobs': None}, id='run-97e6d1bb-d7ee-4714-9721-dd14b6427def-0')]), 'Barbie.\\n\\nit\\'s like being a woman today while providing more than a laugh or two in the process.\" Chinese film critic Li Jingfei (李竞菲) praised the film\\'s humor and criticism of patriarchy, qualifying that its themes were too often advanced by slogans rather than the experiences of its characters.')]}\u001b[0m\n",
            "Thought:\u001b[32;1m\u001b[1;3mI have gathered information about the common themes in Barbie movies. Now, I need to gather information about Oppenheimer to see if there are any similarities in themes or ideas.\n",
            "Action: OppenheimerInfo\n",
            "Action Input: \"What are some common themes in Oppenheimer's work?\"\u001b[0m\n",
            "Observation: \u001b[33;1m\u001b[1;3mcontent=\"Some common themes in Oppenheimer's work include:\\n1. Ethical dilemmas and moral responsibility: The movie explores Oppenheimer's response to the long-term consequences of his actions, particularly in relation to the development of nuclear weapons during World War II.\\n2. Internal conflict and personal struggles: Oppenheimer's psyche and internal conflict are depicted throughout the film, showcasing the personal matters he faced.\\n3. Historical context and societal pressures: The movie delves into the themes of the era, such as the red scare, McCarthyism, and the paranoia surrounding Oppenheimer's work on the atomic bomb.\\n4. Human nature and the impact of scientific advancements: Oppenheimer's work raises questions about the influence of powerful weapons, the pressure on individuals, and the trustworthiness of those in positions of authority.\\n5. Exploration of the complexity of mankind: The film portrays Oppenheimer as a complex figure, not just focusing on the scientific aspects of his work but also on his relationships, motivations, and the broader implications of his actions.\" response_metadata={'token_usage': <OpenAIObject at 0x7e1af5110f90> JSON: {\n",
            "  \"prompt_tokens\": 2416,\n",
            "  \"completion_tokens\": 211,\n",
            "  \"total_tokens\": 2627\n",
            "}, 'model_name': 'gpt-3.5-turbo', 'system_fingerprint': 'fp_3b956da36b', 'finish_reason': 'stop', 'logprobs': None} id='run-6c76427d-2925-4e8f-bfa7-f1e97386bbe0-0'\u001b[0m\n",
            "Thought:\u001b[32;1m\u001b[1;3mI have gathered information about the common themes in Barbie movies and Oppenheimer's work. Let me analyze the similarities to see if they share similar themes or ideas.\n",
            "Final Answer: Based on the information gathered, Barbie movies focus on themes like empowerment, friendship, adventure, self-discovery, and overcoming challenges, while Oppenheimer's work explores ethical dilemmas, internal conflict, historical context, human nature, and the complexity of mankind. While there may be some overlap in themes like personal struggles and ethical dilemmas, the overall themes and ideas in Barbie and Oppenheimer's work are quite different.\u001b[0m\n",
            "\n",
            "\u001b[1m> Finished chain.\u001b[0m\n"
          ]
        },
        {
          "output_type": "execute_result",
          "data": {
            "text/plain": [
              "\"Based on the information gathered, Barbie movies focus on themes like empowerment, friendship, adventure, self-discovery, and overcoming challenges, while Oppenheimer's work explores ethical dilemmas, internal conflict, historical context, human nature, and the complexity of mankind. While there may be some overlap in themes like personal struggles and ethical dilemmas, the overall themes and ideas in Barbie and Oppenheimer's work are quite different.\""
            ],
            "application/vnd.google.colaboratory.intrinsic+json": {
              "type": "string"
            }
          },
          "metadata": {},
          "execution_count": 31
        }
      ]
    },
    {
      "cell_type": "code",
      "source": [],
      "metadata": {
        "id": "RoEnrT_p9E7e"
      },
      "execution_count": null,
      "outputs": []
    }
  ]
}